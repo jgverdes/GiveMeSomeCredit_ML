{
 "cells": [
  {
   "cell_type": "code",
   "execution_count": 5,
   "metadata": {},
   "outputs": [],
   "source": [
    "import pandas as pd\n",
    "import numpy as np\n",
    "import matplotlib.pyplot as plt\n",
    "import seaborn as sns\n",
    "\n",
    "# set seed for reproducibility\n",
    "np.random.seed(42)\n",
    "\n",
    "%matplotlib inline"
   ]
  },
  {
   "cell_type": "code",
   "execution_count": 14,
   "metadata": {},
   "outputs": [
    {
     "name": "stdout",
     "output_type": "stream",
     "text": [
      "Number of rows: 150000\n",
      "Number of columns: 12\n"
     ]
    },
    {
     "data": {
      "text/html": [
       "<div>\n",
       "<style scoped>\n",
       "    .dataframe tbody tr th:only-of-type {\n",
       "        vertical-align: middle;\n",
       "    }\n",
       "\n",
       "    .dataframe tbody tr th {\n",
       "        vertical-align: top;\n",
       "    }\n",
       "\n",
       "    .dataframe thead th {\n",
       "        text-align: right;\n",
       "    }\n",
       "</style>\n",
       "<table border=\"1\" class=\"dataframe\">\n",
       "  <thead>\n",
       "    <tr style=\"text-align: right;\">\n",
       "      <th></th>\n",
       "      <th>Unnamed: 0</th>\n",
       "      <th>SeriousDlqin2yrs</th>\n",
       "      <th>RevolvingUtilizationOfUnsecuredLines</th>\n",
       "      <th>age</th>\n",
       "      <th>NumberOfTime30-59DaysPastDueNotWorse</th>\n",
       "      <th>DebtRatio</th>\n",
       "      <th>MonthlyIncome</th>\n",
       "      <th>NumberOfOpenCreditLinesAndLoans</th>\n",
       "      <th>NumberOfTimes90DaysLate</th>\n",
       "      <th>NumberRealEstateLoansOrLines</th>\n",
       "      <th>NumberOfTime60-89DaysPastDueNotWorse</th>\n",
       "      <th>NumberOfDependents</th>\n",
       "    </tr>\n",
       "  </thead>\n",
       "  <tbody>\n",
       "    <tr>\n",
       "      <th>101144</th>\n",
       "      <td>101145</td>\n",
       "      <td>0</td>\n",
       "      <td>0.069176</td>\n",
       "      <td>60</td>\n",
       "      <td>0</td>\n",
       "      <td>0.229252</td>\n",
       "      <td>11916.0</td>\n",
       "      <td>14</td>\n",
       "      <td>0</td>\n",
       "      <td>1</td>\n",
       "      <td>0</td>\n",
       "      <td>1.0</td>\n",
       "    </tr>\n",
       "    <tr>\n",
       "      <th>121941</th>\n",
       "      <td>121942</td>\n",
       "      <td>0</td>\n",
       "      <td>0.000000</td>\n",
       "      <td>50</td>\n",
       "      <td>0</td>\n",
       "      <td>1.219734</td>\n",
       "      <td>7144.0</td>\n",
       "      <td>13</td>\n",
       "      <td>0</td>\n",
       "      <td>4</td>\n",
       "      <td>0</td>\n",
       "      <td>1.0</td>\n",
       "    </tr>\n",
       "    <tr>\n",
       "      <th>50755</th>\n",
       "      <td>50756</td>\n",
       "      <td>0</td>\n",
       "      <td>0.328569</td>\n",
       "      <td>66</td>\n",
       "      <td>0</td>\n",
       "      <td>0.601431</td>\n",
       "      <td>7265.0</td>\n",
       "      <td>27</td>\n",
       "      <td>0</td>\n",
       "      <td>2</td>\n",
       "      <td>0</td>\n",
       "      <td>0.0</td>\n",
       "    </tr>\n",
       "    <tr>\n",
       "      <th>121395</th>\n",
       "      <td>121396</td>\n",
       "      <td>0</td>\n",
       "      <td>1.000000</td>\n",
       "      <td>39</td>\n",
       "      <td>0</td>\n",
       "      <td>0.031716</td>\n",
       "      <td>4224.0</td>\n",
       "      <td>1</td>\n",
       "      <td>0</td>\n",
       "      <td>0</td>\n",
       "      <td>0</td>\n",
       "      <td>3.0</td>\n",
       "    </tr>\n",
       "    <tr>\n",
       "      <th>132825</th>\n",
       "      <td>132826</td>\n",
       "      <td>0</td>\n",
       "      <td>0.001040</td>\n",
       "      <td>63</td>\n",
       "      <td>0</td>\n",
       "      <td>11.000000</td>\n",
       "      <td>NaN</td>\n",
       "      <td>7</td>\n",
       "      <td>0</td>\n",
       "      <td>0</td>\n",
       "      <td>0</td>\n",
       "      <td>0.0</td>\n",
       "    </tr>\n",
       "  </tbody>\n",
       "</table>\n",
       "</div>"
      ],
      "text/plain": [
       "        Unnamed: 0  SeriousDlqin2yrs  RevolvingUtilizationOfUnsecuredLines  \\\n",
       "101144      101145                 0                              0.069176   \n",
       "121941      121942                 0                              0.000000   \n",
       "50755        50756                 0                              0.328569   \n",
       "121395      121396                 0                              1.000000   \n",
       "132825      132826                 0                              0.001040   \n",
       "\n",
       "        age  NumberOfTime30-59DaysPastDueNotWorse  DebtRatio  MonthlyIncome  \\\n",
       "101144   60                                     0   0.229252        11916.0   \n",
       "121941   50                                     0   1.219734         7144.0   \n",
       "50755    66                                     0   0.601431         7265.0   \n",
       "121395   39                                     0   0.031716         4224.0   \n",
       "132825   63                                     0  11.000000            NaN   \n",
       "\n",
       "        NumberOfOpenCreditLinesAndLoans  NumberOfTimes90DaysLate  \\\n",
       "101144                               14                        0   \n",
       "121941                               13                        0   \n",
       "50755                                27                        0   \n",
       "121395                                1                        0   \n",
       "132825                                7                        0   \n",
       "\n",
       "        NumberRealEstateLoansOrLines  NumberOfTime60-89DaysPastDueNotWorse  \\\n",
       "101144                             1                                     0   \n",
       "121941                             4                                     0   \n",
       "50755                              2                                     0   \n",
       "121395                             0                                     0   \n",
       "132825                             0                                     0   \n",
       "\n",
       "        NumberOfDependents  \n",
       "101144                 1.0  \n",
       "121941                 1.0  \n",
       "50755                  0.0  \n",
       "121395                 3.0  \n",
       "132825                 0.0  "
      ]
     },
     "execution_count": 14,
     "metadata": {},
     "output_type": "execute_result"
    }
   ],
   "source": [
    "credit_train = pd.read_csv('Data/cs-training.csv')\n",
    "print(\"Number of rows: %i\" % credit_train.shape[0])\n",
    "print(\"Number of columns: %i\" % credit_train.shape[1])\n",
    "credit_train.sample(5)"
   ]
  },
  {
   "cell_type": "code",
   "execution_count": 6,
   "metadata": {},
   "outputs": [
    {
     "name": "stdout",
     "output_type": "stream",
     "text": [
      "Number of rows: 101503\n",
      "Number of columns: 12\n"
     ]
    },
    {
     "data": {
      "text/html": [
       "<div>\n",
       "<style scoped>\n",
       "    .dataframe tbody tr th:only-of-type {\n",
       "        vertical-align: middle;\n",
       "    }\n",
       "\n",
       "    .dataframe tbody tr th {\n",
       "        vertical-align: top;\n",
       "    }\n",
       "\n",
       "    .dataframe thead th {\n",
       "        text-align: right;\n",
       "    }\n",
       "</style>\n",
       "<table border=\"1\" class=\"dataframe\">\n",
       "  <thead>\n",
       "    <tr style=\"text-align: right;\">\n",
       "      <th></th>\n",
       "      <th>Unnamed: 0</th>\n",
       "      <th>SeriousDlqin2yrs</th>\n",
       "      <th>RevolvingUtilizationOfUnsecuredLines</th>\n",
       "      <th>age</th>\n",
       "      <th>NumberOfTime30-59DaysPastDueNotWorse</th>\n",
       "      <th>DebtRatio</th>\n",
       "      <th>MonthlyIncome</th>\n",
       "      <th>NumberOfOpenCreditLinesAndLoans</th>\n",
       "      <th>NumberOfTimes90DaysLate</th>\n",
       "      <th>NumberRealEstateLoansOrLines</th>\n",
       "      <th>NumberOfTime60-89DaysPastDueNotWorse</th>\n",
       "      <th>NumberOfDependents</th>\n",
       "    </tr>\n",
       "  </thead>\n",
       "  <tbody>\n",
       "    <tr>\n",
       "      <th>0</th>\n",
       "      <td>1</td>\n",
       "      <td>NaN</td>\n",
       "      <td>0.885519</td>\n",
       "      <td>43</td>\n",
       "      <td>0</td>\n",
       "      <td>0.177513</td>\n",
       "      <td>5700.0</td>\n",
       "      <td>4</td>\n",
       "      <td>0</td>\n",
       "      <td>0</td>\n",
       "      <td>0</td>\n",
       "      <td>0.0</td>\n",
       "    </tr>\n",
       "    <tr>\n",
       "      <th>1</th>\n",
       "      <td>2</td>\n",
       "      <td>NaN</td>\n",
       "      <td>0.463295</td>\n",
       "      <td>57</td>\n",
       "      <td>0</td>\n",
       "      <td>0.527237</td>\n",
       "      <td>9141.0</td>\n",
       "      <td>15</td>\n",
       "      <td>0</td>\n",
       "      <td>4</td>\n",
       "      <td>0</td>\n",
       "      <td>2.0</td>\n",
       "    </tr>\n",
       "    <tr>\n",
       "      <th>2</th>\n",
       "      <td>3</td>\n",
       "      <td>NaN</td>\n",
       "      <td>0.043275</td>\n",
       "      <td>59</td>\n",
       "      <td>0</td>\n",
       "      <td>0.687648</td>\n",
       "      <td>5083.0</td>\n",
       "      <td>12</td>\n",
       "      <td>0</td>\n",
       "      <td>1</td>\n",
       "      <td>0</td>\n",
       "      <td>2.0</td>\n",
       "    </tr>\n",
       "    <tr>\n",
       "      <th>3</th>\n",
       "      <td>4</td>\n",
       "      <td>NaN</td>\n",
       "      <td>0.280308</td>\n",
       "      <td>38</td>\n",
       "      <td>1</td>\n",
       "      <td>0.925961</td>\n",
       "      <td>3200.0</td>\n",
       "      <td>7</td>\n",
       "      <td>0</td>\n",
       "      <td>2</td>\n",
       "      <td>0</td>\n",
       "      <td>0.0</td>\n",
       "    </tr>\n",
       "    <tr>\n",
       "      <th>4</th>\n",
       "      <td>5</td>\n",
       "      <td>NaN</td>\n",
       "      <td>1.000000</td>\n",
       "      <td>27</td>\n",
       "      <td>0</td>\n",
       "      <td>0.019917</td>\n",
       "      <td>3865.0</td>\n",
       "      <td>4</td>\n",
       "      <td>0</td>\n",
       "      <td>0</td>\n",
       "      <td>0</td>\n",
       "      <td>1.0</td>\n",
       "    </tr>\n",
       "  </tbody>\n",
       "</table>\n",
       "</div>"
      ],
      "text/plain": [
       "   Unnamed: 0  SeriousDlqin2yrs  RevolvingUtilizationOfUnsecuredLines  age  \\\n",
       "0           1               NaN                              0.885519   43   \n",
       "1           2               NaN                              0.463295   57   \n",
       "2           3               NaN                              0.043275   59   \n",
       "3           4               NaN                              0.280308   38   \n",
       "4           5               NaN                              1.000000   27   \n",
       "\n",
       "   NumberOfTime30-59DaysPastDueNotWorse  DebtRatio  MonthlyIncome  \\\n",
       "0                                     0   0.177513         5700.0   \n",
       "1                                     0   0.527237         9141.0   \n",
       "2                                     0   0.687648         5083.0   \n",
       "3                                     1   0.925961         3200.0   \n",
       "4                                     0   0.019917         3865.0   \n",
       "\n",
       "   NumberOfOpenCreditLinesAndLoans  NumberOfTimes90DaysLate  \\\n",
       "0                                4                        0   \n",
       "1                               15                        0   \n",
       "2                               12                        0   \n",
       "3                                7                        0   \n",
       "4                                4                        0   \n",
       "\n",
       "   NumberRealEstateLoansOrLines  NumberOfTime60-89DaysPastDueNotWorse  \\\n",
       "0                             0                                     0   \n",
       "1                             4                                     0   \n",
       "2                             1                                     0   \n",
       "3                             2                                     0   \n",
       "4                             0                                     0   \n",
       "\n",
       "   NumberOfDependents  \n",
       "0                 0.0  \n",
       "1                 2.0  \n",
       "2                 2.0  \n",
       "3                 0.0  \n",
       "4                 1.0  "
      ]
     },
     "execution_count": 6,
     "metadata": {},
     "output_type": "execute_result"
    }
   ],
   "source": [
    "credit_test = pd.read_csv('Data/cs-test.csv')\n",
    "print(\"Number of rows: %i\" % credit_test.shape[0])\n",
    "print(\"Number of columns: %i\" % credit_test.shape[1])\n",
    "credit_test.head()"
   ]
  },
  {
   "cell_type": "code",
   "execution_count": 4,
   "metadata": {},
   "outputs": [
    {
     "name": "stdout",
     "output_type": "stream",
     "text": [
      "<class 'pandas.core.frame.DataFrame'>\n",
      "RangeIndex: 150000 entries, 0 to 149999\n",
      "Data columns (total 12 columns):\n",
      " #   Column                                Non-Null Count   Dtype  \n",
      "---  ------                                --------------   -----  \n",
      " 0   Unnamed: 0                            150000 non-null  int64  \n",
      " 1   SeriousDlqin2yrs                      150000 non-null  int64  \n",
      " 2   RevolvingUtilizationOfUnsecuredLines  150000 non-null  float64\n",
      " 3   age                                   150000 non-null  int64  \n",
      " 4   NumberOfTime30-59DaysPastDueNotWorse  150000 non-null  int64  \n",
      " 5   DebtRatio                             150000 non-null  float64\n",
      " 6   MonthlyIncome                         120269 non-null  float64\n",
      " 7   NumberOfOpenCreditLinesAndLoans       150000 non-null  int64  \n",
      " 8   NumberOfTimes90DaysLate               150000 non-null  int64  \n",
      " 9   NumberRealEstateLoansOrLines          150000 non-null  int64  \n",
      " 10  NumberOfTime60-89DaysPastDueNotWorse  150000 non-null  int64  \n",
      " 11  NumberOfDependents                    146076 non-null  float64\n",
      "dtypes: float64(4), int64(8)\n",
      "memory usage: 13.7 MB\n"
     ]
    }
   ],
   "source": [
    "credit_train.info()"
   ]
  },
  {
   "cell_type": "code",
   "execution_count": 7,
   "metadata": {},
   "outputs": [
    {
     "name": "stdout",
     "output_type": "stream",
     "text": [
      "<class 'pandas.core.frame.DataFrame'>\n",
      "RangeIndex: 101503 entries, 0 to 101502\n",
      "Data columns (total 12 columns):\n",
      " #   Column                                Non-Null Count   Dtype  \n",
      "---  ------                                --------------   -----  \n",
      " 0   Unnamed: 0                            101503 non-null  int64  \n",
      " 1   SeriousDlqin2yrs                      0 non-null       float64\n",
      " 2   RevolvingUtilizationOfUnsecuredLines  101503 non-null  float64\n",
      " 3   age                                   101503 non-null  int64  \n",
      " 4   NumberOfTime30-59DaysPastDueNotWorse  101503 non-null  int64  \n",
      " 5   DebtRatio                             101503 non-null  float64\n",
      " 6   MonthlyIncome                         81400 non-null   float64\n",
      " 7   NumberOfOpenCreditLinesAndLoans       101503 non-null  int64  \n",
      " 8   NumberOfTimes90DaysLate               101503 non-null  int64  \n",
      " 9   NumberRealEstateLoansOrLines          101503 non-null  int64  \n",
      " 10  NumberOfTime60-89DaysPastDueNotWorse  101503 non-null  int64  \n",
      " 11  NumberOfDependents                    98877 non-null   float64\n",
      "dtypes: float64(5), int64(7)\n",
      "memory usage: 9.3 MB\n"
     ]
    }
   ],
   "source": [
    "credit_test.info()"
   ]
  },
  {
   "cell_type": "code",
   "execution_count": 8,
   "metadata": {},
   "outputs": [],
   "source": [
    "# Copy original datasets so that we have them in case we make changes to them\n",
    "credit_train_original = credit_train.copy()\n",
    "credit_test_original = credit_test.copy()"
   ]
  },
  {
   "cell_type": "code",
   "execution_count": 15,
   "metadata": {},
   "outputs": [
    {
     "data": {
      "text/html": [
       "<div>\n",
       "<style scoped>\n",
       "    .dataframe tbody tr th:only-of-type {\n",
       "        vertical-align: middle;\n",
       "    }\n",
       "\n",
       "    .dataframe tbody tr th {\n",
       "        vertical-align: top;\n",
       "    }\n",
       "\n",
       "    .dataframe thead th {\n",
       "        text-align: right;\n",
       "    }\n",
       "</style>\n",
       "<table border=\"1\" class=\"dataframe\">\n",
       "  <thead>\n",
       "    <tr style=\"text-align: right;\">\n",
       "      <th></th>\n",
       "      <th>SeriousDlqin2yrs</th>\n",
       "      <th>RevolvingUtilizationOfUnsecuredLines</th>\n",
       "      <th>age</th>\n",
       "      <th>NumberOfTime30-59DaysPastDueNotWorse</th>\n",
       "      <th>DebtRatio</th>\n",
       "      <th>MonthlyIncome</th>\n",
       "      <th>NumberOfOpenCreditLinesAndLoans</th>\n",
       "      <th>NumberOfTimes90DaysLate</th>\n",
       "      <th>NumberRealEstateLoansOrLines</th>\n",
       "      <th>NumberOfTime60-89DaysPastDueNotWorse</th>\n",
       "      <th>NumberOfDependents</th>\n",
       "    </tr>\n",
       "  </thead>\n",
       "  <tbody>\n",
       "    <tr>\n",
       "      <th>0</th>\n",
       "      <td>1</td>\n",
       "      <td>0.766127</td>\n",
       "      <td>45</td>\n",
       "      <td>2</td>\n",
       "      <td>0.802982</td>\n",
       "      <td>9120.0</td>\n",
       "      <td>13</td>\n",
       "      <td>0</td>\n",
       "      <td>6</td>\n",
       "      <td>0</td>\n",
       "      <td>2.0</td>\n",
       "    </tr>\n",
       "    <tr>\n",
       "      <th>1</th>\n",
       "      <td>0</td>\n",
       "      <td>0.957151</td>\n",
       "      <td>40</td>\n",
       "      <td>0</td>\n",
       "      <td>0.121876</td>\n",
       "      <td>2600.0</td>\n",
       "      <td>4</td>\n",
       "      <td>0</td>\n",
       "      <td>0</td>\n",
       "      <td>0</td>\n",
       "      <td>1.0</td>\n",
       "    </tr>\n",
       "    <tr>\n",
       "      <th>2</th>\n",
       "      <td>0</td>\n",
       "      <td>0.658180</td>\n",
       "      <td>38</td>\n",
       "      <td>1</td>\n",
       "      <td>0.085113</td>\n",
       "      <td>3042.0</td>\n",
       "      <td>2</td>\n",
       "      <td>1</td>\n",
       "      <td>0</td>\n",
       "      <td>0</td>\n",
       "      <td>0.0</td>\n",
       "    </tr>\n",
       "    <tr>\n",
       "      <th>3</th>\n",
       "      <td>0</td>\n",
       "      <td>0.233810</td>\n",
       "      <td>30</td>\n",
       "      <td>0</td>\n",
       "      <td>0.036050</td>\n",
       "      <td>3300.0</td>\n",
       "      <td>5</td>\n",
       "      <td>0</td>\n",
       "      <td>0</td>\n",
       "      <td>0</td>\n",
       "      <td>0.0</td>\n",
       "    </tr>\n",
       "    <tr>\n",
       "      <th>4</th>\n",
       "      <td>0</td>\n",
       "      <td>0.907239</td>\n",
       "      <td>49</td>\n",
       "      <td>1</td>\n",
       "      <td>0.024926</td>\n",
       "      <td>63588.0</td>\n",
       "      <td>7</td>\n",
       "      <td>0</td>\n",
       "      <td>1</td>\n",
       "      <td>0</td>\n",
       "      <td>0.0</td>\n",
       "    </tr>\n",
       "  </tbody>\n",
       "</table>\n",
       "</div>"
      ],
      "text/plain": [
       "   SeriousDlqin2yrs  RevolvingUtilizationOfUnsecuredLines  age  \\\n",
       "0                 1                              0.766127   45   \n",
       "1                 0                              0.957151   40   \n",
       "2                 0                              0.658180   38   \n",
       "3                 0                              0.233810   30   \n",
       "4                 0                              0.907239   49   \n",
       "\n",
       "   NumberOfTime30-59DaysPastDueNotWorse  DebtRatio  MonthlyIncome  \\\n",
       "0                                     2   0.802982         9120.0   \n",
       "1                                     0   0.121876         2600.0   \n",
       "2                                     1   0.085113         3042.0   \n",
       "3                                     0   0.036050         3300.0   \n",
       "4                                     1   0.024926        63588.0   \n",
       "\n",
       "   NumberOfOpenCreditLinesAndLoans  NumberOfTimes90DaysLate  \\\n",
       "0                               13                        0   \n",
       "1                                4                        0   \n",
       "2                                2                        1   \n",
       "3                                5                        0   \n",
       "4                                7                        0   \n",
       "\n",
       "   NumberRealEstateLoansOrLines  NumberOfTime60-89DaysPastDueNotWorse  \\\n",
       "0                             6                                     0   \n",
       "1                             0                                     0   \n",
       "2                             0                                     0   \n",
       "3                             0                                     0   \n",
       "4                             1                                     0   \n",
       "\n",
       "   NumberOfDependents  \n",
       "0                 2.0  \n",
       "1                 1.0  \n",
       "2                 0.0  \n",
       "3                 0.0  \n",
       "4                 0.0  "
      ]
     },
     "execution_count": 15,
     "metadata": {},
     "output_type": "execute_result"
    }
   ],
   "source": [
    "# Unnamed: 0 is an id. No use for analysis. CAN BE DROPPED - train\n",
    "credit_train = credit_train.drop('Unnamed: 0', axis=1)\n",
    "credit_train.head()"
   ]
  },
  {
   "cell_type": "code",
   "execution_count": 16,
   "metadata": {},
   "outputs": [
    {
     "data": {
      "text/html": [
       "<div>\n",
       "<style scoped>\n",
       "    .dataframe tbody tr th:only-of-type {\n",
       "        vertical-align: middle;\n",
       "    }\n",
       "\n",
       "    .dataframe tbody tr th {\n",
       "        vertical-align: top;\n",
       "    }\n",
       "\n",
       "    .dataframe thead th {\n",
       "        text-align: right;\n",
       "    }\n",
       "</style>\n",
       "<table border=\"1\" class=\"dataframe\">\n",
       "  <thead>\n",
       "    <tr style=\"text-align: right;\">\n",
       "      <th></th>\n",
       "      <th>SeriousDlqin2yrs</th>\n",
       "      <th>RevolvingUtilizationOfUnsecuredLines</th>\n",
       "      <th>age</th>\n",
       "      <th>NumberOfTime30-59DaysPastDueNotWorse</th>\n",
       "      <th>DebtRatio</th>\n",
       "      <th>MonthlyIncome</th>\n",
       "      <th>NumberOfOpenCreditLinesAndLoans</th>\n",
       "      <th>NumberOfTimes90DaysLate</th>\n",
       "      <th>NumberRealEstateLoansOrLines</th>\n",
       "      <th>NumberOfTime60-89DaysPastDueNotWorse</th>\n",
       "      <th>NumberOfDependents</th>\n",
       "    </tr>\n",
       "  </thead>\n",
       "  <tbody>\n",
       "    <tr>\n",
       "      <th>0</th>\n",
       "      <td>NaN</td>\n",
       "      <td>0.885519</td>\n",
       "      <td>43</td>\n",
       "      <td>0</td>\n",
       "      <td>0.177513</td>\n",
       "      <td>5700.0</td>\n",
       "      <td>4</td>\n",
       "      <td>0</td>\n",
       "      <td>0</td>\n",
       "      <td>0</td>\n",
       "      <td>0.0</td>\n",
       "    </tr>\n",
       "    <tr>\n",
       "      <th>1</th>\n",
       "      <td>NaN</td>\n",
       "      <td>0.463295</td>\n",
       "      <td>57</td>\n",
       "      <td>0</td>\n",
       "      <td>0.527237</td>\n",
       "      <td>9141.0</td>\n",
       "      <td>15</td>\n",
       "      <td>0</td>\n",
       "      <td>4</td>\n",
       "      <td>0</td>\n",
       "      <td>2.0</td>\n",
       "    </tr>\n",
       "    <tr>\n",
       "      <th>2</th>\n",
       "      <td>NaN</td>\n",
       "      <td>0.043275</td>\n",
       "      <td>59</td>\n",
       "      <td>0</td>\n",
       "      <td>0.687648</td>\n",
       "      <td>5083.0</td>\n",
       "      <td>12</td>\n",
       "      <td>0</td>\n",
       "      <td>1</td>\n",
       "      <td>0</td>\n",
       "      <td>2.0</td>\n",
       "    </tr>\n",
       "    <tr>\n",
       "      <th>3</th>\n",
       "      <td>NaN</td>\n",
       "      <td>0.280308</td>\n",
       "      <td>38</td>\n",
       "      <td>1</td>\n",
       "      <td>0.925961</td>\n",
       "      <td>3200.0</td>\n",
       "      <td>7</td>\n",
       "      <td>0</td>\n",
       "      <td>2</td>\n",
       "      <td>0</td>\n",
       "      <td>0.0</td>\n",
       "    </tr>\n",
       "    <tr>\n",
       "      <th>4</th>\n",
       "      <td>NaN</td>\n",
       "      <td>1.000000</td>\n",
       "      <td>27</td>\n",
       "      <td>0</td>\n",
       "      <td>0.019917</td>\n",
       "      <td>3865.0</td>\n",
       "      <td>4</td>\n",
       "      <td>0</td>\n",
       "      <td>0</td>\n",
       "      <td>0</td>\n",
       "      <td>1.0</td>\n",
       "    </tr>\n",
       "  </tbody>\n",
       "</table>\n",
       "</div>"
      ],
      "text/plain": [
       "   SeriousDlqin2yrs  RevolvingUtilizationOfUnsecuredLines  age  \\\n",
       "0               NaN                              0.885519   43   \n",
       "1               NaN                              0.463295   57   \n",
       "2               NaN                              0.043275   59   \n",
       "3               NaN                              0.280308   38   \n",
       "4               NaN                              1.000000   27   \n",
       "\n",
       "   NumberOfTime30-59DaysPastDueNotWorse  DebtRatio  MonthlyIncome  \\\n",
       "0                                     0   0.177513         5700.0   \n",
       "1                                     0   0.527237         9141.0   \n",
       "2                                     0   0.687648         5083.0   \n",
       "3                                     1   0.925961         3200.0   \n",
       "4                                     0   0.019917         3865.0   \n",
       "\n",
       "   NumberOfOpenCreditLinesAndLoans  NumberOfTimes90DaysLate  \\\n",
       "0                                4                        0   \n",
       "1                               15                        0   \n",
       "2                               12                        0   \n",
       "3                                7                        0   \n",
       "4                                4                        0   \n",
       "\n",
       "   NumberRealEstateLoansOrLines  NumberOfTime60-89DaysPastDueNotWorse  \\\n",
       "0                             0                                     0   \n",
       "1                             4                                     0   \n",
       "2                             1                                     0   \n",
       "3                             2                                     0   \n",
       "4                             0                                     0   \n",
       "\n",
       "   NumberOfDependents  \n",
       "0                 0.0  \n",
       "1                 2.0  \n",
       "2                 2.0  \n",
       "3                 0.0  \n",
       "4                 1.0  "
      ]
     },
     "execution_count": 16,
     "metadata": {},
     "output_type": "execute_result"
    }
   ],
   "source": [
    "# Unnamed: 0 is an id. No use for analysis. CAN BE DROPPED - test\n",
    "credit_test.drop('Unnamed: 0', axis=1, inplace=True)\n",
    "credit_test.head()"
   ]
  },
  {
   "cell_type": "code",
   "execution_count": 21,
   "metadata": {},
   "outputs": [
    {
     "data": {
      "text/html": [
       "<div>\n",
       "<style scoped>\n",
       "    .dataframe tbody tr th:only-of-type {\n",
       "        vertical-align: middle;\n",
       "    }\n",
       "\n",
       "    .dataframe tbody tr th {\n",
       "        vertical-align: top;\n",
       "    }\n",
       "\n",
       "    .dataframe thead th {\n",
       "        text-align: right;\n",
       "    }\n",
       "</style>\n",
       "<table border=\"1\" class=\"dataframe\">\n",
       "  <thead>\n",
       "    <tr style=\"text-align: right;\">\n",
       "      <th></th>\n",
       "      <th>SeriousDlqin2yrs</th>\n",
       "      <th>RevolvingUtilizationOfUnsecuredLines</th>\n",
       "      <th>age</th>\n",
       "      <th>NumberOfTime30-59DaysPastDueNotWorse</th>\n",
       "      <th>DebtRatio</th>\n",
       "      <th>MonthlyIncome</th>\n",
       "      <th>NumberOfOpenCreditLinesAndLoans</th>\n",
       "      <th>NumberOfTimes90DaysLate</th>\n",
       "      <th>NumberRealEstateLoansOrLines</th>\n",
       "      <th>NumberOfTime60-89DaysPastDueNotWorse</th>\n",
       "      <th>NumberOfDependents</th>\n",
       "    </tr>\n",
       "  </thead>\n",
       "  <tbody>\n",
       "    <tr>\n",
       "      <th>count</th>\n",
       "      <td>150000.000000</td>\n",
       "      <td>150000.000000</td>\n",
       "      <td>150000.000000</td>\n",
       "      <td>150000.000000</td>\n",
       "      <td>150000.000000</td>\n",
       "      <td>1.202690e+05</td>\n",
       "      <td>150000.000000</td>\n",
       "      <td>150000.000000</td>\n",
       "      <td>150000.000000</td>\n",
       "      <td>150000.000000</td>\n",
       "      <td>146076.000000</td>\n",
       "    </tr>\n",
       "    <tr>\n",
       "      <th>mean</th>\n",
       "      <td>0.066840</td>\n",
       "      <td>6.048438</td>\n",
       "      <td>52.295207</td>\n",
       "      <td>0.421033</td>\n",
       "      <td>353.005076</td>\n",
       "      <td>6.670221e+03</td>\n",
       "      <td>8.452760</td>\n",
       "      <td>0.265973</td>\n",
       "      <td>1.018240</td>\n",
       "      <td>0.240387</td>\n",
       "      <td>0.757222</td>\n",
       "    </tr>\n",
       "    <tr>\n",
       "      <th>std</th>\n",
       "      <td>0.249746</td>\n",
       "      <td>249.755371</td>\n",
       "      <td>14.771866</td>\n",
       "      <td>4.192781</td>\n",
       "      <td>2037.818523</td>\n",
       "      <td>1.438467e+04</td>\n",
       "      <td>5.145951</td>\n",
       "      <td>4.169304</td>\n",
       "      <td>1.129771</td>\n",
       "      <td>4.155179</td>\n",
       "      <td>1.115086</td>\n",
       "    </tr>\n",
       "    <tr>\n",
       "      <th>min</th>\n",
       "      <td>0.000000</td>\n",
       "      <td>0.000000</td>\n",
       "      <td>0.000000</td>\n",
       "      <td>0.000000</td>\n",
       "      <td>0.000000</td>\n",
       "      <td>0.000000e+00</td>\n",
       "      <td>0.000000</td>\n",
       "      <td>0.000000</td>\n",
       "      <td>0.000000</td>\n",
       "      <td>0.000000</td>\n",
       "      <td>0.000000</td>\n",
       "    </tr>\n",
       "    <tr>\n",
       "      <th>25%</th>\n",
       "      <td>0.000000</td>\n",
       "      <td>0.029867</td>\n",
       "      <td>41.000000</td>\n",
       "      <td>0.000000</td>\n",
       "      <td>0.175074</td>\n",
       "      <td>3.400000e+03</td>\n",
       "      <td>5.000000</td>\n",
       "      <td>0.000000</td>\n",
       "      <td>0.000000</td>\n",
       "      <td>0.000000</td>\n",
       "      <td>0.000000</td>\n",
       "    </tr>\n",
       "    <tr>\n",
       "      <th>50%</th>\n",
       "      <td>0.000000</td>\n",
       "      <td>0.154181</td>\n",
       "      <td>52.000000</td>\n",
       "      <td>0.000000</td>\n",
       "      <td>0.366508</td>\n",
       "      <td>5.400000e+03</td>\n",
       "      <td>8.000000</td>\n",
       "      <td>0.000000</td>\n",
       "      <td>1.000000</td>\n",
       "      <td>0.000000</td>\n",
       "      <td>0.000000</td>\n",
       "    </tr>\n",
       "    <tr>\n",
       "      <th>75%</th>\n",
       "      <td>0.000000</td>\n",
       "      <td>0.559046</td>\n",
       "      <td>63.000000</td>\n",
       "      <td>0.000000</td>\n",
       "      <td>0.868254</td>\n",
       "      <td>8.249000e+03</td>\n",
       "      <td>11.000000</td>\n",
       "      <td>0.000000</td>\n",
       "      <td>2.000000</td>\n",
       "      <td>0.000000</td>\n",
       "      <td>1.000000</td>\n",
       "    </tr>\n",
       "    <tr>\n",
       "      <th>max</th>\n",
       "      <td>1.000000</td>\n",
       "      <td>50708.000000</td>\n",
       "      <td>109.000000</td>\n",
       "      <td>98.000000</td>\n",
       "      <td>329664.000000</td>\n",
       "      <td>3.008750e+06</td>\n",
       "      <td>58.000000</td>\n",
       "      <td>98.000000</td>\n",
       "      <td>54.000000</td>\n",
       "      <td>98.000000</td>\n",
       "      <td>20.000000</td>\n",
       "    </tr>\n",
       "  </tbody>\n",
       "</table>\n",
       "</div>"
      ],
      "text/plain": [
       "       SeriousDlqin2yrs  RevolvingUtilizationOfUnsecuredLines            age  \\\n",
       "count     150000.000000                         150000.000000  150000.000000   \n",
       "mean           0.066840                              6.048438      52.295207   \n",
       "std            0.249746                            249.755371      14.771866   \n",
       "min            0.000000                              0.000000       0.000000   \n",
       "25%            0.000000                              0.029867      41.000000   \n",
       "50%            0.000000                              0.154181      52.000000   \n",
       "75%            0.000000                              0.559046      63.000000   \n",
       "max            1.000000                          50708.000000     109.000000   \n",
       "\n",
       "       NumberOfTime30-59DaysPastDueNotWorse      DebtRatio  MonthlyIncome  \\\n",
       "count                         150000.000000  150000.000000   1.202690e+05   \n",
       "mean                               0.421033     353.005076   6.670221e+03   \n",
       "std                                4.192781    2037.818523   1.438467e+04   \n",
       "min                                0.000000       0.000000   0.000000e+00   \n",
       "25%                                0.000000       0.175074   3.400000e+03   \n",
       "50%                                0.000000       0.366508   5.400000e+03   \n",
       "75%                                0.000000       0.868254   8.249000e+03   \n",
       "max                               98.000000  329664.000000   3.008750e+06   \n",
       "\n",
       "       NumberOfOpenCreditLinesAndLoans  NumberOfTimes90DaysLate  \\\n",
       "count                    150000.000000            150000.000000   \n",
       "mean                          8.452760                 0.265973   \n",
       "std                           5.145951                 4.169304   \n",
       "min                           0.000000                 0.000000   \n",
       "25%                           5.000000                 0.000000   \n",
       "50%                           8.000000                 0.000000   \n",
       "75%                          11.000000                 0.000000   \n",
       "max                          58.000000                98.000000   \n",
       "\n",
       "       NumberRealEstateLoansOrLines  NumberOfTime60-89DaysPastDueNotWorse  \\\n",
       "count                 150000.000000                         150000.000000   \n",
       "mean                       1.018240                              0.240387   \n",
       "std                        1.129771                              4.155179   \n",
       "min                        0.000000                              0.000000   \n",
       "25%                        0.000000                              0.000000   \n",
       "50%                        1.000000                              0.000000   \n",
       "75%                        2.000000                              0.000000   \n",
       "max                       54.000000                             98.000000   \n",
       "\n",
       "       NumberOfDependents  \n",
       "count       146076.000000  \n",
       "mean             0.757222  \n",
       "std              1.115086  \n",
       "min              0.000000  \n",
       "25%              0.000000  \n",
       "50%              0.000000  \n",
       "75%              1.000000  \n",
       "max             20.000000  "
      ]
     },
     "execution_count": 21,
     "metadata": {},
     "output_type": "execute_result"
    }
   ],
   "source": [
    "credit_train.describe()"
   ]
  },
  {
   "cell_type": "markdown",
   "metadata": {},
   "source": [
    "#### MISSING VALUES : MonthlyIncome and NumberOfDependents. Need to deal with them"
   ]
  },
  {
   "cell_type": "code",
   "execution_count": 26,
   "metadata": {},
   "outputs": [
    {
     "data": {
      "image/png": "[encoded data removed]",
      "text/plain": [
       "<Figure size 720x216 with 1 Axes>"
      ]
     },
     "metadata": {
      "needs_background": "light"
     },
     "output_type": "display_data"
    }
   ],
   "source": [
    "# Lets see them in a graph\n",
    "\n",
    "cols = credit_train.columns\n",
    "nullcounts = []\n",
    "value_counts = []\n",
    "for col in cols:\n",
    "    nullcounts.append(credit_train[col].isnull().sum())\n",
    "    value_counts.append(credit_train[col].shape[0] - credit_train[col].isnull().sum())\n",
    "\n",
    "fig, ax = plt.subplots(figsize=(10,3))\n",
    "ax.barh(cols, value_counts, label='not missing')\n",
    "ax.barh(cols, nullcounts, label='missing', left=value_counts)\n",
    "ax.set_xlabel('Value Count')\n",
    "ax.set_ylabel('Labels')\n",
    "plt.show()"
   ]
  },
  {
   "cell_type": "code",
   "execution_count": 18,
   "metadata": {},
   "outputs": [
    {
     "data": {
      "text/plain": [
       "3924"
      ]
     },
     "execution_count": 18,
     "metadata": {},
     "output_type": "execute_result"
    }
   ],
   "source": [
    "# NUMBER OF DEPENDENTS\n",
    "# number of missing\n",
    "\n",
    "credit_train['NumberOfDependents'].isnull().sum()"
   ]
  },
  {
   "cell_type": "code",
   "execution_count": 19,
   "metadata": {},
   "outputs": [
    {
     "data": {
      "image/png": "[encoded data removed]",
      "text/plain": [
       "<Figure size 1080x504 with 2 Axes>"
      ]
     },
     "metadata": {
      "needs_background": "light"
     },
     "output_type": "display_data"
    }
   ],
   "source": [
    "f, axes = plt.subplots(nrows=1,\n",
    "                       ncols=2, \n",
    "                       figsize=(15,7))\n",
    "sns.histplot(data=credit_train['NumberOfDependents'], color=\"olive\", ax=axes[0], bins=20, kde=True);\n",
    "sns.boxplot(data=credit_train, ax=axes[1], x='NumberOfDependents');"
   ]
  },
  {
   "cell_type": "code",
   "execution_count": 22,
   "metadata": {},
   "outputs": [
    {
     "data": {
      "text/plain": [
       "count    146076.000000\n",
       "mean          0.757222\n",
       "std           1.115086\n",
       "min           0.000000\n",
       "25%           0.000000\n",
       "50%           0.000000\n",
       "75%           1.000000\n",
       "max          20.000000\n",
       "Name: NumberOfDependents, dtype: float64"
      ]
     },
     "execution_count": 22,
     "metadata": {},
     "output_type": "execute_result"
    }
   ],
   "source": [
    "credit_train['NumberOfDependents'].describe()"
   ]
  },
  {
   "cell_type": "code",
   "execution_count": null,
   "metadata": {},
   "outputs": [],
   "source": [
    "# We will fill the missing number of dependents with 0:\n",
    "# 1/ it is the median\n",
    "# 2/ we will assume it is not filled in because the borrower has no dependents\n",
    "# We will change it to integer, as per the data dictionary, after filling in the missing values"
   ]
  },
  {
   "cell_type": "code",
   "execution_count": null,
   "metadata": {},
   "outputs": [],
   "source": [
    "# MONTHLY INCOME\n",
    "# Number of missings"
   ]
  },
  {
   "cell_type": "code",
   "execution_count": 24,
   "metadata": {},
   "outputs": [
    {
     "data": {
      "text/plain": [
       "29731"
      ]
     },
     "execution_count": 24,
     "metadata": {},
     "output_type": "execute_result"
    }
   ],
   "source": [
    "credit_train['MonthlyIncome'].isnull().sum()"
   ]
  },
  {
   "cell_type": "code",
   "execution_count": 28,
   "metadata": {
    "collapsed": true,
    "jupyter": {
     "outputs_hidden": true
    }
   },
   "outputs": [
    {
     "data": {
      "text/plain": [
       "0.0     1634\n",
       "1.0      605\n",
       "2.0        6\n",
       "50.0       4\n",
       "40.0       3\n",
       "27.0       2\n",
       "5.0        2\n",
       "70.0       2\n",
       "4.0        2\n",
       "10.0       2\n",
       "69.0       1\n",
       "83.0       1\n",
       "21.0       1\n",
       "55.0       1\n",
       "25.0       1\n",
       "72.0       1\n",
       "56.0       1\n",
       "42.0       1\n",
       "84.0       1\n",
       "7.0        1\n",
       "9.0        1\n",
       "11.0       1\n",
       "34.0       1\n",
       "15.0       1\n",
       "75.0       1\n",
       "Name: MonthlyIncome, dtype: int64"
      ]
     },
     "execution_count": 28,
     "metadata": {},
     "output_type": "execute_result"
    }
   ],
   "source": [
    "# According to the data dictionary, the 'DebtRatio' is 'Monthly debt payments, alimony,living costs divided\n",
    "# by monthly gross income' - what are the values for this field when income is missing, 0, 1\n",
    "\n",
    "credit_train[credit_train['MonthlyIncome'] < 100]['MonthlyIncome'].value_counts()"
   ]
  },
  {
   "cell_type": "code",
   "execution_count": 29,
   "metadata": {},
   "outputs": [
    {
     "data": {
      "text/plain": [
       "count     2277.000000\n",
       "mean      1384.768285\n",
       "std       2763.802927\n",
       "min          0.000000\n",
       "25%         89.000000\n",
       "50%        752.000000\n",
       "75%       1865.000000\n",
       "max      61106.500000\n",
       "Name: DebtRatio, dtype: float64"
      ]
     },
     "execution_count": 29,
     "metadata": {},
     "output_type": "execute_result"
    }
   ],
   "source": [
    "credit_train[credit_train['MonthlyIncome'] < 100]['DebtRatio'].describe()"
   ]
  },
  {
   "cell_type": "code",
   "execution_count": 30,
   "metadata": {},
   "outputs": [
    {
     "data": {
      "text/plain": [
       "count    150000.000000\n",
       "mean        353.005076\n",
       "std        2037.818523\n",
       "min           0.000000\n",
       "25%           0.175074\n",
       "50%           0.366508\n",
       "75%           0.868254\n",
       "max      329664.000000\n",
       "Name: DebtRatio, dtype: float64"
      ]
     },
     "execution_count": 30,
     "metadata": {},
     "output_type": "execute_result"
    }
   ],
   "source": [
    "credit_train['DebtRatio'].describe()"
   ]
  },
  {
   "cell_type": "code",
   "execution_count": 33,
   "metadata": {},
   "outputs": [
    {
     "data": {
      "text/plain": [
       "count     2239.000000\n",
       "mean      1406.769540\n",
       "std       2781.919015\n",
       "min          0.000000\n",
       "25%         98.000000\n",
       "50%        779.500000\n",
       "75%       1883.500000\n",
       "max      61106.500000\n",
       "Name: DebtRatio, dtype: float64"
      ]
     },
     "execution_count": 33,
     "metadata": {},
     "output_type": "execute_result"
    }
   ],
   "source": [
    "credit_train[credit_train['MonthlyIncome'] <= 1]['DebtRatio'].describe()"
   ]
  },
  {
   "cell_type": "code",
   "execution_count": 34,
   "metadata": {},
   "outputs": [
    {
     "data": {
      "text/plain": [
       "count     29731.000000\n",
       "mean       1673.396556\n",
       "std        4248.372895\n",
       "min           0.000000\n",
       "25%         123.000000\n",
       "50%        1159.000000\n",
       "75%        2382.000000\n",
       "max      329664.000000\n",
       "Name: DebtRatio, dtype: float64"
      ]
     },
     "execution_count": 34,
     "metadata": {},
     "output_type": "execute_result"
    }
   ],
   "source": [
    "credit_train[credit_train['MonthlyIncome'].isnull()]['DebtRatio'].describe()"
   ]
  },
  {
   "cell_type": "code",
   "execution_count": 38,
   "metadata": {},
   "outputs": [
    {
     "name": "stderr",
     "output_type": "stream",
     "text": [
      "C:\\Users\\Quique\\anaconda3\\lib\\site-packages\\seaborn\\distributions.py:2551: FutureWarning: `distplot` is a deprecated function and will be removed in a future version. Please adapt your code to use either `displot` (a figure-level function with similar flexibility) or `histplot` (an axes-level function for histograms).\n",
      "  warnings.warn(msg, FutureWarning)\n",
      "C:\\Users\\Quique\\anaconda3\\lib\\site-packages\\seaborn\\distributions.py:2551: FutureWarning: `distplot` is a deprecated function and will be removed in a future version. Please adapt your code to use either `displot` (a figure-level function with similar flexibility) or `kdeplot` (an axes-level function for kernel density plots).\n",
      "  warnings.warn(msg, FutureWarning)\n",
      "C:\\Users\\Quique\\anaconda3\\lib\\site-packages\\seaborn\\distributions.py:2551: FutureWarning: `distplot` is a deprecated function and will be removed in a future version. Please adapt your code to use either `displot` (a figure-level function with similar flexibility) or `kdeplot` (an axes-level function for kernel density plots).\n",
      "  warnings.warn(msg, FutureWarning)\n"
     ]
    },
    {
     "data": {
      "image/png": "[encoded data removed]",
      "text/plain": [
       "<Figure size 1800x432 with 3 Axes>"
      ]
     },
     "metadata": {
      "needs_background": "light"
     },
     "output_type": "display_data"
    }
   ],
   "source": [
    "fig,[ax1,ax2,ax3]=plt.subplots(1,3,figsize=(25,6))\n",
    "sns.distplot(credit_train['DebtRatio'],ax=ax1)\n",
    "\n",
    "target_0 = credit_train.loc[credit_train['SeriousDlqin2yrs'] == 0]\n",
    "target_1 = credit_train.loc[credit_train['SeriousDlqin2yrs'] == 1]\n",
    "\n",
    "sns.distplot(target_0[['DebtRatio']], hist=False ,ax=ax2, label='No default', axlabel='DebtRatio')\n",
    "sns.distplot(target_1[['DebtRatio']], hist=False ,ax=ax2, label='Default')\n",
    "\n",
    "sns.boxplot(y='DebtRatio',data=credit_train,ax=ax3);\n"
   ]
  },
  {
   "cell_type": "code",
   "execution_count": 39,
   "metadata": {},
   "outputs": [
    {
     "name": "stdout",
     "output_type": "stream",
     "text": [
      "Quantile  80 :  4.0\n",
      "Quantile  81 :  14.0\n",
      "Quantile  82 :  31.0\n",
      "Quantile  83 :  61.0\n",
      "Quantile  84 :  121.0\n",
      "Quantile  85 :  269.1499999999942\n",
      "Quantile  86 :  453.0\n",
      "Quantile  87 :  635.0\n",
      "Quantile  88 :  846.0\n",
      "Quantile  89 :  1056.0\n",
      "Quantile  90 :  1267.0\n",
      "Quantile  91 :  1462.0\n",
      "Quantile  92 :  1685.0\n",
      "Quantile  93 :  1917.070000000007\n",
      "Quantile  94 :  2172.0599999999977\n",
      "Quantile  95 :  2449.0\n",
      "Quantile  96 :  2791.0\n",
      "Quantile  97 :  3225.0\n",
      "Quantile  98 :  3839.0\n",
      "Quantile  99 :  4979.040000000037\n"
     ]
    }
   ],
   "source": [
    "# DebtRatio max is incredibly high as per definition of ratio. We are talking about individuals.\n",
    "# Let's check when it changes\n",
    "\n",
    "for i in range(80, 100, 1):\n",
    "    print('Quantile ', i, ': ', credit_train.DebtRatio.quantile(i/100))"
   ]
  },
  {
   "cell_type": "code",
   "execution_count": 40,
   "metadata": {},
   "outputs": [
    {
     "data": {
      "text/plain": [
       "14995"
      ]
     },
     "execution_count": 40,
     "metadata": {},
     "output_type": "execute_result"
    }
   ],
   "source": [
    "# Let's look into the records with Debt ratio > quantile 90 (approx. 10% of the records remaining)\n",
    "credit_train[(credit_train['DebtRatio'] > 1267)]['DebtRatio'].count()"
   ]
  },
  {
   "cell_type": "code",
   "execution_count": 41,
   "metadata": {},
   "outputs": [
    {
     "data": {
      "text/html": [
       "<div>\n",
       "<style scoped>\n",
       "    .dataframe tbody tr th:only-of-type {\n",
       "        vertical-align: middle;\n",
       "    }\n",
       "\n",
       "    .dataframe tbody tr th {\n",
       "        vertical-align: top;\n",
       "    }\n",
       "\n",
       "    .dataframe thead th {\n",
       "        text-align: right;\n",
       "    }\n",
       "</style>\n",
       "<table border=\"1\" class=\"dataframe\">\n",
       "  <thead>\n",
       "    <tr style=\"text-align: right;\">\n",
       "      <th></th>\n",
       "      <th>MonthlyIncome</th>\n",
       "      <th>SeriousDlqin2yrs</th>\n",
       "    </tr>\n",
       "  </thead>\n",
       "  <tbody>\n",
       "    <tr>\n",
       "      <th>count</th>\n",
       "      <td>849.000000</td>\n",
       "      <td>14995.000000</td>\n",
       "    </tr>\n",
       "    <tr>\n",
       "      <th>mean</th>\n",
       "      <td>0.195524</td>\n",
       "      <td>0.049817</td>\n",
       "    </tr>\n",
       "    <tr>\n",
       "      <th>std</th>\n",
       "      <td>0.396837</td>\n",
       "      <td>0.217573</td>\n",
       "    </tr>\n",
       "    <tr>\n",
       "      <th>min</th>\n",
       "      <td>0.000000</td>\n",
       "      <td>0.000000</td>\n",
       "    </tr>\n",
       "    <tr>\n",
       "      <th>25%</th>\n",
       "      <td>0.000000</td>\n",
       "      <td>0.000000</td>\n",
       "    </tr>\n",
       "    <tr>\n",
       "      <th>50%</th>\n",
       "      <td>0.000000</td>\n",
       "      <td>0.000000</td>\n",
       "    </tr>\n",
       "    <tr>\n",
       "      <th>75%</th>\n",
       "      <td>0.000000</td>\n",
       "      <td>0.000000</td>\n",
       "    </tr>\n",
       "    <tr>\n",
       "      <th>max</th>\n",
       "      <td>1.000000</td>\n",
       "      <td>1.000000</td>\n",
       "    </tr>\n",
       "  </tbody>\n",
       "</table>\n",
       "</div>"
      ],
      "text/plain": [
       "       MonthlyIncome  SeriousDlqin2yrs\n",
       "count     849.000000      14995.000000\n",
       "mean        0.195524          0.049817\n",
       "std         0.396837          0.217573\n",
       "min         0.000000          0.000000\n",
       "25%         0.000000          0.000000\n",
       "50%         0.000000          0.000000\n",
       "75%         0.000000          0.000000\n",
       "max         1.000000          1.000000"
      ]
     },
     "execution_count": 41,
     "metadata": {},
     "output_type": "execute_result"
    }
   ],
   "source": [
    "# Let's check those records re: Monthly Income, and our target variable SeriousDlqin2yrs\n",
    "credit_train[(credit_train['DebtRatio'] > 1267)][['MonthlyIncome', 'SeriousDlqin2yrs']].describe()"
   ]
  },
  {
   "cell_type": "code",
   "execution_count": 42,
   "metadata": {},
   "outputs": [
    {
     "data": {
      "text/plain": [
       "0    0.950183\n",
       "1    0.049817\n",
       "Name: SeriousDlqin2yrs, dtype: float64"
      ]
     },
     "execution_count": 42,
     "metadata": {},
     "output_type": "execute_result"
    }
   ],
   "source": [
    "credit_train[(credit_train['DebtRatio'] > 1267)]['SeriousDlqin2yrs'].value_counts(normalize=True)"
   ]
  },
  {
   "cell_type": "code",
   "execution_count": null,
   "metadata": {},
   "outputs": [],
   "source": [
    "#### We see that out of the 14995 records with Debt ratio > 1267:\n",
    "# - only 849 have an actual value in Monthly Income\n",
    "# - of those with an actual value in Monthly Income, this is either 0 or 1\n",
    "# Also, despite owing > 1267 times their monthly gross income, these individuals aren't defaulting any more than the general\n",
    "# population (in fact, less). We can conclude that these entries must be data-entry errors, so we will remove them from our model"
   ]
  },
  {
   "cell_type": "code",
   "execution_count": 44,
   "metadata": {},
   "outputs": [
    {
     "data": {
      "text/plain": [
       "count    150000.00\n",
       "mean          6.05\n",
       "std         249.76\n",
       "min           0.00\n",
       "25%           0.03\n",
       "50%           0.15\n",
       "75%           0.56\n",
       "max       50708.00\n",
       "Name: RevolvingUtilizationOfUnsecuredLines, dtype: object"
      ]
     },
     "execution_count": 44,
     "metadata": {},
     "output_type": "execute_result"
    }
   ],
   "source": [
    "# Revolving Utilization Of Unsecured Lines.\n",
    "# Defined as \"Total balance on credit cards and personal lines of credit except real estate and no \n",
    "# installment debt like car loans divided by the sum of credit limits\". Percentage.\n",
    "\n",
    "credit_train['RevolvingUtilizationOfUnsecuredLines'].describe().apply(\"{0:.2f}\".format)"
   ]
  },
  {
   "cell_type": "code",
   "execution_count": 46,
   "metadata": {},
   "outputs": [
    {
     "name": "stdout",
     "output_type": "stream",
     "text": [
      "Quantile  90 :  0.9812777179\n",
      "Quantile  91 :  0.9999998999999999\n",
      "Quantile  92 :  0.9999998999999999\n",
      "Quantile  93 :  0.9999998999999999\n",
      "Quantile  94 :  0.9999998999999999\n",
      "Quantile  95 :  0.9999998999999999\n",
      "Quantile  96 :  0.9999998999999999\n",
      "Quantile  97 :  0.9999998999999999\n",
      "Quantile  98 :  1.00619877654\n",
      "Quantile  99 :  1.092955768140002\n",
      "Quantile  100 :  50708.0\n"
     ]
    }
   ],
   "source": [
    "# Again, we find that max is incredibly high as per the definition of this ratio.\n",
    "# Let's check when and how it changes\n",
    "\n",
    "for i in range(90, 101, 1):\n",
    "    print('Quantile ', i, ': ', credit_train.RevolvingUtilizationOfUnsecuredLines.quantile(i/100))"
   ]
  },
  {
   "cell_type": "code",
   "execution_count": 47,
   "metadata": {},
   "outputs": [
    {
     "name": "stdout",
     "output_type": "stream",
     "text": [
      "0    0.93631\n",
      "1    0.06369\n",
      "Name: SeriousDlqin2yrs, dtype: float64\n",
      "\n",
      "0    0.610882\n",
      "1    0.389118\n",
      "Name: SeriousDlqin2yrs, dtype: float64\n"
     ]
    }
   ],
   "source": [
    "# As per above, we can see reasonable ratios up to quantile 99\n",
    "# Let's study those records with ratios above quantile 99 against the target variable.\n",
    "# Outlier values appear to be way too high\n",
    "# Default rates compared with the rest of the population\n",
    "\n",
    "print(credit_train[credit_train['RevolvingUtilizationOfUnsecuredLines'] <= 1.1].SeriousDlqin2yrs.value_counts(normalize=True))\n",
    "print()\n",
    "print(credit_train[credit_train['RevolvingUtilizationOfUnsecuredLines'] > 1.1].SeriousDlqin2yrs.value_counts(normalize=True))"
   ]
  },
  {
   "cell_type": "code",
   "execution_count": 50,
   "metadata": {},
   "outputs": [
    {
     "name": "stdout",
     "output_type": "stream",
     "text": [
      "Threshold  1 - Default rate:  0.37177950868783705\n",
      "Threshold  2 - Default rate:  0.14555256064690028\n",
      "Threshold  3 - Default rate:  0.09931506849315068\n",
      "Threshold  4 - Default rate:  0.08679245283018867\n",
      "Threshold  5 - Default rate:  0.07874015748031496\n",
      "Threshold  6 - Default rate:  0.07692307692307693\n",
      "Threshold  7 - Default rate:  0.0778688524590164\n",
      "Threshold  8 - Default rate:  0.07407407407407407\n",
      "Threshold  9 - Default rate:  0.07053941908713693\n",
      "Threshold  10 - Default rate:  0.07053941908713693\n",
      "Threshold  11 - Default rate:  0.07053941908713693\n",
      "Threshold  12 - Default rate:  0.06666666666666667\n",
      "Threshold  13 - Default rate:  0.058823529411764705\n",
      "Threshold  14 - Default rate:  0.058823529411764705\n",
      "Threshold  15 - Default rate:  0.05531914893617021\n",
      "Threshold  16 - Default rate:  0.05531914893617021\n",
      "Threshold  17 - Default rate:  0.05531914893617021\n",
      "Threshold  18 - Default rate:  0.05531914893617021\n",
      "Threshold  19 - Default rate:  0.05555555555555555\n",
      "Threshold  20 - Default rate:  0.05555555555555555\n"
     ]
    }
   ],
   "source": [
    "# Outliers (> 1.1) appear to be defaulting more than the overall population, which makes sense. Is this consistent?\n",
    "for i in range(1, 21, 1):\n",
    "    print('Threshold ', i, '- Default rate: ', \n",
    "        credit_train[credit_train['RevolvingUtilizationOfUnsecuredLines'] >= i].SeriousDlqin2yrs.value_counts(normalize=True)[1])"
   ]
  },
  {
   "cell_type": "code",
   "execution_count": 51,
   "metadata": {},
   "outputs": [
    {
     "data": {
      "text/plain": [
       "265"
      ]
     },
     "execution_count": 51,
     "metadata": {},
     "output_type": "execute_result"
    }
   ],
   "source": [
    "# Default rates are not consistent and do not appear to make sense: the worse the ratio (more money owed), the less \n",
    "# the default rate\n",
    "# I will remove those records (Threshold  4)\n",
    "credit_train[credit_train['RevolvingUtilizationOfUnsecuredLines'] >= 4]['RevolvingUtilizationOfUnsecuredLines'].count()"
   ]
  },
  {
   "cell_type": "code",
   "execution_count": 52,
   "metadata": {},
   "outputs": [
    {
     "data": {
      "text/html": [
       "<div>\n",
       "<style scoped>\n",
       "    .dataframe tbody tr th:only-of-type {\n",
       "        vertical-align: middle;\n",
       "    }\n",
       "\n",
       "    .dataframe tbody tr th {\n",
       "        vertical-align: top;\n",
       "    }\n",
       "\n",
       "    .dataframe thead th {\n",
       "        text-align: right;\n",
       "    }\n",
       "</style>\n",
       "<table border=\"1\" class=\"dataframe\">\n",
       "  <thead>\n",
       "    <tr style=\"text-align: right;\">\n",
       "      <th></th>\n",
       "      <th>NumberOfOpenCreditLinesAndLoans</th>\n",
       "      <th>NumberRealEstateLoansOrLines</th>\n",
       "    </tr>\n",
       "  </thead>\n",
       "  <tbody>\n",
       "    <tr>\n",
       "      <th>count</th>\n",
       "      <td>150000.000000</td>\n",
       "      <td>150000.000000</td>\n",
       "    </tr>\n",
       "    <tr>\n",
       "      <th>mean</th>\n",
       "      <td>8.452760</td>\n",
       "      <td>1.018240</td>\n",
       "    </tr>\n",
       "    <tr>\n",
       "      <th>std</th>\n",
       "      <td>5.145951</td>\n",
       "      <td>1.129771</td>\n",
       "    </tr>\n",
       "    <tr>\n",
       "      <th>min</th>\n",
       "      <td>0.000000</td>\n",
       "      <td>0.000000</td>\n",
       "    </tr>\n",
       "    <tr>\n",
       "      <th>25%</th>\n",
       "      <td>5.000000</td>\n",
       "      <td>0.000000</td>\n",
       "    </tr>\n",
       "    <tr>\n",
       "      <th>50%</th>\n",
       "      <td>8.000000</td>\n",
       "      <td>1.000000</td>\n",
       "    </tr>\n",
       "    <tr>\n",
       "      <th>75%</th>\n",
       "      <td>11.000000</td>\n",
       "      <td>2.000000</td>\n",
       "    </tr>\n",
       "    <tr>\n",
       "      <th>max</th>\n",
       "      <td>58.000000</td>\n",
       "      <td>54.000000</td>\n",
       "    </tr>\n",
       "  </tbody>\n",
       "</table>\n",
       "</div>"
      ],
      "text/plain": [
       "       NumberOfOpenCreditLinesAndLoans  NumberRealEstateLoansOrLines\n",
       "count                    150000.000000                 150000.000000\n",
       "mean                          8.452760                      1.018240\n",
       "std                           5.145951                      1.129771\n",
       "min                           0.000000                      0.000000\n",
       "25%                           5.000000                      0.000000\n",
       "50%                           8.000000                      1.000000\n",
       "75%                          11.000000                      2.000000\n",
       "max                          58.000000                     54.000000"
      ]
     },
     "execution_count": 52,
     "metadata": {},
     "output_type": "execute_result"
    }
   ],
   "source": [
    "# UNIVARIATE ANALYSIS\n",
    "# NumberOfOpenCreditLinesAndLoans, NumberRealEstateLoansOrLines\n",
    "credit_train[['NumberOfOpenCreditLinesAndLoans', 'NumberRealEstateLoansOrLines']].describe()"
   ]
  },
  {
   "cell_type": "code",
   "execution_count": 53,
   "metadata": {},
   "outputs": [
    {
     "data": {
      "image/png": "[encoded data removed]",
      "text/plain": [
       "<Figure size 1080x504 with 4 Axes>"
      ]
     },
     "metadata": {
      "needs_background": "light"
     },
     "output_type": "display_data"
    }
   ],
   "source": [
    "f, axes = plt.subplots(nrows=2,\n",
    "                       ncols=2, \n",
    "                       figsize=(15,7))\n",
    "sns.histplot(data=credit_train['NumberOfOpenCreditLinesAndLoans'], color=\"olive\", ax=axes[0, 0], bins=100, kde=True);\n",
    "sns.boxplot(data=credit_train, ax=axes[0, 1], x='NumberOfOpenCreditLinesAndLoans');\n",
    "\n",
    "sns.histplot(data=credit_train['NumberRealEstateLoansOrLines'], color=\"olive\", ax=axes[1, 0], bins=100, kde=True);\n",
    "sns.boxplot(data=credit_train, ax=axes[1, 1], x='NumberRealEstateLoansOrLines');"
   ]
  },
  {
   "cell_type": "code",
   "execution_count": 63,
   "metadata": {},
   "outputs": [
    {
     "data": {
      "text/plain": [
       "30    88\n",
       "31    74\n",
       "32    52\n",
       "33    47\n",
       "34    35\n",
       "35    27\n",
       "36    18\n",
       "38    13\n",
       "40    10\n",
       "39     9\n",
       "45     8\n",
       "42     8\n",
       "43     8\n",
       "37     7\n",
       "48     6\n",
       "41     4\n",
       "49     4\n",
       "54     4\n",
       "46     3\n",
       "52     3\n",
       "44     2\n",
       "57     2\n",
       "47     2\n",
       "50     2\n",
       "51     2\n",
       "56     2\n",
       "53     1\n",
       "58     1\n",
       "Name: NumberOfOpenCreditLinesAndLoans, dtype: int64"
      ]
     },
     "execution_count": 63,
     "metadata": {},
     "output_type": "execute_result"
    }
   ],
   "source": [
    "# Look into outliers\n",
    "credit_train[credit_train['NumberOfOpenCreditLinesAndLoans'] >= 30]['NumberOfOpenCreditLinesAndLoans'].value_counts()"
   ]
  },
  {
   "cell_type": "code",
   "execution_count": 57,
   "metadata": {},
   "outputs": [
    {
     "data": {
      "text/plain": [
       "0    0.882353\n",
       "1    0.117647\n",
       "Name: SeriousDlqin2yrs, dtype: float64"
      ]
     },
     "execution_count": 57,
     "metadata": {},
     "output_type": "execute_result"
    }
   ],
   "source": [
    "credit_train[credit_train['NumberOfOpenCreditLinesAndLoans'] >= 50]['SeriousDlqin2yrs'].value_counts(normalize=True)"
   ]
  },
  {
   "cell_type": "code",
   "execution_count": 59,
   "metadata": {},
   "outputs": [
    {
     "data": {
      "text/plain": [
       "25    3\n",
       "23    2\n",
       "20    2\n",
       "29    1\n",
       "26    1\n",
       "54    1\n",
       "21    1\n",
       "32    1\n",
       "Name: NumberRealEstateLoansOrLines, dtype: int64"
      ]
     },
     "execution_count": 59,
     "metadata": {},
     "output_type": "execute_result"
    }
   ],
   "source": [
    "# Look into outliers\n",
    "credit_train[credit_train['NumberRealEstateLoansOrLines'] >= 20]['NumberRealEstateLoansOrLines'].value_counts()"
   ]
  },
  {
   "cell_type": "code",
   "execution_count": 60,
   "metadata": {},
   "outputs": [
    {
     "data": {
      "text/plain": [
       "0    0.714286\n",
       "1    0.285714\n",
       "Name: SeriousDlqin2yrs, dtype: float64"
      ]
     },
     "execution_count": 60,
     "metadata": {},
     "output_type": "execute_result"
    }
   ],
   "source": [
    "credit_train[credit_train['NumberRealEstateLoansOrLines'] >= 25]['SeriousDlqin2yrs'].value_counts(normalize=True)"
   ]
  },
  {
   "cell_type": "code",
   "execution_count": null,
   "metadata": {},
   "outputs": [],
   "source": [
    "# I will not drop any outliers for now as they appear to add consistent information on the target variable. Candidates \n",
    "# for dropping: NumberRealEstateLoansOrLines >=20. NumberOfOpenCreditLinesAndLoans >=30"
   ]
  },
  {
   "cell_type": "code",
   "execution_count": null,
   "metadata": {},
   "outputs": [],
   "source": [
    "# Past due fields: NumberOfTime30-59DaysPastDueNotWorse, NumberOfTime60-89DaysPastDueNotWorse, NumberOfTimes90DaysLate.\n",
    "# - NumberOfTime30-59DaysPastDueNotWorse: Number of times borrower has been 30-59 days past due but no worse in the last 2 years.\n",
    "# - NumberOfTime60-89DaysPastDueNotWorse: Number of times borrower has been 60-89 days past due but no worse in the last 2 years.\n",
    "# - NumberOfTimes90DaysLate: Number of times borrower has been 90 days or more past due."
   ]
  },
  {
   "cell_type": "code",
   "execution_count": 64,
   "metadata": {},
   "outputs": [
    {
     "data": {
      "text/plain": [
       "count    150000.000000\n",
       "mean          0.421033\n",
       "std           4.192781\n",
       "min           0.000000\n",
       "25%           0.000000\n",
       "50%           0.000000\n",
       "75%           0.000000\n",
       "max          98.000000\n",
       "Name: NumberOfTime30-59DaysPastDueNotWorse, dtype: float64"
      ]
     },
     "execution_count": 64,
     "metadata": {},
     "output_type": "execute_result"
    }
   ],
   "source": [
    "credit_train['NumberOfTime30-59DaysPastDueNotWorse'].describe()"
   ]
  },
  {
   "cell_type": "code",
   "execution_count": 65,
   "metadata": {},
   "outputs": [
    {
     "data": {
      "text/plain": [
       "count    150000.000000\n",
       "mean          0.240387\n",
       "std           4.155179\n",
       "min           0.000000\n",
       "25%           0.000000\n",
       "50%           0.000000\n",
       "75%           0.000000\n",
       "max          98.000000\n",
       "Name: NumberOfTime60-89DaysPastDueNotWorse, dtype: float64"
      ]
     },
     "execution_count": 65,
     "metadata": {},
     "output_type": "execute_result"
    }
   ],
   "source": [
    "credit_train['NumberOfTime60-89DaysPastDueNotWorse'].describe()"
   ]
  },
  {
   "cell_type": "code",
   "execution_count": 66,
   "metadata": {},
   "outputs": [
    {
     "data": {
      "text/plain": [
       "count    150000.000000\n",
       "mean          0.265973\n",
       "std           4.169304\n",
       "min           0.000000\n",
       "25%           0.000000\n",
       "50%           0.000000\n",
       "75%           0.000000\n",
       "max          98.000000\n",
       "Name: NumberOfTimes90DaysLate, dtype: float64"
      ]
     },
     "execution_count": 66,
     "metadata": {},
     "output_type": "execute_result"
    }
   ],
   "source": [
    "credit_train['NumberOfTimes90DaysLate'].describe()"
   ]
  },
  {
   "cell_type": "code",
   "execution_count": 67,
   "metadata": {},
   "outputs": [
    {
     "data": {
      "image/png": "[encoded data removed]",
      "text/plain": [
       "<Figure size 1080x1080 with 6 Axes>"
      ]
     },
     "metadata": {
      "needs_background": "light"
     },
     "output_type": "display_data"
    }
   ],
   "source": [
    "f, axes = plt.subplots(nrows=3,\n",
    "                       ncols=2, \n",
    "                       figsize=(15,15))\n",
    "sns.histplot(data=credit_train['NumberOfTime30-59DaysPastDueNotWorse'], color=\"olive\", ax=axes[0, 0], bins=100, kde=True);\n",
    "sns.boxplot(data=credit_train, ax=axes[0, 1], x='NumberOfTime30-59DaysPastDueNotWorse');\n",
    "\n",
    "sns.histplot(data=credit_train['NumberOfTime60-89DaysPastDueNotWorse'], color=\"olive\", ax=axes[1, 0], bins=100, kde=True);\n",
    "sns.boxplot(data=credit_train, ax=axes[1, 1], x='NumberOfTime60-89DaysPastDueNotWorse');\n",
    "\n",
    "sns.histplot(data=credit_train['NumberOfTimes90DaysLate'], color=\"olive\", ax=axes[2, 0], bins=100, kde=True);\n",
    "sns.boxplot(data=credit_train, ax=axes[2, 1], x='NumberOfTimes90DaysLate');"
   ]
  },
  {
   "cell_type": "code",
   "execution_count": 68,
   "metadata": {},
   "outputs": [
    {
     "data": {
      "text/plain": [
       "98    264\n",
       "96      5\n",
       "Name: NumberOfTime30-59DaysPastDueNotWorse, dtype: int64"
      ]
     },
     "execution_count": 68,
     "metadata": {},
     "output_type": "execute_result"
    }
   ],
   "source": [
    "# Look into outliers\n",
    "credit_train[credit_train['NumberOfTime30-59DaysPastDueNotWorse'] > 80]['NumberOfTime30-59DaysPastDueNotWorse'].value_counts()"
   ]
  },
  {
   "cell_type": "code",
   "execution_count": 69,
   "metadata": {},
   "outputs": [
    {
     "data": {
      "text/plain": [
       "98    264\n",
       "96      5\n",
       "Name: NumberOfTime60-89DaysPastDueNotWorse, dtype: int64"
      ]
     },
     "execution_count": 69,
     "metadata": {},
     "output_type": "execute_result"
    }
   ],
   "source": [
    "# Look into outliers\n",
    "credit_train[credit_train['NumberOfTime60-89DaysPastDueNotWorse'] > 80]['NumberOfTime60-89DaysPastDueNotWorse'].value_counts()"
   ]
  },
  {
   "cell_type": "code",
   "execution_count": 70,
   "metadata": {},
   "outputs": [
    {
     "data": {
      "text/plain": [
       "98    264\n",
       "96      5\n",
       "Name: NumberOfTimes90DaysLate, dtype: int64"
      ]
     },
     "execution_count": 70,
     "metadata": {},
     "output_type": "execute_result"
    }
   ],
   "source": [
    "# Look into outliers\n",
    "credit_train[credit_train['NumberOfTimes90DaysLate'] > 80]['NumberOfTimes90DaysLate'].value_counts()"
   ]
  },
  {
   "cell_type": "code",
   "execution_count": 76,
   "metadata": {},
   "outputs": [
    {
     "data": {
      "text/plain": [
       "98    264\n",
       "96      5\n",
       "Name: NumberOfTimes90DaysLate, dtype: int64"
      ]
     },
     "execution_count": 76,
     "metadata": {},
     "output_type": "execute_result"
    }
   ],
   "source": [
    "# Look into outliers - All in the same records for these fields\n",
    "credit_train[(credit_train['NumberOfTimes90DaysLate'] > 80) & (credit_train['NumberOfTime60-89DaysPastDueNotWorse'] > 80)\n",
    "             & (credit_train['NumberOfTime30-59DaysPastDueNotWorse'] > 80)]['NumberOfTimes90DaysLate'].value_counts()"
   ]
  },
  {
   "cell_type": "code",
   "execution_count": 77,
   "metadata": {},
   "outputs": [
    {
     "data": {
      "text/plain": [
       "1    0.546468\n",
       "0    0.453532\n",
       "Name: SeriousDlqin2yrs, dtype: float64"
      ]
     },
     "execution_count": 77,
     "metadata": {},
     "output_type": "execute_result"
    }
   ],
   "source": [
    "# Look into outliers - These values appear to add a lot of info on defaulting\n",
    "credit_train[(credit_train['NumberOfTimes90DaysLate'] > 80) & (credit_train['NumberOfTime60-89DaysPastDueNotWorse'] > 80)\n",
    "             & (credit_train['NumberOfTime30-59DaysPastDueNotWorse'] > 80)]['SeriousDlqin2yrs'].value_counts(normalize=True)"
   ]
  },
  {
   "cell_type": "code",
   "execution_count": 85,
   "metadata": {},
   "outputs": [
    {
     "data": {
      "image/png": "[encoded data removed]",
      "text/plain": [
       "<Figure size 842.4x595.44 with 2 Axes>"
      ]
     },
     "metadata": {},
     "output_type": "display_data"
    }
   ],
   "source": [
    "corr_matrix=credit_train.corr()\n",
    "\n",
    "ax = sns.heatmap(corr_matrix, vmin=-1, vmax=1, cmap=sns.diverging_palette(20, 220, n=200), annot=True, fmt=\".2g\", square=True)\n",
    "ax.set_xticklabels(\n",
    "ax.get_xticklabels(),\n",
    "rotation=45,\n",
    "horizontalalignment='right'\n",
    ");\n",
    "plt.title(\"heatmap\");"
   ]
  },
  {
   "cell_type": "code",
   "execution_count": 95,
   "metadata": {
    "collapsed": true,
    "jupyter": {
     "outputs_hidden": true
    }
   },
   "outputs": [
    {
     "data": {
      "text/html": [
       "<div>\n",
       "<style scoped>\n",
       "    .dataframe tbody tr th:only-of-type {\n",
       "        vertical-align: middle;\n",
       "    }\n",
       "\n",
       "    .dataframe tbody tr th {\n",
       "        vertical-align: top;\n",
       "    }\n",
       "\n",
       "    .dataframe thead th {\n",
       "        text-align: right;\n",
       "    }\n",
       "</style>\n",
       "<table border=\"1\" class=\"dataframe\">\n",
       "  <thead>\n",
       "    <tr style=\"text-align: right;\">\n",
       "      <th></th>\n",
       "      <th>pair_name</th>\n",
       "      <th>value</th>\n",
       "      <th>abs_value</th>\n",
       "    </tr>\n",
       "  </thead>\n",
       "  <tbody>\n",
       "    <tr>\n",
       "      <th>0</th>\n",
       "      <td>NumberOfTimes90DaysLate v/s NumberOfTime60-89D...</td>\n",
       "      <td>0.992796</td>\n",
       "      <td>0.992796</td>\n",
       "    </tr>\n",
       "    <tr>\n",
       "      <th>1</th>\n",
       "      <td>NumberOfTime30-59DaysPastDueNotWorse v/s Numbe...</td>\n",
       "      <td>0.987005</td>\n",
       "      <td>0.987005</td>\n",
       "    </tr>\n",
       "    <tr>\n",
       "      <th>2</th>\n",
       "      <td>NumberOfTime30-59DaysPastDueNotWorse v/s Numbe...</td>\n",
       "      <td>0.983603</td>\n",
       "      <td>0.983603</td>\n",
       "    </tr>\n",
       "    <tr>\n",
       "      <th>3</th>\n",
       "      <td>NumberOfOpenCreditLinesAndLoans v/s NumberReal...</td>\n",
       "      <td>0.433959</td>\n",
       "      <td>0.433959</td>\n",
       "    </tr>\n",
       "    <tr>\n",
       "      <th>4</th>\n",
       "      <td>age v/s NumberOfDependents</td>\n",
       "      <td>-0.213303</td>\n",
       "      <td>0.213303</td>\n",
       "    </tr>\n",
       "    <tr>\n",
       "      <th>5</th>\n",
       "      <td>age v/s NumberOfOpenCreditLinesAndLoans</td>\n",
       "      <td>0.147705</td>\n",
       "      <td>0.147705</td>\n",
       "    </tr>\n",
       "    <tr>\n",
       "      <th>6</th>\n",
       "      <td>SeriousDlqin2yrs v/s NumberOfTime30-59DaysPast...</td>\n",
       "      <td>0.125587</td>\n",
       "      <td>0.125587</td>\n",
       "    </tr>\n",
       "    <tr>\n",
       "      <th>7</th>\n",
       "      <td>MonthlyIncome v/s NumberRealEstateLoansOrLines</td>\n",
       "      <td>0.124959</td>\n",
       "      <td>0.124959</td>\n",
       "    </tr>\n",
       "    <tr>\n",
       "      <th>8</th>\n",
       "      <td>NumberRealEstateLoansOrLines v/s NumberOfDepen...</td>\n",
       "      <td>0.124684</td>\n",
       "      <td>0.124684</td>\n",
       "    </tr>\n",
       "    <tr>\n",
       "      <th>9</th>\n",
       "      <td>DebtRatio v/s NumberRealEstateLoansOrLines</td>\n",
       "      <td>0.120046</td>\n",
       "      <td>0.120046</td>\n",
       "    </tr>\n",
       "    <tr>\n",
       "      <th>10</th>\n",
       "      <td>SeriousDlqin2yrs v/s NumberOfTimes90DaysLate</td>\n",
       "      <td>0.117175</td>\n",
       "      <td>0.117175</td>\n",
       "    </tr>\n",
       "    <tr>\n",
       "      <th>11</th>\n",
       "      <td>SeriousDlqin2yrs v/s age</td>\n",
       "      <td>-0.115386</td>\n",
       "      <td>0.115386</td>\n",
       "    </tr>\n",
       "    <tr>\n",
       "      <th>12</th>\n",
       "      <td>SeriousDlqin2yrs v/s NumberOfTime60-89DaysPast...</td>\n",
       "      <td>0.102261</td>\n",
       "      <td>0.102261</td>\n",
       "    </tr>\n",
       "  </tbody>\n",
       "</table>\n",
       "</div>"
      ],
      "text/plain": [
       "                                            pair_name     value  abs_value\n",
       "0   NumberOfTimes90DaysLate v/s NumberOfTime60-89D...  0.992796   0.992796\n",
       "1   NumberOfTime30-59DaysPastDueNotWorse v/s Numbe...  0.987005   0.987005\n",
       "2   NumberOfTime30-59DaysPastDueNotWorse v/s Numbe...  0.983603   0.983603\n",
       "3   NumberOfOpenCreditLinesAndLoans v/s NumberReal...  0.433959   0.433959\n",
       "4                          age v/s NumberOfDependents -0.213303   0.213303\n",
       "5             age v/s NumberOfOpenCreditLinesAndLoans  0.147705   0.147705\n",
       "6   SeriousDlqin2yrs v/s NumberOfTime30-59DaysPast...  0.125587   0.125587\n",
       "7      MonthlyIncome v/s NumberRealEstateLoansOrLines  0.124959   0.124959\n",
       "8   NumberRealEstateLoansOrLines v/s NumberOfDepen...  0.124684   0.124684\n",
       "9          DebtRatio v/s NumberRealEstateLoansOrLines  0.120046   0.120046\n",
       "10       SeriousDlqin2yrs v/s NumberOfTimes90DaysLate  0.117175   0.117175\n",
       "11                           SeriousDlqin2yrs v/s age -0.115386   0.115386\n",
       "12  SeriousDlqin2yrs v/s NumberOfTime60-89DaysPast...  0.102261   0.102261"
      ]
     },
     "execution_count": 95,
     "metadata": {},
     "output_type": "execute_result"
    }
   ],
   "source": [
    "def most_correlated_pairs(dataframe, threshold=0.10):\n",
    "    corr_matrix = dataframe.corr()\n",
    "    indexes = corr_matrix.columns\n",
    "    pair_names = []\n",
    "    values = []\n",
    "    abs_values = []\n",
    "    for row_index in indexes:\n",
    "        for col_index in indexes:\n",
    "            if str(row_index) != str(col_index):\n",
    "                pair_name = f'{row_index} v/s {col_index}'\n",
    "                alt_pair_name = f'{col_index} v/s {row_index}'\n",
    "                if (pair_name not in pair_names) and (alt_pair_name not in pair_names):\n",
    "                    pair_names.append(pair_name)\n",
    "                    values.append(corr_matrix[row_index][col_index])\n",
    "                    abs_values.append(abs(corr_matrix[row_index][col_index]))\n",
    "\n",
    "    correlation_pairs = pd.DataFrame({\n",
    "        'pair_name': pair_names,\n",
    "        'value': values,\n",
    "        'abs_value': abs_values\n",
    "    }).sort_values(by='abs_value', ascending=False).reset_index(drop=True)\n",
    "    return correlation_pairs[correlation_pairs.abs_value >= threshold]\n",
    "\n",
    "most_correlated_pairs(credit_train)"
   ]
  },
  {
   "cell_type": "code",
   "execution_count": 96,
   "metadata": {
    "collapsed": true,
    "jupyter": {
     "outputs_hidden": true
    }
   },
   "outputs": [
    {
     "name": "stdout",
     "output_type": "stream",
     "text": [
      "DebtRatio\n",
      "└─ NumberRealEstateLoansOrLines (0.12)\n",
      "\n",
      "MonthlyIncome\n",
      "└─ NumberOfOpenCreditLinesAndLoans (0.091)\n",
      "└─ NumberRealEstateLoansOrLines (0.125)\n",
      "\n",
      "NumberOfDependents\n",
      "└─ NumberRealEstateLoansOrLines (0.125)\n",
      "\n",
      "NumberOfOpenCreditLinesAndLoans\n",
      "└─ age (0.148)\n",
      "└─ MonthlyIncome (0.091)\n",
      "└─ NumberRealEstateLoansOrLines (0.434)\n",
      "\n",
      "NumberOfTime30-59DaysPastDueNotWorse\n",
      "└─ SeriousDlqin2yrs (0.126)\n",
      "└─ NumberOfTimes90DaysLate (0.984)\n",
      "└─ NumberOfTime60-89DaysPastDueNotWorse (0.987)\n",
      "\n",
      "NumberOfTime60-89DaysPastDueNotWorse\n",
      "└─ SeriousDlqin2yrs (0.102)\n",
      "└─ NumberOfTime30-59DaysPastDueNotWorse (0.987)\n",
      "└─ NumberOfTimes90DaysLate (0.993)\n",
      "\n",
      "NumberOfTimes90DaysLate\n",
      "└─ SeriousDlqin2yrs (0.117)\n",
      "└─ NumberOfTime30-59DaysPastDueNotWorse (0.984)\n",
      "└─ NumberOfTime60-89DaysPastDueNotWorse (0.993)\n",
      "\n",
      "NumberRealEstateLoansOrLines\n",
      "└─ DebtRatio (0.12)\n",
      "└─ MonthlyIncome (0.125)\n",
      "└─ NumberOfOpenCreditLinesAndLoans (0.434)\n",
      "└─ NumberOfDependents (0.125)\n",
      "\n",
      "SeriousDlqin2yrs\n",
      "└─ NumberOfTime30-59DaysPastDueNotWorse (0.126)\n",
      "└─ NumberOfTimes90DaysLate (0.117)\n",
      "└─ NumberOfTime60-89DaysPastDueNotWorse (0.102)\n",
      "\n",
      "age\n",
      "└─ NumberOfOpenCreditLinesAndLoans (0.148)\n",
      "\n"
     ]
    }
   ],
   "source": [
    "def correlated_tree(dataframe, threshold=0.05):\n",
    "    corr_matrix = dataframe.corr()\n",
    "    indexes = corr_matrix.columns\n",
    "    nodes = {}\n",
    "    for row_index in indexes:\n",
    "        for col_index in indexes:\n",
    "            value = corr_matrix[row_index][col_index]\n",
    "            if (str(row_index) != str(col_index)) and (threshold < value):\n",
    "                value_as_str = f'{col_index} ({str(abs(round(value, 3)))})'\n",
    "                if row_index not in nodes:\n",
    "                    nodes[row_index] = []\n",
    "\n",
    "                nodes[row_index].append(value_as_str)\n",
    "    \n",
    "    return dict(sorted(nodes.items(), key=lambda item: item[0]))\n",
    "\n",
    "credit_train_tree = correlated_tree(credit_train, threshold=0.07)\n",
    "for each_node in credit_train_tree:\n",
    "    print(each_node)\n",
    "    for each in credit_train_tree[each_node]:\n",
    "        print(f'└─ {each }')\n",
    "    print()"
   ]
  },
  {
   "cell_type": "code",
   "execution_count": 102,
   "metadata": {},
   "outputs": [],
   "source": [
    "# Prepare for VIF: need to remove NaN\n",
    "# One value of Age=0. Potential entry error. Will change to median age.\n",
    "credit_train.loc[credit_train['age'] == 0, 'age'] = credit_train.age.median()"
   ]
  },
  {
   "cell_type": "code",
   "execution_count": 103,
   "metadata": {},
   "outputs": [],
   "source": [
    "credit_train['NumberOfDependents'].fillna(0, inplace=True)"
   ]
  },
  {
   "cell_type": "code",
   "execution_count": 105,
   "metadata": {},
   "outputs": [
    {
     "data": {
      "text/plain": [
       "265"
      ]
     },
     "execution_count": 105,
     "metadata": {},
     "output_type": "execute_result"
    }
   ],
   "source": [
    "credit_train[credit_train['RevolvingUtilizationOfUnsecuredLines'] >= 4]['RevolvingUtilizationOfUnsecuredLines'].count()"
   ]
  },
  {
   "cell_type": "code",
   "execution_count": 106,
   "metadata": {},
   "outputs": [
    {
     "name": "stdout",
     "output_type": "stream",
     "text": [
      "<class 'pandas.core.frame.DataFrame'>\n",
      "RangeIndex: 150000 entries, 0 to 149999\n",
      "Data columns (total 11 columns):\n",
      " #   Column                                Non-Null Count   Dtype  \n",
      "---  ------                                --------------   -----  \n",
      " 0   SeriousDlqin2yrs                      150000 non-null  int64  \n",
      " 1   RevolvingUtilizationOfUnsecuredLines  150000 non-null  float64\n",
      " 2   age                                   150000 non-null  float64\n",
      " 3   NumberOfTime30-59DaysPastDueNotWorse  150000 non-null  int64  \n",
      " 4   DebtRatio                             150000 non-null  float64\n",
      " 5   MonthlyIncome                         120269 non-null  float64\n",
      " 6   NumberOfOpenCreditLinesAndLoans       150000 non-null  int64  \n",
      " 7   NumberOfTimes90DaysLate               150000 non-null  int64  \n",
      " 8   NumberRealEstateLoansOrLines          150000 non-null  int64  \n",
      " 9   NumberOfTime60-89DaysPastDueNotWorse  150000 non-null  int64  \n",
      " 10  NumberOfDependents                    150000 non-null  float64\n",
      "dtypes: float64(5), int64(6)\n",
      "memory usage: 12.6 MB\n"
     ]
    }
   ],
   "source": [
    "credit_train.info()"
   ]
  },
  {
   "cell_type": "code",
   "execution_count": 107,
   "metadata": {},
   "outputs": [],
   "source": [
    "credit_train = credit_train[credit_train['RevolvingUtilizationOfUnsecuredLines'] < 4]"
   ]
  },
  {
   "cell_type": "code",
   "execution_count": 108,
   "metadata": {},
   "outputs": [
    {
     "name": "stdout",
     "output_type": "stream",
     "text": [
      "<class 'pandas.core.frame.DataFrame'>\n",
      "Int64Index: 149735 entries, 0 to 149999\n",
      "Data columns (total 11 columns):\n",
      " #   Column                                Non-Null Count   Dtype  \n",
      "---  ------                                --------------   -----  \n",
      " 0   SeriousDlqin2yrs                      149735 non-null  int64  \n",
      " 1   RevolvingUtilizationOfUnsecuredLines  149735 non-null  float64\n",
      " 2   age                                   149735 non-null  float64\n",
      " 3   NumberOfTime30-59DaysPastDueNotWorse  149735 non-null  int64  \n",
      " 4   DebtRatio                             149735 non-null  float64\n",
      " 5   MonthlyIncome                         120082 non-null  float64\n",
      " 6   NumberOfOpenCreditLinesAndLoans       149735 non-null  int64  \n",
      " 7   NumberOfTimes90DaysLate               149735 non-null  int64  \n",
      " 8   NumberRealEstateLoansOrLines          149735 non-null  int64  \n",
      " 9   NumberOfTime60-89DaysPastDueNotWorse  149735 non-null  int64  \n",
      " 10  NumberOfDependents                    149735 non-null  float64\n",
      "dtypes: float64(5), int64(6)\n",
      "memory usage: 13.7 MB\n"
     ]
    }
   ],
   "source": [
    "credit_train.info()"
   ]
  },
  {
   "cell_type": "code",
   "execution_count": 110,
   "metadata": {},
   "outputs": [
    {
     "data": {
      "text/plain": [
       "14951"
      ]
     },
     "execution_count": 110,
     "metadata": {},
     "output_type": "execute_result"
    }
   ],
   "source": [
    "credit_train[(credit_train['DebtRatio'] > 1267)]['DebtRatio'].count()"
   ]
  },
  {
   "cell_type": "code",
   "execution_count": 111,
   "metadata": {},
   "outputs": [],
   "source": [
    "credit_train = credit_train[(credit_train['DebtRatio'] <= 1267)]"
   ]
  },
  {
   "cell_type": "code",
   "execution_count": 112,
   "metadata": {},
   "outputs": [
    {
     "name": "stdout",
     "output_type": "stream",
     "text": [
      "<class 'pandas.core.frame.DataFrame'>\n",
      "Int64Index: 134784 entries, 0 to 149999\n",
      "Data columns (total 11 columns):\n",
      " #   Column                                Non-Null Count   Dtype  \n",
      "---  ------                                --------------   -----  \n",
      " 0   SeriousDlqin2yrs                      134784 non-null  int64  \n",
      " 1   RevolvingUtilizationOfUnsecuredLines  134784 non-null  float64\n",
      " 2   age                                   134784 non-null  float64\n",
      " 3   NumberOfTime30-59DaysPastDueNotWorse  134784 non-null  int64  \n",
      " 4   DebtRatio                             134784 non-null  float64\n",
      " 5   MonthlyIncome                         119234 non-null  float64\n",
      " 6   NumberOfOpenCreditLinesAndLoans       134784 non-null  int64  \n",
      " 7   NumberOfTimes90DaysLate               134784 non-null  int64  \n",
      " 8   NumberRealEstateLoansOrLines          134784 non-null  int64  \n",
      " 9   NumberOfTime60-89DaysPastDueNotWorse  134784 non-null  int64  \n",
      " 10  NumberOfDependents                    134784 non-null  float64\n",
      "dtypes: float64(5), int64(6)\n",
      "memory usage: 12.3 MB\n"
     ]
    }
   ],
   "source": [
    "credit_train.info()"
   ]
  },
  {
   "cell_type": "code",
   "execution_count": 131,
   "metadata": {},
   "outputs": [],
   "source": [
    "def categorizeAge(age):\n",
    "    if (age < 30):\n",
    "        return '-30'\n",
    "    elif (age >= 30) & (age < 40):\n",
    "        return'30-40'\n",
    "    elif (age >= 40) & (age < 50):\n",
    "        return'40-50'\n",
    "    elif (age >= 50) & (age < 60):\n",
    "        return'50-60'\n",
    "    elif (age >= 60) & (age < 70):\n",
    "        return'60-70'\n",
    "    elif (age >= 70) & (age < 80):\n",
    "        return'70-80'\n",
    "    elif (age >= 80) & (age < 90):\n",
    "        return'80-90'\n",
    "    else:\n",
    "        return '90-'\n",
    "    \n",
    "imputedf = credit_train.copy()\n",
    "imputedf['Age_int'] = imputedf['age'].apply(categorizeAge)\n",
    "income_dict = imputedf.groupby('Age_int')['MonthlyIncome'].mean().to_dict()\n",
    "for k, v in income_dict.items(): \n",
    "        imputedf[\"MonthlyIncome\"] = np.where((imputedf[\"MonthlyIncome\"].isnull()) & (imputedf['Age_int'] == k),\n",
    "                                             v, imputedf[\"MonthlyIncome\"])\n",
    "\n",
    "credit_train['MonthlyIncome'] = imputedf['MonthlyIncome']"
   ]
  },
  {
   "cell_type": "code",
   "execution_count": 132,
   "metadata": {},
   "outputs": [
    {
     "name": "stdout",
     "output_type": "stream",
     "text": [
      "<class 'pandas.core.frame.DataFrame'>\n",
      "Int64Index: 134784 entries, 0 to 149999\n",
      "Data columns (total 11 columns):\n",
      " #   Column                                Non-Null Count   Dtype  \n",
      "---  ------                                --------------   -----  \n",
      " 0   SeriousDlqin2yrs                      134784 non-null  int64  \n",
      " 1   RevolvingUtilizationOfUnsecuredLines  134784 non-null  float64\n",
      " 2   age                                   134784 non-null  float64\n",
      " 3   NumberOfTime30-59DaysPastDueNotWorse  134784 non-null  int64  \n",
      " 4   DebtRatio                             134784 non-null  float64\n",
      " 5   MonthlyIncome                         134784 non-null  float64\n",
      " 6   NumberOfOpenCreditLinesAndLoans       134784 non-null  int64  \n",
      " 7   NumberOfTimes90DaysLate               134784 non-null  int64  \n",
      " 8   NumberRealEstateLoansOrLines          134784 non-null  int64  \n",
      " 9   NumberOfTime60-89DaysPastDueNotWorse  134784 non-null  int64  \n",
      " 10  NumberOfDependents                    134784 non-null  float64\n",
      "dtypes: float64(5), int64(6)\n",
      "memory usage: 12.3 MB\n"
     ]
    }
   ],
   "source": [
    "credit_train.info()"
   ]
  },
  {
   "cell_type": "code",
   "execution_count": null,
   "metadata": {},
   "outputs": [],
   "source": []
  },
  {
   "cell_type": "code",
   "execution_count": null,
   "metadata": {},
   "outputs": [],
   "source": []
  },
  {
   "cell_type": "code",
   "execution_count": 142,
   "metadata": {},
   "outputs": [
    {
     "data": {
      "text/html": [
       "<div>\n",
       "<style scoped>\n",
       "    .dataframe tbody tr th:only-of-type {\n",
       "        vertical-align: middle;\n",
       "    }\n",
       "\n",
       "    .dataframe tbody tr th {\n",
       "        vertical-align: top;\n",
       "    }\n",
       "\n",
       "    .dataframe thead th {\n",
       "        text-align: right;\n",
       "    }\n",
       "</style>\n",
       "<table border=\"1\" class=\"dataframe\">\n",
       "  <thead>\n",
       "    <tr style=\"text-align: right;\">\n",
       "      <th></th>\n",
       "      <th>variables</th>\n",
       "      <th>VIF</th>\n",
       "    </tr>\n",
       "  </thead>\n",
       "  <tbody>\n",
       "    <tr>\n",
       "      <th>0</th>\n",
       "      <td>RevolvingUtilizationOfUnsecuredLines</td>\n",
       "      <td>1.847000</td>\n",
       "    </tr>\n",
       "    <tr>\n",
       "      <th>1</th>\n",
       "      <td>age</td>\n",
       "      <td>4.054221</td>\n",
       "    </tr>\n",
       "    <tr>\n",
       "      <th>2</th>\n",
       "      <td>NumberOfTime30-59DaysPastDueNotWorse</td>\n",
       "      <td>62.722395</td>\n",
       "    </tr>\n",
       "    <tr>\n",
       "      <th>3</th>\n",
       "      <td>DebtRatio</td>\n",
       "      <td>1.074833</td>\n",
       "    </tr>\n",
       "    <tr>\n",
       "      <th>4</th>\n",
       "      <td>MonthlyIncome</td>\n",
       "      <td>1.265122</td>\n",
       "    </tr>\n",
       "    <tr>\n",
       "      <th>5</th>\n",
       "      <td>NumberOfOpenCreditLinesAndLoans</td>\n",
       "      <td>4.526599</td>\n",
       "    </tr>\n",
       "    <tr>\n",
       "      <th>6</th>\n",
       "      <td>NumberOfTimes90DaysLate</td>\n",
       "      <td>79.591742</td>\n",
       "    </tr>\n",
       "    <tr>\n",
       "      <th>7</th>\n",
       "      <td>NumberRealEstateLoansOrLines</td>\n",
       "      <td>2.218360</td>\n",
       "    </tr>\n",
       "    <tr>\n",
       "      <th>8</th>\n",
       "      <td>NumberOfTime60-89DaysPastDueNotWorse</td>\n",
       "      <td>115.581880</td>\n",
       "    </tr>\n",
       "    <tr>\n",
       "      <th>9</th>\n",
       "      <td>NumberOfDependents</td>\n",
       "      <td>1.495740</td>\n",
       "    </tr>\n",
       "    <tr>\n",
       "      <th>10</th>\n",
       "      <td>CombinedDue</td>\n",
       "      <td>1.933164</td>\n",
       "    </tr>\n",
       "  </tbody>\n",
       "</table>\n",
       "</div>"
      ],
      "text/plain": [
       "                               variables         VIF\n",
       "0   RevolvingUtilizationOfUnsecuredLines    1.847000\n",
       "1                                    age    4.054221\n",
       "2   NumberOfTime30-59DaysPastDueNotWorse   62.722395\n",
       "3                              DebtRatio    1.074833\n",
       "4                          MonthlyIncome    1.265122\n",
       "5        NumberOfOpenCreditLinesAndLoans    4.526599\n",
       "6                NumberOfTimes90DaysLate   79.591742\n",
       "7           NumberRealEstateLoansOrLines    2.218360\n",
       "8   NumberOfTime60-89DaysPastDueNotWorse  115.581880\n",
       "9                     NumberOfDependents    1.495740\n",
       "10                           CombinedDue    1.933164"
      ]
     },
     "execution_count": 142,
     "metadata": {},
     "output_type": "execute_result"
    }
   ],
   "source": [
    "# Past due variables very correlated among them, but not to target variable. Check multicollinearity - VIF (Variance Inflation\n",
    "# Factor)\n",
    "# Import library for VIF\n",
    "from statsmodels.stats.outliers_influence import variance_inflation_factor\n",
    "\n",
    "def calc_vif(X):\n",
    "\n",
    "    # Calculating VIF\n",
    "    vif = pd.DataFrame()\n",
    "    vif[\"variables\"] = X.columns\n",
    "    vif[\"VIF\"] = [variance_inflation_factor(X.values, i) for i in range(X.shape[1])]\n",
    "\n",
    "    return(vif)\n",
    "\n",
    "test = credit_train.iloc[:, 1:]\n",
    "test['CombinedDue'] = np.where((credit_train['NumberOfTime30-59DaysPastDueNotWorse'] > 0) |\n",
    "                               (credit_train['NumberOfTimes90DaysLate'] > 0) |\n",
    "                               (credit_train['NumberOfTime60-89DaysPastDueNotWorse'] > 0), 1, 0)\n",
    "#test['CombinedDue'].sum()\n",
    "#credit_train[(credit_train['NumberOfTime30-59DaysPastDueNotWorse'] > 0) |\n",
    "#                               (credit_train['NumberOfTimes90DaysLate'] > 0) |\n",
    "#                               (credit_train['NumberOfTime60-89DaysPastDueNotWorse'] > 0)]\n",
    "calc_vif(test) # All columns but the target column"
   ]
  },
  {
   "cell_type": "code",
   "execution_count": 143,
   "metadata": {},
   "outputs": [
    {
     "data": {
      "image/png": "[encoded data removed]",
      "text/plain": [
       "<Figure size 432x432 with 2 Axes>"
      ]
     },
     "metadata": {},
     "output_type": "display_data"
    }
   ],
   "source": [
    "# Lets find correlation among these variables\n",
    "cr_due1 = credit_train[['NumberOfTime30-59DaysPastDueNotWorse', 'NumberOfTime60-89DaysPastDueNotWorse', \\\n",
    "                        'NumberOfTimes90DaysLate', 'SeriousDlqin2yrs']]\n",
    "\n",
    "corr = cr_due1.corr()\n",
    "plt.figure(figsize=(6,6))\n",
    "sns.heatmap(corr, annot=True, fmt=\".2g\");"
   ]
  },
  {
   "cell_type": "code",
   "execution_count": 147,
   "metadata": {},
   "outputs": [
    {
     "data": {
      "image/png": "[encoded data removed]",
      "text/plain": [
       "<Figure size 432x432 with 2 Axes>"
      ]
     },
     "metadata": {},
     "output_type": "display_data"
    }
   ],
   "source": [
    "credit_train['CombinedDue'] = test['CombinedDue']\n",
    "\n",
    "cr_due2 = credit_train[['NumberOfTime30-59DaysPastDueNotWorse', 'NumberOfTime60-89DaysPastDueNotWorse', \\\n",
    "                        'NumberOfTimes90DaysLate', 'CombinedDue', 'SeriousDlqin2yrs']]\n",
    "\n",
    "corr = cr_due2.corr()\n",
    "plt.figure(figsize=(6,6))\n",
    "sns.heatmap(corr, annot=True, fmt=\".2g\");"
   ]
  },
  {
   "cell_type": "code",
   "execution_count": 149,
   "metadata": {},
   "outputs": [
    {
     "data": {
      "text/plain": [
       "Index(['RevolvingUtilizationOfUnsecuredLines', 'age',\n",
       "       'NumberOfTime30-59DaysPastDueNotWorse', 'DebtRatio', 'MonthlyIncome',\n",
       "       'NumberOfOpenCreditLinesAndLoans', 'NumberOfTimes90DaysLate',\n",
       "       'NumberRealEstateLoansOrLines', 'NumberOfDependents', 'CombinedDue'],\n",
       "      dtype='object')"
      ]
     },
     "execution_count": 149,
     "metadata": {},
     "output_type": "execute_result"
    }
   ],
   "source": [
    "test.drop('NumberOfTime60-89DaysPastDueNotWorse', axis=1, inplace=True)\n",
    "test.columns"
   ]
  },
  {
   "cell_type": "code",
   "execution_count": 150,
   "metadata": {},
   "outputs": [
    {
     "data": {
      "text/html": [
       "<div>\n",
       "<style scoped>\n",
       "    .dataframe tbody tr th:only-of-type {\n",
       "        vertical-align: middle;\n",
       "    }\n",
       "\n",
       "    .dataframe tbody tr th {\n",
       "        vertical-align: top;\n",
       "    }\n",
       "\n",
       "    .dataframe thead th {\n",
       "        text-align: right;\n",
       "    }\n",
       "</style>\n",
       "<table border=\"1\" class=\"dataframe\">\n",
       "  <thead>\n",
       "    <tr style=\"text-align: right;\">\n",
       "      <th></th>\n",
       "      <th>variables</th>\n",
       "      <th>VIF</th>\n",
       "    </tr>\n",
       "  </thead>\n",
       "  <tbody>\n",
       "    <tr>\n",
       "      <th>0</th>\n",
       "      <td>RevolvingUtilizationOfUnsecuredLines</td>\n",
       "      <td>1.844154</td>\n",
       "    </tr>\n",
       "    <tr>\n",
       "      <th>1</th>\n",
       "      <td>age</td>\n",
       "      <td>4.053515</td>\n",
       "    </tr>\n",
       "    <tr>\n",
       "      <th>2</th>\n",
       "      <td>NumberOfTime30-59DaysPastDueNotWorse</td>\n",
       "      <td>41.684561</td>\n",
       "    </tr>\n",
       "    <tr>\n",
       "      <th>3</th>\n",
       "      <td>DebtRatio</td>\n",
       "      <td>1.074794</td>\n",
       "    </tr>\n",
       "    <tr>\n",
       "      <th>4</th>\n",
       "      <td>MonthlyIncome</td>\n",
       "      <td>1.265116</td>\n",
       "    </tr>\n",
       "    <tr>\n",
       "      <th>5</th>\n",
       "      <td>NumberOfOpenCreditLinesAndLoans</td>\n",
       "      <td>4.526581</td>\n",
       "    </tr>\n",
       "    <tr>\n",
       "      <th>6</th>\n",
       "      <td>NumberOfTimes90DaysLate</td>\n",
       "      <td>40.681612</td>\n",
       "    </tr>\n",
       "    <tr>\n",
       "      <th>7</th>\n",
       "      <td>NumberRealEstateLoansOrLines</td>\n",
       "      <td>2.218314</td>\n",
       "    </tr>\n",
       "    <tr>\n",
       "      <th>8</th>\n",
       "      <td>NumberOfDependents</td>\n",
       "      <td>1.495737</td>\n",
       "    </tr>\n",
       "    <tr>\n",
       "      <th>9</th>\n",
       "      <td>CombinedDue</td>\n",
       "      <td>1.704010</td>\n",
       "    </tr>\n",
       "  </tbody>\n",
       "</table>\n",
       "</div>"
      ],
      "text/plain": [
       "                              variables        VIF\n",
       "0  RevolvingUtilizationOfUnsecuredLines   1.844154\n",
       "1                                   age   4.053515\n",
       "2  NumberOfTime30-59DaysPastDueNotWorse  41.684561\n",
       "3                             DebtRatio   1.074794\n",
       "4                         MonthlyIncome   1.265116\n",
       "5       NumberOfOpenCreditLinesAndLoans   4.526581\n",
       "6               NumberOfTimes90DaysLate  40.681612\n",
       "7          NumberRealEstateLoansOrLines   2.218314\n",
       "8                    NumberOfDependents   1.495737\n",
       "9                           CombinedDue   1.704010"
      ]
     },
     "execution_count": 150,
     "metadata": {},
     "output_type": "execute_result"
    }
   ],
   "source": [
    "calc_vif(test)"
   ]
  },
  {
   "cell_type": "code",
   "execution_count": 151,
   "metadata": {},
   "outputs": [
    {
     "data": {
      "text/plain": [
       "Index(['RevolvingUtilizationOfUnsecuredLines', 'age', 'DebtRatio',\n",
       "       'MonthlyIncome', 'NumberOfOpenCreditLinesAndLoans',\n",
       "       'NumberOfTimes90DaysLate', 'NumberRealEstateLoansOrLines',\n",
       "       'NumberOfDependents', 'CombinedDue'],\n",
       "      dtype='object')"
      ]
     },
     "execution_count": 151,
     "metadata": {},
     "output_type": "execute_result"
    }
   ],
   "source": [
    "test.drop('NumberOfTime30-59DaysPastDueNotWorse', axis=1, inplace=True)\n",
    "test.columns"
   ]
  },
  {
   "cell_type": "code",
   "execution_count": 152,
   "metadata": {},
   "outputs": [
    {
     "data": {
      "text/html": [
       "<div>\n",
       "<style scoped>\n",
       "    .dataframe tbody tr th:only-of-type {\n",
       "        vertical-align: middle;\n",
       "    }\n",
       "\n",
       "    .dataframe tbody tr th {\n",
       "        vertical-align: top;\n",
       "    }\n",
       "\n",
       "    .dataframe thead th {\n",
       "        text-align: right;\n",
       "    }\n",
       "</style>\n",
       "<table border=\"1\" class=\"dataframe\">\n",
       "  <thead>\n",
       "    <tr style=\"text-align: right;\">\n",
       "      <th></th>\n",
       "      <th>variables</th>\n",
       "      <th>VIF</th>\n",
       "    </tr>\n",
       "  </thead>\n",
       "  <tbody>\n",
       "    <tr>\n",
       "      <th>0</th>\n",
       "      <td>RevolvingUtilizationOfUnsecuredLines</td>\n",
       "      <td>1.833598</td>\n",
       "    </tr>\n",
       "    <tr>\n",
       "      <th>1</th>\n",
       "      <td>age</td>\n",
       "      <td>4.041410</td>\n",
       "    </tr>\n",
       "    <tr>\n",
       "      <th>2</th>\n",
       "      <td>DebtRatio</td>\n",
       "      <td>1.074561</td>\n",
       "    </tr>\n",
       "    <tr>\n",
       "      <th>3</th>\n",
       "      <td>MonthlyIncome</td>\n",
       "      <td>1.265108</td>\n",
       "    </tr>\n",
       "    <tr>\n",
       "      <th>4</th>\n",
       "      <td>NumberOfOpenCreditLinesAndLoans</td>\n",
       "      <td>4.491482</td>\n",
       "    </tr>\n",
       "    <tr>\n",
       "      <th>5</th>\n",
       "      <td>NumberOfTimes90DaysLate</td>\n",
       "      <td>1.031976</td>\n",
       "    </tr>\n",
       "    <tr>\n",
       "      <th>6</th>\n",
       "      <td>NumberRealEstateLoansOrLines</td>\n",
       "      <td>2.216434</td>\n",
       "    </tr>\n",
       "    <tr>\n",
       "      <th>7</th>\n",
       "      <td>NumberOfDependents</td>\n",
       "      <td>1.495610</td>\n",
       "    </tr>\n",
       "    <tr>\n",
       "      <th>8</th>\n",
       "      <td>CombinedDue</td>\n",
       "      <td>1.428909</td>\n",
       "    </tr>\n",
       "  </tbody>\n",
       "</table>\n",
       "</div>"
      ],
      "text/plain": [
       "                              variables       VIF\n",
       "0  RevolvingUtilizationOfUnsecuredLines  1.833598\n",
       "1                                   age  4.041410\n",
       "2                             DebtRatio  1.074561\n",
       "3                         MonthlyIncome  1.265108\n",
       "4       NumberOfOpenCreditLinesAndLoans  4.491482\n",
       "5               NumberOfTimes90DaysLate  1.031976\n",
       "6          NumberRealEstateLoansOrLines  2.216434\n",
       "7                    NumberOfDependents  1.495610\n",
       "8                           CombinedDue  1.428909"
      ]
     },
     "execution_count": 152,
     "metadata": {},
     "output_type": "execute_result"
    }
   ],
   "source": [
    "calc_vif(test)"
   ]
  },
  {
   "cell_type": "markdown",
   "metadata": {},
   "source": [
    "#### RE-START PROCESS BASED ON ALL THE INFORMATION ABOVE"
   ]
  },
  {
   "cell_type": "code",
   "execution_count": 248,
   "metadata": {},
   "outputs": [
    {
     "name": "stdout",
     "output_type": "stream",
     "text": [
      "Number of rows: 150000\n",
      "Number of columns: 12\n"
     ]
    }
   ],
   "source": [
    "credit_train = pd.read_csv('Data/cs-training.csv')\n",
    "print(\"Number of rows: %i\" % credit_train.shape[0])\n",
    "print(\"Number of columns: %i\" % credit_train.shape[1])"
   ]
  },
  {
   "cell_type": "code",
   "execution_count": null,
   "metadata": {},
   "outputs": [],
   "source": []
  },
  {
   "cell_type": "code",
   "execution_count": 249,
   "metadata": {},
   "outputs": [
    {
     "name": "stdout",
     "output_type": "stream",
     "text": [
      "Number of rows: 101503\n",
      "Number of columns: 12\n"
     ]
    }
   ],
   "source": [
    "credit_test = pd.read_csv('Data/cs-test.csv')\n",
    "print(\"Number of rows: %i\" % credit_test.shape[0])\n",
    "print(\"Number of columns: %i\" % credit_test.shape[1])"
   ]
  },
  {
   "cell_type": "code",
   "execution_count": 247,
   "metadata": {},
   "outputs": [],
   "source": [
    "# TRAIN AND TEST DATASET PREPROCESSING FUNCTIONS\n",
    "def categorizeAge(age):\n",
    "    if (age < 30):\n",
    "        return '-30'\n",
    "    elif (age >= 30) & (age < 40):\n",
    "        return'30-40'\n",
    "    elif (age >= 40) & (age < 50):\n",
    "        return'40-50'\n",
    "    elif (age >= 50) & (age < 60):\n",
    "        return'50-60'\n",
    "    elif (age >= 60) & (age < 70):\n",
    "        return'60-70'\n",
    "    elif (age >= 70) & (age < 80):\n",
    "        return'70-80'\n",
    "    elif (age >= 80) & (age < 90):\n",
    "        return'80-90'\n",
    "    else:\n",
    "        return '90-'\n",
    "    \n",
    "######################################################################\n",
    "\n",
    "def data_pre_process(df,  # Actual dataset name\n",
    "                   split,  # Train or test\n",
    "                   age_lower_limit=None, age_upper_limit=None, # To remove outliers in age\n",
    "                   debt_ratio_threshold=None, # To remove outliers in DebtRatio\n",
    "                   revol_util_threshold=None, # To remove outliers in RevolvingUtilizationOfUnsecuredLines\n",
    "                   num_late_threshold=None,  # Can be used to remove outliers 96, 98\n",
    "                   create_combined_late_and_remove=False, # To create CombinedDue column and remove 30-59 and 60-89 columns (VIF)\n",
    "                   num_real_estate_threshold=None, # To remove outliers in NumberRealEstateLoansOrLines\n",
    "                   num_open_credit_threshold=None, # To remove outliers in NumberOfOpenCreditLinesAndLoans\n",
    "                   num_depend_miss=0,\n",
    "                   month_income_miss='mean',  # 'mean' or 'median'\n",
    "                   create_income_miss_col=False # To create a dummie column with 1 in the Income rows missing and imputed\n",
    "                   ):\n",
    "    \n",
    "    df.drop('Unnamed: 0',axis = 1,inplace=True)\n",
    "    \n",
    "    # Impute value of Age=0. Potential entry error. Will impute median age.\n",
    "    df.loc[df['age'] == 0, 'age'] = df.age.median()\n",
    "    \n",
    "    assert split in ['train','test'], 'split must be train or test'\n",
    "    \n",
    "    if split=='train':\n",
    "        # Filter age\n",
    "        if age_lower_limit != None:\n",
    "            df = df[df['age']>age_lower_limit]\n",
    "        if age_upper_limit != None:\n",
    "            df = df[df['age']<age_upper_limit]\n",
    "\n",
    "        # Filter DebtRatio\n",
    "        if debt_ratio_threshold != None:\n",
    "            df = df[df['DebtRatio']<=debt_ratio_threshold]\n",
    "    \n",
    "        # Filter RevolvingUtilizationOfUnsecuredLines\n",
    "        if revol_util_threshold != None:\n",
    "            df = df[df['RevolvingUtilizationOfUnsecuredLines']<=revol_util_threshold]\n",
    "\n",
    "        # Filter NumberOfTimes##DaysLate\n",
    "        if num_late_threshold != None:\n",
    "            df = df[df['NumberOfTime30-59DaysPastDueNotWorse']<=num_late_threshold]\n",
    "            df = df[df['NumberOfTime60-89DaysPastDueNotWorse']<=num_late_threshold]\n",
    "            df = df[df['NumberOfTimes90DaysLate']<=num_late_threshold]\n",
    "        \n",
    "        # Filter NumberRealEstateLoansOrLines\n",
    "        if num_real_estate_threshold != None:\n",
    "            df = df[df['NumberRealEstateLoansOrLines']<num_real_estate_threshold]\n",
    "\n",
    "        # Filter NumberRealEstateLoansOrLines\n",
    "        if num_open_credit_threshold != None:\n",
    "            df = df[df['NumberOfOpenCreditLinesAndLoans']<num_open_credit_threshold]\n",
    "            \n",
    "        df.reset_index(inplace=True, drop=True)\n",
    "        \n",
    "    ##### Creating / Removing Past Due columns - FOR BOTH TRAIN AND TEST #####\n",
    "        \n",
    "    # Create new 'combined due' column and remove 30-59 and 60-89 columns (as per VIF)\n",
    "    if create_combined_late_and_remove:\n",
    "        df['CombinedDue'] = np.where((df['NumberOfTime30-59DaysPastDueNotWorse'] > 0) |\n",
    "                                     (df['NumberOfTimes90DaysLate'] > 0) |\n",
    "                                     (df['NumberOfTime60-89DaysPastDueNotWorse'] > 0), 1, 0)\n",
    "        df.drop('NumberOfTime30-59DaysPastDueNotWorse', axis=1, inplace=True)\n",
    "        df.drop('NumberOfTime60-89DaysPastDueNotWorse', axis=1, inplace=True)\n",
    "\n",
    "    ##### Handling missing values - FOR BOTH TRAIN AND TEST #####\n",
    "    \n",
    "    # Fill NumberOfDependents missing values with 0, which is the mode\n",
    "    df.loc[df['NumberOfDependents'].isnull(),'NumberOfDependents'] = num_depend_miss\n",
    "    \n",
    "    assert month_income_miss in ['mean','median'], 'Monthly income must be filled with median or mean'\n",
    "    \n",
    "    # Create a dummie column with 1 in the Income rows missing and imputed\n",
    "    if create_income_miss_col:\n",
    "        df['income_was_missing'] = df['MonthlyIncome'].isnull()\n",
    "    \n",
    "    # Fill MonthlyIncome missing values\n",
    "    imputedf = df.copy()\n",
    "    imputedf['Age_int'] = imputedf['age'].apply(categorizeAge)\n",
    "    \n",
    "    if month_income_miss == 'mean':\n",
    "        income_dict = imputedf.groupby('Age_int')['MonthlyIncome'].mean().to_dict()\n",
    "    else:\n",
    "        income_dict = imputedf.groupby('Age_int')['MonthlyIncome'].median().to_dict()\n",
    "        \n",
    "    for k, v in income_dict.items(): \n",
    "        imputedf[\"MonthlyIncome\"] = np.where((imputedf[\"MonthlyIncome\"].isnull()) & (imputedf['Age_int'] == k),\n",
    "                                             v, imputedf[\"MonthlyIncome\"])\n",
    "\n",
    "    df['MonthlyIncome'] = imputedf['MonthlyIncome']\n",
    "        \n",
    "    return df"
   ]
  },
  {
   "cell_type": "code",
   "execution_count": 250,
   "metadata": {},
   "outputs": [],
   "source": [
    "train_df = data_pre_process(credit_train,\n",
    "                           split='train',\n",
    "                           debt_ratio_threshold=1267,\n",
    "                           revol_util_threshold=10,\n",
    "                           create_combined_late_and_remove=True,\n",
    "                           num_depend_miss=0,\n",
    "                           month_income_miss='mean',\n",
    "                           create_income_miss_col=True\n",
    "                           )\n",
    "test_df  = data_pre_process(credit_test,\n",
    "                            split='test',\n",
    "                            create_combined_late_and_remove=True,\n",
    "                            create_income_miss_col=True\n",
    "                           )"
   ]
  },
  {
   "cell_type": "code",
   "execution_count": 257,
   "metadata": {},
   "outputs": [
    {
     "name": "stdout",
     "output_type": "stream",
     "text": [
      "Number of rows: 101503\n",
      "Number of columns: 11\n"
     ]
    }
   ],
   "source": [
    "print(\"Number of rows: %i\" % test_df.shape[0])\n",
    "print(\"Number of columns: %i\" % test_df.shape[1])"
   ]
  },
  {
   "cell_type": "code",
   "execution_count": 258,
   "metadata": {},
   "outputs": [
    {
     "name": "stdout",
     "output_type": "stream",
     "text": [
      "Number of rows: 134802\n",
      "Number of columns: 11\n"
     ]
    }
   ],
   "source": [
    "print(\"Number of rows: %i\" % train_df.shape[0])\n",
    "print(\"Number of columns: %i\" % train_df.shape[1])"
   ]
  },
  {
   "cell_type": "code",
   "execution_count": 253,
   "metadata": {},
   "outputs": [
    {
     "data": {
      "text/plain": [
       "Index(['SeriousDlqin2yrs', 'RevolvingUtilizationOfUnsecuredLines', 'age',\n",
       "       'DebtRatio', 'MonthlyIncome', 'NumberOfOpenCreditLinesAndLoans',\n",
       "       'NumberOfTimes90DaysLate', 'NumberRealEstateLoansOrLines',\n",
       "       'NumberOfDependents', 'CombinedDue', 'income_was_missing'],\n",
       "      dtype='object')"
      ]
     },
     "execution_count": 253,
     "metadata": {},
     "output_type": "execute_result"
    }
   ],
   "source": [
    "train_df.columns"
   ]
  },
  {
   "cell_type": "code",
   "execution_count": 255,
   "metadata": {},
   "outputs": [
    {
     "data": {
      "text/plain": [
       "Index(['SeriousDlqin2yrs', 'RevolvingUtilizationOfUnsecuredLines', 'age',\n",
       "       'DebtRatio', 'MonthlyIncome', 'NumberOfOpenCreditLinesAndLoans',\n",
       "       'NumberOfTimes90DaysLate', 'NumberRealEstateLoansOrLines',\n",
       "       'NumberOfDependents', 'CombinedDue', 'income_was_missing'],\n",
       "      dtype='object')"
      ]
     },
     "execution_count": 255,
     "metadata": {},
     "output_type": "execute_result"
    }
   ],
   "source": [
    "test_df.columns"
   ]
  },
  {
   "cell_type": "code",
   "execution_count": null,
   "metadata": {},
   "outputs": [],
   "source": [
    "# DIVIDE TRAIN AND TEST"
   ]
  },
  {
   "cell_type": "code",
   "execution_count": 265,
   "metadata": {},
   "outputs": [],
   "source": [
    "train_x = train_df.iloc[:,1:]\n",
    "train_y = train_df['SeriousDlqin2yrs']\n",
    "test_x = test_df.iloc[:,1:]\n",
    "test_y = test_df['SeriousDlqin2yrs']\n"
   ]
  },
  {
   "cell_type": "code",
   "execution_count": 272,
   "metadata": {},
   "outputs": [
    {
     "name": "stdout",
     "output_type": "stream",
     "text": [
      "train_x shape -  (134802, 10)\n",
      "train_y shape -  (134802,)\n",
      "test_x shape -  (101503, 10)\n",
      "test_y shape -  (101503,)\n"
     ]
    }
   ],
   "source": [
    "print('train_x shape - ', train_x.shape)\n",
    "print('train_y shape - ', train_y.shape)\n",
    "print('test_x shape - ', test_x.shape)\n",
    "print('test_y shape - ', test_y.shape)"
   ]
  },
  {
   "cell_type": "code",
   "execution_count": null,
   "metadata": {},
   "outputs": [],
   "source": [
    "# DECISION TREE WITH THE DATA AS IS\n",
    "# https://machinelearningmastery.com/smote-oversampling-for-imbalanced-classification/"
   ]
  },
  {
   "cell_type": "code",
   "execution_count": 269,
   "metadata": {},
   "outputs": [
    {
     "name": "stdout",
     "output_type": "stream",
     "text": [
      "Mean ROC AUC: 0.606\n",
      "Wall time: 35 s\n"
     ]
    }
   ],
   "source": [
    "%%time\n",
    "# decision tree evaluated on imbalanced dataset\n",
    "# from sklearn.datasets import make_classification\n",
    "from sklearn.model_selection import cross_val_score\n",
    "from sklearn.model_selection import RepeatedStratifiedKFold\n",
    "from sklearn.tree import DecisionTreeClassifier\n",
    "# define dataset\n",
    "#X, y = make_classification(n_samples=10000, n_features=2, n_redundant=0,\n",
    "#\tn_clusters_per_class=1, weights=[0.99], flip_y=0, random_state=1)\n",
    "# define model\n",
    "model = DecisionTreeClassifier()\n",
    "# evaluate pipeline\n",
    "cv = RepeatedStratifiedKFold(n_splits=10, n_repeats=3, random_state=1)\n",
    "scores = cross_val_score(model, train_x, train_y, scoring='roc_auc', cv=cv, n_jobs=-1)\n",
    "print('Mean ROC AUC: %.3f' % np.mean(scores))"
   ]
  },
  {
   "cell_type": "code",
   "execution_count": null,
   "metadata": {},
   "outputs": [],
   "source": [
    "# DECISION TREE WITH SMOTE SAMPLING - OVERSAMPLING"
   ]
  },
  {
   "cell_type": "code",
   "execution_count": 264,
   "metadata": {},
   "outputs": [
    {
     "name": "stdout",
     "output_type": "stream",
     "text": [
      "Mean ROC AUC: 0.621\n"
     ]
    }
   ],
   "source": [
    "# decision tree evaluated on imbalanced dataset with SMOTE oversampling\n",
    "# from sklearn.datasets import make_classification\n",
    "from sklearn.model_selection import cross_val_score\n",
    "from sklearn.model_selection import RepeatedStratifiedKFold\n",
    "from sklearn.tree import DecisionTreeClassifier\n",
    "from imblearn.pipeline import Pipeline\n",
    "from imblearn.over_sampling import SMOTE\n",
    "# define dataset\n",
    "# X, y = make_classification(n_samples=10000, n_features=2, n_redundant=0,\n",
    "#\tn_clusters_per_class=1, weights=[0.99], flip_y=0, random_state=1)\n",
    "# define pipeline\n",
    "steps = [('over', SMOTE()), ('model', DecisionTreeClassifier())]\n",
    "pipeline = Pipeline(steps=steps)\n",
    "# evaluate pipeline\n",
    "cv = RepeatedStratifiedKFold(n_splits=10, n_repeats=3, random_state=1)\n",
    "# scores = cross_val_score(pipeline, X, y, scoring='roc_auc', cv=cv, n_jobs=-1)\n",
    "scores = cross_val_score(pipeline, train_x, train_y, scoring='roc_auc', cv=cv, n_jobs=-1)\n",
    "print('Mean ROC AUC: %.3f' % np.mean(scores))"
   ]
  },
  {
   "cell_type": "code",
   "execution_count": 267,
   "metadata": {},
   "outputs": [
    {
     "data": {
      "text/plain": [
       "array([0.62313541, 0.61580299, 0.61400774, 0.60627359, 0.60940788,\n",
       "       0.6307332 , 0.62170856, 0.62668998, 0.61931708, 0.63722017,\n",
       "       0.62072623, 0.62433201, 0.62118533, 0.62255287, 0.60079016,\n",
       "       0.62051471, 0.63094417, 0.62139084, 0.61131613, 0.6206997 ,\n",
       "       0.6382574 , 0.62542344, 0.61504984, 0.63039264, 0.62459411,\n",
       "       0.61677919, 0.61726258, 0.63191772, 0.61567962, 0.6142668 ])"
      ]
     },
     "execution_count": 267,
     "metadata": {},
     "output_type": "execute_result"
    }
   ],
   "source": [
    "scores"
   ]
  },
  {
   "cell_type": "code",
   "execution_count": null,
   "metadata": {},
   "outputs": [],
   "source": [
    "# DECISION TREE WITH SMOTE SAMPLING - OVERSAMPLING, AND RANDOME UNDERSAMPLING"
   ]
  },
  {
   "cell_type": "code",
   "execution_count": 313,
   "metadata": {},
   "outputs": [
    {
     "name": "stdout",
     "output_type": "stream",
     "text": [
      "Mean ROC AUC: 0.679\n",
      "Wall time: 26.9 s\n"
     ]
    }
   ],
   "source": [
    "%%time\n",
    "# decision tree  on imbalanced dataset with SMOTE oversampling and random undersampling\n",
    "# from sklearn.datasets import make_classification\n",
    "from sklearn.model_selection import cross_val_score\n",
    "from sklearn.model_selection import RepeatedStratifiedKFold\n",
    "from sklearn.tree import DecisionTreeClassifier\n",
    "from imblearn.pipeline import Pipeline\n",
    "from imblearn.over_sampling import SMOTE\n",
    "from imblearn.under_sampling import RandomUnderSampler\n",
    "# define dataset\n",
    "# X, y = make_classification(n_samples=10000, n_features=2, n_redundant=0,\n",
    "# \tn_clusters_per_class=1, weights=[0.99], flip_y=0, random_state=1)\n",
    "# define pipeline\n",
    "model = DecisionTreeClassifier()\n",
    "over = SMOTE(sampling_strategy=0.1)\n",
    "under = RandomUnderSampler(sampling_strategy=0.5)\n",
    "steps = [('over', over), ('under', under), ('model', model)]\n",
    "pipeline = Pipeline(steps=steps)\n",
    "# evaluate pipeline\n",
    "cv = RepeatedStratifiedKFold(n_splits=10, n_repeats=3, random_state=1)\n",
    "scores = cross_val_score(pipeline, train_x, train_y, scoring='roc_auc', cv=cv, n_jobs=-1)\n",
    "print('Mean ROC AUC: %.3f' % np.mean(scores))"
   ]
  },
  {
   "cell_type": "code",
   "execution_count": 304,
   "metadata": {},
   "outputs": [],
   "source": [
    "# GRIDSEARCHS\n",
    "\n",
    "from sklearn.model_selection import GridSearchCV\n",
    "from sklearn.pipeline import Pipeline\n",
    "from sklearn.preprocessing import StandardScaler\n",
    "from sklearn.feature_selection import SelectKBest\n",
    "\n",
    "from sklearn.ensemble import RandomForestClassifier\n",
    "from sklearn.linear_model import LogisticRegression\n",
    "from sklearn.ensemble import GradientBoostingClassifier\n",
    "from sklearn import svm\n",
    "import xgboost as xgb"
   ]
  },
  {
   "cell_type": "code",
   "execution_count": 315,
   "metadata": {},
   "outputs": [],
   "source": [
    "cv1 = RepeatedStratifiedKFold(n_splits=10, n_repeats=1, random_state=1)\n",
    "\n",
    "####### DECISION TREE ###\n",
    "\n",
    "dt_clf = Pipeline(steps = [\n",
    "    (\"over\", SMOTE()),\n",
    "    (\"under\", RandomUnderSampler()),\n",
    "    (\"model\", DecisionTreeClassifier())\n",
    "])\n",
    "\n",
    "dt_clf_params = {\n",
    "    'over__sampling_strategy': [0.1],\n",
    "    'under__sampling_strategy': [0.5],\n",
    "    'model__max_depth': [3, 5, 7, 9]\n",
    "}\n",
    "\n",
    "gs_dt_clf = GridSearchCV(dt_clf,\n",
    "                         dt_clf_params,\n",
    "                         cv = cv1,\n",
    "                         scoring='roc_auc',\n",
    "                         n_jobs=-1,\n",
    "                         verbose=1)\n",
    "\n",
    "####### REGRESION LOGISTICA ###\n",
    "reg_log = Pipeline(steps = [\n",
    "    (\"scaler\", StandardScaler()),\n",
    "    (\"over\", SMOTE()),\n",
    "    (\"under\", RandomUnderSampler()),\n",
    "    (\"reglog\", LogisticRegression())\n",
    "])\n",
    "\n",
    "re_log_param = {\n",
    "    'over__sampling_strategy': [0.1],\n",
    "    'under__sampling_strategy': [0.5],\n",
    "    \"reglog__penalty\": [\"l1\", \"l2\"],\n",
    "    \"reglog__C\": np.arange(0, 3, 0.5)\n",
    "}\n",
    "\n",
    "gs_reg_log = GridSearchCV(reg_log,\n",
    "                         re_log_param,\n",
    "                         cv = cv1,\n",
    "                         scoring='roc_auc',\n",
    "                         n_jobs=-1,\n",
    "                         verbose=1)\n",
    "\n",
    "\n",
    "####### GRIDS ###\n",
    "grids1 = {\n",
    "    \"gs_dt_clf\": gs_dt_clf,\n",
    "    \"gs_reg_log\": gs_reg_log\n",
    "}\n"
   ]
  },
  {
   "cell_type": "code",
   "execution_count": 316,
   "metadata": {},
   "outputs": [],
   "source": [
    "cv1 = RepeatedStratifiedKFold(n_splits=10, n_repeats=1, random_state=1)\n",
    "\n",
    "####### SVM ###\n",
    "svc = Pipeline([\n",
    "    (\"scaler\", StandardScaler()),\n",
    "    (\"over\", SMOTE()),\n",
    "    (\"under\", RandomUnderSampler()),\n",
    "#    (\"selectkbest\", SelectKBest()),\n",
    "    (\"svc\", svm.SVC())\n",
    "])\n",
    "\n",
    "svc_param = {\n",
    "    'over__sampling_strategy': [0.1],\n",
    "    'under__sampling_strategy': [0.5],\n",
    "#    \"selectkbest__k\": [1, 2, 3],\n",
    "    \"svc__C\": np.arange(0.1, 0.7, 0.2),\n",
    "    \"svc__kernel\": ['linear', 'poly']\n",
    "}\n",
    "\n",
    "gs_svm = GridSearchCV(svc,\n",
    "                         svc_param,\n",
    "                         cv = cv1,\n",
    "                         scoring='roc_auc',\n",
    "                         n_jobs=-1,\n",
    "                         verbose=1)\n",
    "\n",
    "####### RANDOM FOREST ###\n",
    "rand_forest = Pipeline(steps = [\n",
    "    (\"over\", SMOTE()),\n",
    "    (\"under\", RandomUnderSampler()),\n",
    "    (\"model\", RandomForestClassifier())\n",
    "])\n",
    "\n",
    "rand_forest_params = {\n",
    "    'over__sampling_strategy': [0.1],\n",
    "    'under__sampling_strategy': [0.5],\n",
    "    'model__n_estimators': [10, 100],\n",
    "    'model__max_features': [2, 3, 4]\n",
    "}\n",
    "\n",
    "gs_rand_forest = GridSearchCV(rand_forest,\n",
    "                         rand_forest_params,\n",
    "                         cv = cv1,\n",
    "                         scoring='roc_auc',\n",
    "                         n_jobs=-1,\n",
    "                         verbose=1)\n",
    "\n",
    "####### GRIDS ###\n",
    "grids2 = {\n",
    "    \"gs_svm\": gs_svm,\n",
    "    \"gs_rand_forest\": gs_rand_forest\n",
    "}\n"
   ]
  },
  {
   "cell_type": "code",
   "execution_count": null,
   "metadata": {},
   "outputs": [],
   "source": []
  },
  {
   "cell_type": "code",
   "execution_count": 317,
   "metadata": {},
   "outputs": [],
   "source": [
    "cv1 = RepeatedStratifiedKFold(n_splits=10, n_repeats=1, random_state=1)\n",
    "\n",
    "####### GRADIENT BOOST CLASSIFIER ###\n",
    "gbc = Pipeline(steps = [\n",
    "    (\"over\", SMOTE()),\n",
    "    (\"under\", RandomUnderSampler()),\n",
    "    (\"model\", GradientBoostingClassifier())\n",
    "])\n",
    "\n",
    "gbc_param = {\n",
    "    'over__sampling_strategy': [0.1],\n",
    "    'under__sampling_strategy': [0.5],\n",
    "    'model__learning_rate': [0.05, 0.1],\n",
    "    'model__n_estimators': [50, 100],\n",
    "    'model__max_depth': [3,5]\n",
    "}\n",
    "\n",
    "gs_gbc = GridSearchCV(gbc,\n",
    "                      gbc_param,\n",
    "                      cv=cv1,\n",
    "                      scoring='roc_auc',\n",
    "                      verbose=1,\n",
    "                      n_jobs=-1)\n",
    "\n",
    "####### X-GRADIENT BOOST CLASSIFIER ###\n",
    "xgbc = Pipeline(steps = [\n",
    "    (\"over\", SMOTE()),\n",
    "    (\"under\", RandomUnderSampler()),\n",
    "    (\"model\", xgb.XGBClassifier())\n",
    "])\n",
    "\n",
    "xgbc_param = {\n",
    "    'over__sampling_strategy': [0.1],\n",
    "    'under__sampling_strategy': [0.5],\n",
    "    'model__n_estimators': [1000],\n",
    "    'model__min_child_weight': [9.0],\n",
    "    'model__objective': ['binary:logistic'],\n",
    "    'model__gamma': [0.65],\n",
    "    'model__max_depth': [6],\n",
    "    'model__max_delta_step': [1.8],\n",
    "    'model__colsample_bytree': [0.5],\n",
    "    'model__eta': [0.01],\n",
    "    'model__tree_method': ['gpu_hist']\n",
    "}\n",
    "\n",
    "gs_xgbc = GridSearchCV(xgbc,\n",
    "                      xgbc_param,\n",
    "                      cv=cv1,\n",
    "                      scoring='roc_auc',\n",
    "                      verbose=1,\n",
    "                      n_jobs=-1)\n",
    "\n",
    "####### GRIDS ###\n",
    "grids3 = {\n",
    "    \"gs_gbc\": gs_gbc,\n",
    "    \"gs_xgbc\": gs_xgbc\n",
    "}\n"
   ]
  },
  {
   "cell_type": "code",
   "execution_count": 318,
   "metadata": {},
   "outputs": [
    {
     "name": "stdout",
     "output_type": "stream",
     "text": [
      "Fitting 10 folds for each of 4 candidates, totalling 40 fits\n"
     ]
    },
    {
     "name": "stderr",
     "output_type": "stream",
     "text": [
      "[Parallel(n_jobs=-1)]: Using backend LokyBackend with 4 concurrent workers.\n",
      "[Parallel(n_jobs=-1)]: Done  40 out of  40 | elapsed:   20.3s finished\n"
     ]
    },
    {
     "name": "stdout",
     "output_type": "stream",
     "text": [
      "Fitting 10 folds for each of 12 candidates, totalling 120 fits\n"
     ]
    },
    {
     "name": "stderr",
     "output_type": "stream",
     "text": [
      "[Parallel(n_jobs=-1)]: Using backend LokyBackend with 4 concurrent workers.\n",
      "[Parallel(n_jobs=-1)]: Done  42 tasks      | elapsed:   27.8s\n",
      "[Parallel(n_jobs=-1)]: Done 120 out of 120 | elapsed:  1.3min finished\n"
     ]
    },
    {
     "name": "stdout",
     "output_type": "stream",
     "text": [
      "Wall time: 1min 44s\n"
     ]
    }
   ],
   "source": [
    "%%time\n",
    "for nombre, grid_search in grids1.items():\n",
    "    grid_search.fit(train_x, train_y)"
   ]
  },
  {
   "cell_type": "code",
   "execution_count": 319,
   "metadata": {},
   "outputs": [
    {
     "name": "stdout",
     "output_type": "stream",
     "text": [
      "Fitting 10 folds for each of 6 candidates, totalling 60 fits\n"
     ]
    },
    {
     "name": "stderr",
     "output_type": "stream",
     "text": [
      "[Parallel(n_jobs=-1)]: Using backend LokyBackend with 4 concurrent workers.\n",
      "[Parallel(n_jobs=-1)]: Done  42 tasks      | elapsed: 15.8min\n",
      "[Parallel(n_jobs=-1)]: Done  60 out of  60 | elapsed: 23.9min finished\n"
     ]
    },
    {
     "name": "stdout",
     "output_type": "stream",
     "text": [
      "Fitting 10 folds for each of 6 candidates, totalling 60 fits\n"
     ]
    },
    {
     "name": "stderr",
     "output_type": "stream",
     "text": [
      "[Parallel(n_jobs=-1)]: Using backend LokyBackend with 4 concurrent workers.\n",
      "[Parallel(n_jobs=-1)]: Done  42 tasks      | elapsed:  2.0min\n",
      "[Parallel(n_jobs=-1)]: Done  60 out of  60 | elapsed:  3.3min finished\n"
     ]
    },
    {
     "name": "stdout",
     "output_type": "stream",
     "text": [
      "Wall time: 28min 56s\n"
     ]
    }
   ],
   "source": [
    "%%time\n",
    "for nombre, grid_search in grids2.items():\n",
    "    grid_search.fit(train_x, train_y)"
   ]
  },
  {
   "cell_type": "code",
   "execution_count": 320,
   "metadata": {
    "collapsed": true,
    "jupyter": {
     "outputs_hidden": true
    }
   },
   "outputs": [
    {
     "name": "stdout",
     "output_type": "stream",
     "text": [
      "Fitting 10 folds for each of 8 candidates, totalling 80 fits\n"
     ]
    },
    {
     "name": "stderr",
     "output_type": "stream",
     "text": [
      "[Parallel(n_jobs=-1)]: Using backend LokyBackend with 4 concurrent workers.\n",
      "[Parallel(n_jobs=-1)]: Done  42 tasks      | elapsed:  2.8min\n",
      "[Parallel(n_jobs=-1)]: Done  80 out of  80 | elapsed:  5.4min finished\n"
     ]
    },
    {
     "name": "stdout",
     "output_type": "stream",
     "text": [
      "Fitting 10 folds for each of 1 candidates, totalling 10 fits\n"
     ]
    },
    {
     "name": "stderr",
     "output_type": "stream",
     "text": [
      "[Parallel(n_jobs=-1)]: Using backend LokyBackend with 4 concurrent workers.\n",
      "[Parallel(n_jobs=-1)]: Done  10 out of  10 | elapsed:   19.9s finished\n"
     ]
    },
    {
     "name": "stdout",
     "output_type": "stream",
     "text": [
      "[03:53:54] WARNING: C:\\Users\\Administrator\\workspace\\xgboost-win64_release_1.2.0\\src\\learner.cc:207: No visible GPU is found, setting `gpu_id` to -1\n"
     ]
    },
    {
     "ename": "XGBoostError",
     "evalue": "[03:53:54] C:\\Users\\Administrator\\workspace\\xgboost-win64_release_1.2.0\\src\\gbm\\gbtree.cc:459: Check failed: common::AllVisibleGPUs() >= 1 (0 vs. 1) : No visible GPU is found for XGBoost.",
     "output_type": "error",
     "traceback": [
      "\u001b[1;31m---------------------------------------------------------------------------\u001b[0m",
      "\u001b[1;31mXGBoostError\u001b[0m                              Traceback (most recent call last)",
      "\u001b[1;32m<timed exec>\u001b[0m in \u001b[0;36m<module>\u001b[1;34m\u001b[0m\n",
      "\u001b[1;32m~\\anaconda3\\lib\\site-packages\\sklearn\\utils\\validation.py\u001b[0m in \u001b[0;36minner_f\u001b[1;34m(*args, **kwargs)\u001b[0m\n\u001b[0;32m     71\u001b[0m                           FutureWarning)\n\u001b[0;32m     72\u001b[0m         \u001b[0mkwargs\u001b[0m\u001b[1;33m.\u001b[0m\u001b[0mupdate\u001b[0m\u001b[1;33m(\u001b[0m\u001b[1;33m{\u001b[0m\u001b[0mk\u001b[0m\u001b[1;33m:\u001b[0m \u001b[0marg\u001b[0m \u001b[1;32mfor\u001b[0m \u001b[0mk\u001b[0m\u001b[1;33m,\u001b[0m \u001b[0marg\u001b[0m \u001b[1;32min\u001b[0m \u001b[0mzip\u001b[0m\u001b[1;33m(\u001b[0m\u001b[0msig\u001b[0m\u001b[1;33m.\u001b[0m\u001b[0mparameters\u001b[0m\u001b[1;33m,\u001b[0m \u001b[0margs\u001b[0m\u001b[1;33m)\u001b[0m\u001b[1;33m}\u001b[0m\u001b[1;33m)\u001b[0m\u001b[1;33m\u001b[0m\u001b[1;33m\u001b[0m\u001b[0m\n\u001b[1;32m---> 73\u001b[1;33m         \u001b[1;32mreturn\u001b[0m \u001b[0mf\u001b[0m\u001b[1;33m(\u001b[0m\u001b[1;33m**\u001b[0m\u001b[0mkwargs\u001b[0m\u001b[1;33m)\u001b[0m\u001b[1;33m\u001b[0m\u001b[1;33m\u001b[0m\u001b[0m\n\u001b[0m\u001b[0;32m     74\u001b[0m     \u001b[1;32mreturn\u001b[0m \u001b[0minner_f\u001b[0m\u001b[1;33m\u001b[0m\u001b[1;33m\u001b[0m\u001b[0m\n\u001b[0;32m     75\u001b[0m \u001b[1;33m\u001b[0m\u001b[0m\n",
      "\u001b[1;32m~\\anaconda3\\lib\\site-packages\\sklearn\\model_selection\\_search.py\u001b[0m in \u001b[0;36mfit\u001b[1;34m(self, X, y, groups, **fit_params)\u001b[0m\n\u001b[0;32m    763\u001b[0m             \u001b[0mrefit_start_time\u001b[0m \u001b[1;33m=\u001b[0m \u001b[0mtime\u001b[0m\u001b[1;33m.\u001b[0m\u001b[0mtime\u001b[0m\u001b[1;33m(\u001b[0m\u001b[1;33m)\u001b[0m\u001b[1;33m\u001b[0m\u001b[1;33m\u001b[0m\u001b[0m\n\u001b[0;32m    764\u001b[0m             \u001b[1;32mif\u001b[0m \u001b[0my\u001b[0m \u001b[1;32mis\u001b[0m \u001b[1;32mnot\u001b[0m \u001b[1;32mNone\u001b[0m\u001b[1;33m:\u001b[0m\u001b[1;33m\u001b[0m\u001b[1;33m\u001b[0m\u001b[0m\n\u001b[1;32m--> 765\u001b[1;33m                 \u001b[0mself\u001b[0m\u001b[1;33m.\u001b[0m\u001b[0mbest_estimator_\u001b[0m\u001b[1;33m.\u001b[0m\u001b[0mfit\u001b[0m\u001b[1;33m(\u001b[0m\u001b[0mX\u001b[0m\u001b[1;33m,\u001b[0m \u001b[0my\u001b[0m\u001b[1;33m,\u001b[0m \u001b[1;33m**\u001b[0m\u001b[0mfit_params\u001b[0m\u001b[1;33m)\u001b[0m\u001b[1;33m\u001b[0m\u001b[1;33m\u001b[0m\u001b[0m\n\u001b[0m\u001b[0;32m    766\u001b[0m             \u001b[1;32melse\u001b[0m\u001b[1;33m:\u001b[0m\u001b[1;33m\u001b[0m\u001b[1;33m\u001b[0m\u001b[0m\n\u001b[0;32m    767\u001b[0m                 \u001b[0mself\u001b[0m\u001b[1;33m.\u001b[0m\u001b[0mbest_estimator_\u001b[0m\u001b[1;33m.\u001b[0m\u001b[0mfit\u001b[0m\u001b[1;33m(\u001b[0m\u001b[0mX\u001b[0m\u001b[1;33m,\u001b[0m \u001b[1;33m**\u001b[0m\u001b[0mfit_params\u001b[0m\u001b[1;33m)\u001b[0m\u001b[1;33m\u001b[0m\u001b[1;33m\u001b[0m\u001b[0m\n",
      "\u001b[1;32m~\\anaconda3\\lib\\site-packages\\imblearn\\pipeline.py\u001b[0m in \u001b[0;36mfit\u001b[1;34m(self, X, y, **fit_params)\u001b[0m\n\u001b[0;32m    279\u001b[0m                                  self._log_message(len(self.steps) - 1)):\n\u001b[0;32m    280\u001b[0m             \u001b[1;32mif\u001b[0m \u001b[0mself\u001b[0m\u001b[1;33m.\u001b[0m\u001b[0m_final_estimator\u001b[0m \u001b[1;33m!=\u001b[0m \u001b[1;34m\"passthrough\"\u001b[0m\u001b[1;33m:\u001b[0m\u001b[1;33m\u001b[0m\u001b[1;33m\u001b[0m\u001b[0m\n\u001b[1;32m--> 281\u001b[1;33m                 \u001b[0mself\u001b[0m\u001b[1;33m.\u001b[0m\u001b[0m_final_estimator\u001b[0m\u001b[1;33m.\u001b[0m\u001b[0mfit\u001b[0m\u001b[1;33m(\u001b[0m\u001b[0mXt\u001b[0m\u001b[1;33m,\u001b[0m \u001b[0myt\u001b[0m\u001b[1;33m,\u001b[0m \u001b[1;33m**\u001b[0m\u001b[0mfit_params\u001b[0m\u001b[1;33m)\u001b[0m\u001b[1;33m\u001b[0m\u001b[1;33m\u001b[0m\u001b[0m\n\u001b[0m\u001b[0;32m    282\u001b[0m         \u001b[1;32mreturn\u001b[0m \u001b[0mself\u001b[0m\u001b[1;33m\u001b[0m\u001b[1;33m\u001b[0m\u001b[0m\n\u001b[0;32m    283\u001b[0m \u001b[1;33m\u001b[0m\u001b[0m\n",
      "\u001b[1;32m~\\anaconda3\\lib\\site-packages\\xgboost\\sklearn.py\u001b[0m in \u001b[0;36mfit\u001b[1;34m(self, X, y, sample_weight, base_margin, eval_set, eval_metric, early_stopping_rounds, verbose, xgb_model, sample_weight_eval_set, callbacks)\u001b[0m\n\u001b[0;32m    826\u001b[0m                                 missing=self.missing, nthread=self.n_jobs)\n\u001b[0;32m    827\u001b[0m \u001b[1;33m\u001b[0m\u001b[0m\n\u001b[1;32m--> 828\u001b[1;33m         self._Booster = train(xgb_options, train_dmatrix,\n\u001b[0m\u001b[0;32m    829\u001b[0m                               \u001b[0mself\u001b[0m\u001b[1;33m.\u001b[0m\u001b[0mget_num_boosting_rounds\u001b[0m\u001b[1;33m(\u001b[0m\u001b[1;33m)\u001b[0m\u001b[1;33m,\u001b[0m\u001b[1;33m\u001b[0m\u001b[1;33m\u001b[0m\u001b[0m\n\u001b[0;32m    830\u001b[0m                               \u001b[0mevals\u001b[0m\u001b[1;33m=\u001b[0m\u001b[0mevals\u001b[0m\u001b[1;33m,\u001b[0m\u001b[1;33m\u001b[0m\u001b[1;33m\u001b[0m\u001b[0m\n",
      "\u001b[1;32m~\\anaconda3\\lib\\site-packages\\xgboost\\training.py\u001b[0m in \u001b[0;36mtrain\u001b[1;34m(params, dtrain, num_boost_round, evals, obj, feval, maximize, early_stopping_rounds, evals_result, verbose_eval, xgb_model, callbacks)\u001b[0m\n\u001b[0;32m    206\u001b[0m         \u001b[0mcallbacks\u001b[0m\u001b[1;33m.\u001b[0m\u001b[0mappend\u001b[0m\u001b[1;33m(\u001b[0m\u001b[0mcallback\u001b[0m\u001b[1;33m.\u001b[0m\u001b[0mrecord_evaluation\u001b[0m\u001b[1;33m(\u001b[0m\u001b[0mevals_result\u001b[0m\u001b[1;33m)\u001b[0m\u001b[1;33m)\u001b[0m\u001b[1;33m\u001b[0m\u001b[1;33m\u001b[0m\u001b[0m\n\u001b[0;32m    207\u001b[0m \u001b[1;33m\u001b[0m\u001b[0m\n\u001b[1;32m--> 208\u001b[1;33m     return _train_internal(params, dtrain,\n\u001b[0m\u001b[0;32m    209\u001b[0m                            \u001b[0mnum_boost_round\u001b[0m\u001b[1;33m=\u001b[0m\u001b[0mnum_boost_round\u001b[0m\u001b[1;33m,\u001b[0m\u001b[1;33m\u001b[0m\u001b[1;33m\u001b[0m\u001b[0m\n\u001b[0;32m    210\u001b[0m                            \u001b[0mevals\u001b[0m\u001b[1;33m=\u001b[0m\u001b[0mevals\u001b[0m\u001b[1;33m,\u001b[0m\u001b[1;33m\u001b[0m\u001b[1;33m\u001b[0m\u001b[0m\n",
      "\u001b[1;32m~\\anaconda3\\lib\\site-packages\\xgboost\\training.py\u001b[0m in \u001b[0;36m_train_internal\u001b[1;34m(params, dtrain, num_boost_round, evals, obj, feval, xgb_model, callbacks)\u001b[0m\n\u001b[0;32m     73\u001b[0m         \u001b[1;31m# Skip the first update if it is a recovery step.\u001b[0m\u001b[1;33m\u001b[0m\u001b[1;33m\u001b[0m\u001b[1;33m\u001b[0m\u001b[0m\n\u001b[0;32m     74\u001b[0m         \u001b[1;32mif\u001b[0m \u001b[0mversion\u001b[0m \u001b[1;33m%\u001b[0m \u001b[1;36m2\u001b[0m \u001b[1;33m==\u001b[0m \u001b[1;36m0\u001b[0m\u001b[1;33m:\u001b[0m\u001b[1;33m\u001b[0m\u001b[1;33m\u001b[0m\u001b[0m\n\u001b[1;32m---> 75\u001b[1;33m             \u001b[0mbst\u001b[0m\u001b[1;33m.\u001b[0m\u001b[0mupdate\u001b[0m\u001b[1;33m(\u001b[0m\u001b[0mdtrain\u001b[0m\u001b[1;33m,\u001b[0m \u001b[0mi\u001b[0m\u001b[1;33m,\u001b[0m \u001b[0mobj\u001b[0m\u001b[1;33m)\u001b[0m\u001b[1;33m\u001b[0m\u001b[1;33m\u001b[0m\u001b[0m\n\u001b[0m\u001b[0;32m     76\u001b[0m             \u001b[0mbst\u001b[0m\u001b[1;33m.\u001b[0m\u001b[0msave_rabit_checkpoint\u001b[0m\u001b[1;33m(\u001b[0m\u001b[1;33m)\u001b[0m\u001b[1;33m\u001b[0m\u001b[1;33m\u001b[0m\u001b[0m\n\u001b[0;32m     77\u001b[0m             \u001b[0mversion\u001b[0m \u001b[1;33m+=\u001b[0m \u001b[1;36m1\u001b[0m\u001b[1;33m\u001b[0m\u001b[1;33m\u001b[0m\u001b[0m\n",
      "\u001b[1;32m~\\anaconda3\\lib\\site-packages\\xgboost\\core.py\u001b[0m in \u001b[0;36mupdate\u001b[1;34m(self, dtrain, iteration, fobj)\u001b[0m\n\u001b[0;32m   1157\u001b[0m \u001b[1;33m\u001b[0m\u001b[0m\n\u001b[0;32m   1158\u001b[0m         \u001b[1;32mif\u001b[0m \u001b[0mfobj\u001b[0m \u001b[1;32mis\u001b[0m \u001b[1;32mNone\u001b[0m\u001b[1;33m:\u001b[0m\u001b[1;33m\u001b[0m\u001b[1;33m\u001b[0m\u001b[0m\n\u001b[1;32m-> 1159\u001b[1;33m             _check_call(_LIB.XGBoosterUpdateOneIter(self.handle,\n\u001b[0m\u001b[0;32m   1160\u001b[0m                                                     \u001b[0mctypes\u001b[0m\u001b[1;33m.\u001b[0m\u001b[0mc_int\u001b[0m\u001b[1;33m(\u001b[0m\u001b[0miteration\u001b[0m\u001b[1;33m)\u001b[0m\u001b[1;33m,\u001b[0m\u001b[1;33m\u001b[0m\u001b[1;33m\u001b[0m\u001b[0m\n\u001b[0;32m   1161\u001b[0m                                                     dtrain.handle))\n",
      "\u001b[1;32m~\\anaconda3\\lib\\site-packages\\xgboost\\core.py\u001b[0m in \u001b[0;36m_check_call\u001b[1;34m(ret)\u001b[0m\n\u001b[0;32m    186\u001b[0m     \"\"\"\n\u001b[0;32m    187\u001b[0m     \u001b[1;32mif\u001b[0m \u001b[0mret\u001b[0m \u001b[1;33m!=\u001b[0m \u001b[1;36m0\u001b[0m\u001b[1;33m:\u001b[0m\u001b[1;33m\u001b[0m\u001b[1;33m\u001b[0m\u001b[0m\n\u001b[1;32m--> 188\u001b[1;33m         \u001b[1;32mraise\u001b[0m \u001b[0mXGBoostError\u001b[0m\u001b[1;33m(\u001b[0m\u001b[0mpy_str\u001b[0m\u001b[1;33m(\u001b[0m\u001b[0m_LIB\u001b[0m\u001b[1;33m.\u001b[0m\u001b[0mXGBGetLastError\u001b[0m\u001b[1;33m(\u001b[0m\u001b[1;33m)\u001b[0m\u001b[1;33m)\u001b[0m\u001b[1;33m)\u001b[0m\u001b[1;33m\u001b[0m\u001b[1;33m\u001b[0m\u001b[0m\n\u001b[0m\u001b[0;32m    189\u001b[0m \u001b[1;33m\u001b[0m\u001b[0m\n\u001b[0;32m    190\u001b[0m \u001b[1;33m\u001b[0m\u001b[0m\n",
      "\u001b[1;31mXGBoostError\u001b[0m: [03:53:54] C:\\Users\\Administrator\\workspace\\xgboost-win64_release_1.2.0\\src\\gbm\\gbtree.cc:459: Check failed: common::AllVisibleGPUs() >= 1 (0 vs. 1) : No visible GPU is found for XGBoost."
     ]
    }
   ],
   "source": [
    "%%time\n",
    "for nombre, grid_search in grids3.items():\n",
    "    grid_search.fit(train_x, train_y)"
   ]
  },
  {
   "cell_type": "code",
   "execution_count": 323,
   "metadata": {},
   "outputs": [],
   "source": [
    "####### X-GRADIENT BOOST CLASSIFIER ###\n",
    "xgbc = Pipeline(steps = [\n",
    "    (\"over\", SMOTE()),\n",
    "    (\"under\", RandomUnderSampler()),\n",
    "    (\"model\", xgb.XGBClassifier())\n",
    "])\n",
    "\n",
    "xgbc_param = {\n",
    "    'over__sampling_strategy': [0.1],\n",
    "    'under__sampling_strategy': [0.5],\n",
    "    'model__n_estimators': [1000],\n",
    "    'model__min_child_weight': [9.0],\n",
    "    'model__objective': ['binary:logistic'],\n",
    "    'model__gamma': [0.65],\n",
    "    'model__max_depth': [6],\n",
    "    'model__max_delta_step': [1.8],\n",
    "    'model__colsample_bytree': [0.5],\n",
    "    'model__eta': [0.01],\n",
    "    'model__tree_method': ['gpu_hist']\n",
    "}\n",
    "\n",
    "gs_xgbc = GridSearchCV(xgbc,\n",
    "                      xgbc_param,\n",
    "                      cv=cv1,\n",
    "                      scoring='roc_auc',\n",
    "                      verbose=1)\n",
    "#                      n_jobs=-1)\n",
    "\n",
    "####### GRIDS ###\n",
    "grids4 = {\n",
    "    \"gs_xgbc\": gs_xgbc\n",
    "}"
   ]
  },
  {
   "cell_type": "code",
   "execution_count": 324,
   "metadata": {
    "collapsed": true,
    "jupyter": {
     "outputs_hidden": true
    }
   },
   "outputs": [
    {
     "name": "stdout",
     "output_type": "stream",
     "text": [
      "Fitting 10 folds for each of 1 candidates, totalling 10 fits\n"
     ]
    },
    {
     "name": "stderr",
     "output_type": "stream",
     "text": [
      "[Parallel(n_jobs=1)]: Using backend SequentialBackend with 1 concurrent workers.\n"
     ]
    },
    {
     "name": "stdout",
     "output_type": "stream",
     "text": [
      "[04:02:35] WARNING: C:\\Users\\Administrator\\workspace\\xgboost-win64_release_1.2.0\\src\\learner.cc:207: No visible GPU is found, setting `gpu_id` to -1\n"
     ]
    },
    {
     "name": "stderr",
     "output_type": "stream",
     "text": [
      "C:\\Users\\Quique\\anaconda3\\lib\\site-packages\\sklearn\\model_selection\\_validation.py:548: FitFailedWarning: Estimator fit failed. The score on this train-test partition for these parameters will be set to nan. Details: \n",
      "Traceback (most recent call last):\n",
      "  File \"C:\\Users\\Quique\\anaconda3\\lib\\site-packages\\sklearn\\model_selection\\_validation.py\", line 531, in _fit_and_score\n",
      "    estimator.fit(X_train, y_train, **fit_params)\n",
      "  File \"C:\\Users\\Quique\\anaconda3\\lib\\site-packages\\imblearn\\pipeline.py\", line 281, in fit\n",
      "    self._final_estimator.fit(Xt, yt, **fit_params)\n",
      "  File \"C:\\Users\\Quique\\anaconda3\\lib\\site-packages\\xgboost\\sklearn.py\", line 828, in fit\n",
      "    self._Booster = train(xgb_options, train_dmatrix,\n",
      "  File \"C:\\Users\\Quique\\anaconda3\\lib\\site-packages\\xgboost\\training.py\", line 208, in train\n",
      "    return _train_internal(params, dtrain,\n",
      "  File \"C:\\Users\\Quique\\anaconda3\\lib\\site-packages\\xgboost\\training.py\", line 75, in _train_internal\n",
      "    bst.update(dtrain, i, obj)\n",
      "  File \"C:\\Users\\Quique\\anaconda3\\lib\\site-packages\\xgboost\\core.py\", line 1159, in update\n",
      "    _check_call(_LIB.XGBoosterUpdateOneIter(self.handle,\n",
      "  File \"C:\\Users\\Quique\\anaconda3\\lib\\site-packages\\xgboost\\core.py\", line 188, in _check_call\n",
      "    raise XGBoostError(py_str(_LIB.XGBGetLastError()))\n",
      "xgboost.core.XGBoostError: [04:02:35] C:\\Users\\Administrator\\workspace\\xgboost-win64_release_1.2.0\\src\\gbm\\gbtree.cc:459: Check failed: common::AllVisibleGPUs() >= 1 (0 vs. 1) : No visible GPU is found for XGBoost.\n",
      "\n",
      "  warnings.warn(\"Estimator fit failed. The score on this train-test\"\n"
     ]
    },
    {
     "name": "stdout",
     "output_type": "stream",
     "text": [
      "[04:02:36] WARNING: C:\\Users\\Administrator\\workspace\\xgboost-win64_release_1.2.0\\src\\learner.cc:207: No visible GPU is found, setting `gpu_id` to -1\n"
     ]
    },
    {
     "name": "stderr",
     "output_type": "stream",
     "text": [
      "C:\\Users\\Quique\\anaconda3\\lib\\site-packages\\sklearn\\model_selection\\_validation.py:548: FitFailedWarning: Estimator fit failed. The score on this train-test partition for these parameters will be set to nan. Details: \n",
      "Traceback (most recent call last):\n",
      "  File \"C:\\Users\\Quique\\anaconda3\\lib\\site-packages\\sklearn\\model_selection\\_validation.py\", line 531, in _fit_and_score\n",
      "    estimator.fit(X_train, y_train, **fit_params)\n",
      "  File \"C:\\Users\\Quique\\anaconda3\\lib\\site-packages\\imblearn\\pipeline.py\", line 281, in fit\n",
      "    self._final_estimator.fit(Xt, yt, **fit_params)\n",
      "  File \"C:\\Users\\Quique\\anaconda3\\lib\\site-packages\\xgboost\\sklearn.py\", line 828, in fit\n",
      "    self._Booster = train(xgb_options, train_dmatrix,\n",
      "  File \"C:\\Users\\Quique\\anaconda3\\lib\\site-packages\\xgboost\\training.py\", line 208, in train\n",
      "    return _train_internal(params, dtrain,\n",
      "  File \"C:\\Users\\Quique\\anaconda3\\lib\\site-packages\\xgboost\\training.py\", line 75, in _train_internal\n",
      "    bst.update(dtrain, i, obj)\n",
      "  File \"C:\\Users\\Quique\\anaconda3\\lib\\site-packages\\xgboost\\core.py\", line 1159, in update\n",
      "    _check_call(_LIB.XGBoosterUpdateOneIter(self.handle,\n",
      "  File \"C:\\Users\\Quique\\anaconda3\\lib\\site-packages\\xgboost\\core.py\", line 188, in _check_call\n",
      "    raise XGBoostError(py_str(_LIB.XGBGetLastError()))\n",
      "xgboost.core.XGBoostError: [04:02:36] C:\\Users\\Administrator\\workspace\\xgboost-win64_release_1.2.0\\src\\gbm\\gbtree.cc:459: Check failed: common::AllVisibleGPUs() >= 1 (0 vs. 1) : No visible GPU is found for XGBoost.\n",
      "\n",
      "  warnings.warn(\"Estimator fit failed. The score on this train-test\"\n"
     ]
    },
    {
     "name": "stdout",
     "output_type": "stream",
     "text": [
      "[04:02:37] WARNING: C:\\Users\\Administrator\\workspace\\xgboost-win64_release_1.2.0\\src\\learner.cc:207: No visible GPU is found, setting `gpu_id` to -1\n"
     ]
    },
    {
     "name": "stderr",
     "output_type": "stream",
     "text": [
      "C:\\Users\\Quique\\anaconda3\\lib\\site-packages\\sklearn\\model_selection\\_validation.py:548: FitFailedWarning: Estimator fit failed. The score on this train-test partition for these parameters will be set to nan. Details: \n",
      "Traceback (most recent call last):\n",
      "  File \"C:\\Users\\Quique\\anaconda3\\lib\\site-packages\\sklearn\\model_selection\\_validation.py\", line 531, in _fit_and_score\n",
      "    estimator.fit(X_train, y_train, **fit_params)\n",
      "  File \"C:\\Users\\Quique\\anaconda3\\lib\\site-packages\\imblearn\\pipeline.py\", line 281, in fit\n",
      "    self._final_estimator.fit(Xt, yt, **fit_params)\n",
      "  File \"C:\\Users\\Quique\\anaconda3\\lib\\site-packages\\xgboost\\sklearn.py\", line 828, in fit\n",
      "    self._Booster = train(xgb_options, train_dmatrix,\n",
      "  File \"C:\\Users\\Quique\\anaconda3\\lib\\site-packages\\xgboost\\training.py\", line 208, in train\n",
      "    return _train_internal(params, dtrain,\n",
      "  File \"C:\\Users\\Quique\\anaconda3\\lib\\site-packages\\xgboost\\training.py\", line 75, in _train_internal\n",
      "    bst.update(dtrain, i, obj)\n",
      "  File \"C:\\Users\\Quique\\anaconda3\\lib\\site-packages\\xgboost\\core.py\", line 1159, in update\n",
      "    _check_call(_LIB.XGBoosterUpdateOneIter(self.handle,\n",
      "  File \"C:\\Users\\Quique\\anaconda3\\lib\\site-packages\\xgboost\\core.py\", line 188, in _check_call\n",
      "    raise XGBoostError(py_str(_LIB.XGBGetLastError()))\n",
      "xgboost.core.XGBoostError: [04:02:37] C:\\Users\\Administrator\\workspace\\xgboost-win64_release_1.2.0\\src\\gbm\\gbtree.cc:459: Check failed: common::AllVisibleGPUs() >= 1 (0 vs. 1) : No visible GPU is found for XGBoost.\n",
      "\n",
      "  warnings.warn(\"Estimator fit failed. The score on this train-test\"\n"
     ]
    },
    {
     "name": "stdout",
     "output_type": "stream",
     "text": [
      "[04:02:37] WARNING: C:\\Users\\Administrator\\workspace\\xgboost-win64_release_1.2.0\\src\\learner.cc:207: No visible GPU is found, setting `gpu_id` to -1\n"
     ]
    },
    {
     "name": "stderr",
     "output_type": "stream",
     "text": [
      "C:\\Users\\Quique\\anaconda3\\lib\\site-packages\\sklearn\\model_selection\\_validation.py:548: FitFailedWarning: Estimator fit failed. The score on this train-test partition for these parameters will be set to nan. Details: \n",
      "Traceback (most recent call last):\n",
      "  File \"C:\\Users\\Quique\\anaconda3\\lib\\site-packages\\sklearn\\model_selection\\_validation.py\", line 531, in _fit_and_score\n",
      "    estimator.fit(X_train, y_train, **fit_params)\n",
      "  File \"C:\\Users\\Quique\\anaconda3\\lib\\site-packages\\imblearn\\pipeline.py\", line 281, in fit\n",
      "    self._final_estimator.fit(Xt, yt, **fit_params)\n",
      "  File \"C:\\Users\\Quique\\anaconda3\\lib\\site-packages\\xgboost\\sklearn.py\", line 828, in fit\n",
      "    self._Booster = train(xgb_options, train_dmatrix,\n",
      "  File \"C:\\Users\\Quique\\anaconda3\\lib\\site-packages\\xgboost\\training.py\", line 208, in train\n",
      "    return _train_internal(params, dtrain,\n",
      "  File \"C:\\Users\\Quique\\anaconda3\\lib\\site-packages\\xgboost\\training.py\", line 75, in _train_internal\n",
      "    bst.update(dtrain, i, obj)\n",
      "  File \"C:\\Users\\Quique\\anaconda3\\lib\\site-packages\\xgboost\\core.py\", line 1159, in update\n",
      "    _check_call(_LIB.XGBoosterUpdateOneIter(self.handle,\n",
      "  File \"C:\\Users\\Quique\\anaconda3\\lib\\site-packages\\xgboost\\core.py\", line 188, in _check_call\n",
      "    raise XGBoostError(py_str(_LIB.XGBGetLastError()))\n",
      "xgboost.core.XGBoostError: [04:02:37] C:\\Users\\Administrator\\workspace\\xgboost-win64_release_1.2.0\\src\\gbm\\gbtree.cc:459: Check failed: common::AllVisibleGPUs() >= 1 (0 vs. 1) : No visible GPU is found for XGBoost.\n",
      "\n",
      "  warnings.warn(\"Estimator fit failed. The score on this train-test\"\n"
     ]
    },
    {
     "name": "stdout",
     "output_type": "stream",
     "text": [
      "[04:02:38] WARNING: C:\\Users\\Administrator\\workspace\\xgboost-win64_release_1.2.0\\src\\learner.cc:207: No visible GPU is found, setting `gpu_id` to -1\n"
     ]
    },
    {
     "name": "stderr",
     "output_type": "stream",
     "text": [
      "C:\\Users\\Quique\\anaconda3\\lib\\site-packages\\sklearn\\model_selection\\_validation.py:548: FitFailedWarning: Estimator fit failed. The score on this train-test partition for these parameters will be set to nan. Details: \n",
      "Traceback (most recent call last):\n",
      "  File \"C:\\Users\\Quique\\anaconda3\\lib\\site-packages\\sklearn\\model_selection\\_validation.py\", line 531, in _fit_and_score\n",
      "    estimator.fit(X_train, y_train, **fit_params)\n",
      "  File \"C:\\Users\\Quique\\anaconda3\\lib\\site-packages\\imblearn\\pipeline.py\", line 281, in fit\n",
      "    self._final_estimator.fit(Xt, yt, **fit_params)\n",
      "  File \"C:\\Users\\Quique\\anaconda3\\lib\\site-packages\\xgboost\\sklearn.py\", line 828, in fit\n",
      "    self._Booster = train(xgb_options, train_dmatrix,\n",
      "  File \"C:\\Users\\Quique\\anaconda3\\lib\\site-packages\\xgboost\\training.py\", line 208, in train\n",
      "    return _train_internal(params, dtrain,\n",
      "  File \"C:\\Users\\Quique\\anaconda3\\lib\\site-packages\\xgboost\\training.py\", line 75, in _train_internal\n",
      "    bst.update(dtrain, i, obj)\n",
      "  File \"C:\\Users\\Quique\\anaconda3\\lib\\site-packages\\xgboost\\core.py\", line 1159, in update\n",
      "    _check_call(_LIB.XGBoosterUpdateOneIter(self.handle,\n",
      "  File \"C:\\Users\\Quique\\anaconda3\\lib\\site-packages\\xgboost\\core.py\", line 188, in _check_call\n",
      "    raise XGBoostError(py_str(_LIB.XGBGetLastError()))\n",
      "xgboost.core.XGBoostError: [04:02:38] C:\\Users\\Administrator\\workspace\\xgboost-win64_release_1.2.0\\src\\gbm\\gbtree.cc:459: Check failed: common::AllVisibleGPUs() >= 1 (0 vs. 1) : No visible GPU is found for XGBoost.\n",
      "\n",
      "  warnings.warn(\"Estimator fit failed. The score on this train-test\"\n"
     ]
    },
    {
     "name": "stdout",
     "output_type": "stream",
     "text": [
      "[04:02:39] WARNING: C:\\Users\\Administrator\\workspace\\xgboost-win64_release_1.2.0\\src\\learner.cc:207: No visible GPU is found, setting `gpu_id` to -1\n"
     ]
    },
    {
     "name": "stderr",
     "output_type": "stream",
     "text": [
      "C:\\Users\\Quique\\anaconda3\\lib\\site-packages\\sklearn\\model_selection\\_validation.py:548: FitFailedWarning: Estimator fit failed. The score on this train-test partition for these parameters will be set to nan. Details: \n",
      "Traceback (most recent call last):\n",
      "  File \"C:\\Users\\Quique\\anaconda3\\lib\\site-packages\\sklearn\\model_selection\\_validation.py\", line 531, in _fit_and_score\n",
      "    estimator.fit(X_train, y_train, **fit_params)\n",
      "  File \"C:\\Users\\Quique\\anaconda3\\lib\\site-packages\\imblearn\\pipeline.py\", line 281, in fit\n",
      "    self._final_estimator.fit(Xt, yt, **fit_params)\n",
      "  File \"C:\\Users\\Quique\\anaconda3\\lib\\site-packages\\xgboost\\sklearn.py\", line 828, in fit\n",
      "    self._Booster = train(xgb_options, train_dmatrix,\n",
      "  File \"C:\\Users\\Quique\\anaconda3\\lib\\site-packages\\xgboost\\training.py\", line 208, in train\n",
      "    return _train_internal(params, dtrain,\n",
      "  File \"C:\\Users\\Quique\\anaconda3\\lib\\site-packages\\xgboost\\training.py\", line 75, in _train_internal\n",
      "    bst.update(dtrain, i, obj)\n",
      "  File \"C:\\Users\\Quique\\anaconda3\\lib\\site-packages\\xgboost\\core.py\", line 1159, in update\n",
      "    _check_call(_LIB.XGBoosterUpdateOneIter(self.handle,\n",
      "  File \"C:\\Users\\Quique\\anaconda3\\lib\\site-packages\\xgboost\\core.py\", line 188, in _check_call\n",
      "    raise XGBoostError(py_str(_LIB.XGBGetLastError()))\n",
      "xgboost.core.XGBoostError: [04:02:39] C:\\Users\\Administrator\\workspace\\xgboost-win64_release_1.2.0\\src\\gbm\\gbtree.cc:459: Check failed: common::AllVisibleGPUs() >= 1 (0 vs. 1) : No visible GPU is found for XGBoost.\n",
      "\n",
      "  warnings.warn(\"Estimator fit failed. The score on this train-test\"\n"
     ]
    },
    {
     "name": "stdout",
     "output_type": "stream",
     "text": [
      "[04:02:39] WARNING: C:\\Users\\Administrator\\workspace\\xgboost-win64_release_1.2.0\\src\\learner.cc:207: No visible GPU is found, setting `gpu_id` to -1\n"
     ]
    },
    {
     "name": "stderr",
     "output_type": "stream",
     "text": [
      "C:\\Users\\Quique\\anaconda3\\lib\\site-packages\\sklearn\\model_selection\\_validation.py:548: FitFailedWarning: Estimator fit failed. The score on this train-test partition for these parameters will be set to nan. Details: \n",
      "Traceback (most recent call last):\n",
      "  File \"C:\\Users\\Quique\\anaconda3\\lib\\site-packages\\sklearn\\model_selection\\_validation.py\", line 531, in _fit_and_score\n",
      "    estimator.fit(X_train, y_train, **fit_params)\n",
      "  File \"C:\\Users\\Quique\\anaconda3\\lib\\site-packages\\imblearn\\pipeline.py\", line 281, in fit\n",
      "    self._final_estimator.fit(Xt, yt, **fit_params)\n",
      "  File \"C:\\Users\\Quique\\anaconda3\\lib\\site-packages\\xgboost\\sklearn.py\", line 828, in fit\n",
      "    self._Booster = train(xgb_options, train_dmatrix,\n",
      "  File \"C:\\Users\\Quique\\anaconda3\\lib\\site-packages\\xgboost\\training.py\", line 208, in train\n",
      "    return _train_internal(params, dtrain,\n",
      "  File \"C:\\Users\\Quique\\anaconda3\\lib\\site-packages\\xgboost\\training.py\", line 75, in _train_internal\n",
      "    bst.update(dtrain, i, obj)\n",
      "  File \"C:\\Users\\Quique\\anaconda3\\lib\\site-packages\\xgboost\\core.py\", line 1159, in update\n",
      "    _check_call(_LIB.XGBoosterUpdateOneIter(self.handle,\n",
      "  File \"C:\\Users\\Quique\\anaconda3\\lib\\site-packages\\xgboost\\core.py\", line 188, in _check_call\n",
      "    raise XGBoostError(py_str(_LIB.XGBGetLastError()))\n",
      "xgboost.core.XGBoostError: [04:02:39] C:\\Users\\Administrator\\workspace\\xgboost-win64_release_1.2.0\\src\\gbm\\gbtree.cc:459: Check failed: common::AllVisibleGPUs() >= 1 (0 vs. 1) : No visible GPU is found for XGBoost.\n",
      "\n",
      "  warnings.warn(\"Estimator fit failed. The score on this train-test\"\n"
     ]
    },
    {
     "name": "stdout",
     "output_type": "stream",
     "text": [
      "[04:02:40] WARNING: C:\\Users\\Administrator\\workspace\\xgboost-win64_release_1.2.0\\src\\learner.cc:207: No visible GPU is found, setting `gpu_id` to -1\n"
     ]
    },
    {
     "name": "stderr",
     "output_type": "stream",
     "text": [
      "C:\\Users\\Quique\\anaconda3\\lib\\site-packages\\sklearn\\model_selection\\_validation.py:548: FitFailedWarning: Estimator fit failed. The score on this train-test partition for these parameters will be set to nan. Details: \n",
      "Traceback (most recent call last):\n",
      "  File \"C:\\Users\\Quique\\anaconda3\\lib\\site-packages\\sklearn\\model_selection\\_validation.py\", line 531, in _fit_and_score\n",
      "    estimator.fit(X_train, y_train, **fit_params)\n",
      "  File \"C:\\Users\\Quique\\anaconda3\\lib\\site-packages\\imblearn\\pipeline.py\", line 281, in fit\n",
      "    self._final_estimator.fit(Xt, yt, **fit_params)\n",
      "  File \"C:\\Users\\Quique\\anaconda3\\lib\\site-packages\\xgboost\\sklearn.py\", line 828, in fit\n",
      "    self._Booster = train(xgb_options, train_dmatrix,\n",
      "  File \"C:\\Users\\Quique\\anaconda3\\lib\\site-packages\\xgboost\\training.py\", line 208, in train\n",
      "    return _train_internal(params, dtrain,\n",
      "  File \"C:\\Users\\Quique\\anaconda3\\lib\\site-packages\\xgboost\\training.py\", line 75, in _train_internal\n",
      "    bst.update(dtrain, i, obj)\n",
      "  File \"C:\\Users\\Quique\\anaconda3\\lib\\site-packages\\xgboost\\core.py\", line 1159, in update\n",
      "    _check_call(_LIB.XGBoosterUpdateOneIter(self.handle,\n",
      "  File \"C:\\Users\\Quique\\anaconda3\\lib\\site-packages\\xgboost\\core.py\", line 188, in _check_call\n",
      "    raise XGBoostError(py_str(_LIB.XGBGetLastError()))\n",
      "xgboost.core.XGBoostError: [04:02:40] C:\\Users\\Administrator\\workspace\\xgboost-win64_release_1.2.0\\src\\gbm\\gbtree.cc:459: Check failed: common::AllVisibleGPUs() >= 1 (0 vs. 1) : No visible GPU is found for XGBoost.\n",
      "\n",
      "  warnings.warn(\"Estimator fit failed. The score on this train-test\"\n"
     ]
    },
    {
     "name": "stdout",
     "output_type": "stream",
     "text": [
      "[04:02:41] WARNING: C:\\Users\\Administrator\\workspace\\xgboost-win64_release_1.2.0\\src\\learner.cc:207: No visible GPU is found, setting `gpu_id` to -1\n"
     ]
    },
    {
     "name": "stderr",
     "output_type": "stream",
     "text": [
      "C:\\Users\\Quique\\anaconda3\\lib\\site-packages\\sklearn\\model_selection\\_validation.py:548: FitFailedWarning: Estimator fit failed. The score on this train-test partition for these parameters will be set to nan. Details: \n",
      "Traceback (most recent call last):\n",
      "  File \"C:\\Users\\Quique\\anaconda3\\lib\\site-packages\\sklearn\\model_selection\\_validation.py\", line 531, in _fit_and_score\n",
      "    estimator.fit(X_train, y_train, **fit_params)\n",
      "  File \"C:\\Users\\Quique\\anaconda3\\lib\\site-packages\\imblearn\\pipeline.py\", line 281, in fit\n",
      "    self._final_estimator.fit(Xt, yt, **fit_params)\n",
      "  File \"C:\\Users\\Quique\\anaconda3\\lib\\site-packages\\xgboost\\sklearn.py\", line 828, in fit\n",
      "    self._Booster = train(xgb_options, train_dmatrix,\n",
      "  File \"C:\\Users\\Quique\\anaconda3\\lib\\site-packages\\xgboost\\training.py\", line 208, in train\n",
      "    return _train_internal(params, dtrain,\n",
      "  File \"C:\\Users\\Quique\\anaconda3\\lib\\site-packages\\xgboost\\training.py\", line 75, in _train_internal\n",
      "    bst.update(dtrain, i, obj)\n",
      "  File \"C:\\Users\\Quique\\anaconda3\\lib\\site-packages\\xgboost\\core.py\", line 1159, in update\n",
      "    _check_call(_LIB.XGBoosterUpdateOneIter(self.handle,\n",
      "  File \"C:\\Users\\Quique\\anaconda3\\lib\\site-packages\\xgboost\\core.py\", line 188, in _check_call\n",
      "    raise XGBoostError(py_str(_LIB.XGBGetLastError()))\n",
      "xgboost.core.XGBoostError: [04:02:41] C:\\Users\\Administrator\\workspace\\xgboost-win64_release_1.2.0\\src\\gbm\\gbtree.cc:459: Check failed: common::AllVisibleGPUs() >= 1 (0 vs. 1) : No visible GPU is found for XGBoost.\n",
      "\n",
      "  warnings.warn(\"Estimator fit failed. The score on this train-test\"\n"
     ]
    },
    {
     "name": "stdout",
     "output_type": "stream",
     "text": [
      "[04:02:42] WARNING: C:\\Users\\Administrator\\workspace\\xgboost-win64_release_1.2.0\\src\\learner.cc:207: No visible GPU is found, setting `gpu_id` to -1\n"
     ]
    },
    {
     "name": "stderr",
     "output_type": "stream",
     "text": [
      "C:\\Users\\Quique\\anaconda3\\lib\\site-packages\\sklearn\\model_selection\\_validation.py:548: FitFailedWarning: Estimator fit failed. The score on this train-test partition for these parameters will be set to nan. Details: \n",
      "Traceback (most recent call last):\n",
      "  File \"C:\\Users\\Quique\\anaconda3\\lib\\site-packages\\sklearn\\model_selection\\_validation.py\", line 531, in _fit_and_score\n",
      "    estimator.fit(X_train, y_train, **fit_params)\n",
      "  File \"C:\\Users\\Quique\\anaconda3\\lib\\site-packages\\imblearn\\pipeline.py\", line 281, in fit\n",
      "    self._final_estimator.fit(Xt, yt, **fit_params)\n",
      "  File \"C:\\Users\\Quique\\anaconda3\\lib\\site-packages\\xgboost\\sklearn.py\", line 828, in fit\n",
      "    self._Booster = train(xgb_options, train_dmatrix,\n",
      "  File \"C:\\Users\\Quique\\anaconda3\\lib\\site-packages\\xgboost\\training.py\", line 208, in train\n",
      "    return _train_internal(params, dtrain,\n",
      "  File \"C:\\Users\\Quique\\anaconda3\\lib\\site-packages\\xgboost\\training.py\", line 75, in _train_internal\n",
      "    bst.update(dtrain, i, obj)\n",
      "  File \"C:\\Users\\Quique\\anaconda3\\lib\\site-packages\\xgboost\\core.py\", line 1159, in update\n",
      "    _check_call(_LIB.XGBoosterUpdateOneIter(self.handle,\n",
      "  File \"C:\\Users\\Quique\\anaconda3\\lib\\site-packages\\xgboost\\core.py\", line 188, in _check_call\n",
      "    raise XGBoostError(py_str(_LIB.XGBGetLastError()))\n",
      "xgboost.core.XGBoostError: [04:02:42] C:\\Users\\Administrator\\workspace\\xgboost-win64_release_1.2.0\\src\\gbm\\gbtree.cc:459: Check failed: common::AllVisibleGPUs() >= 1 (0 vs. 1) : No visible GPU is found for XGBoost.\n",
      "\n",
      "  warnings.warn(\"Estimator fit failed. The score on this train-test\"\n",
      "[Parallel(n_jobs=1)]: Done  10 out of  10 | elapsed:    8.1s finished\n"
     ]
    },
    {
     "name": "stdout",
     "output_type": "stream",
     "text": [
      "[04:02:43] WARNING: C:\\Users\\Administrator\\workspace\\xgboost-win64_release_1.2.0\\src\\learner.cc:207: No visible GPU is found, setting `gpu_id` to -1\n"
     ]
    },
    {
     "ename": "XGBoostError",
     "evalue": "[04:02:43] C:\\Users\\Administrator\\workspace\\xgboost-win64_release_1.2.0\\src\\gbm\\gbtree.cc:459: Check failed: common::AllVisibleGPUs() >= 1 (0 vs. 1) : No visible GPU is found for XGBoost.",
     "output_type": "error",
     "traceback": [
      "\u001b[1;31m---------------------------------------------------------------------------\u001b[0m",
      "\u001b[1;31mXGBoostError\u001b[0m                              Traceback (most recent call last)",
      "\u001b[1;32m<timed exec>\u001b[0m in \u001b[0;36m<module>\u001b[1;34m\u001b[0m\n",
      "\u001b[1;32m~\\anaconda3\\lib\\site-packages\\sklearn\\utils\\validation.py\u001b[0m in \u001b[0;36minner_f\u001b[1;34m(*args, **kwargs)\u001b[0m\n\u001b[0;32m     71\u001b[0m                           FutureWarning)\n\u001b[0;32m     72\u001b[0m         \u001b[0mkwargs\u001b[0m\u001b[1;33m.\u001b[0m\u001b[0mupdate\u001b[0m\u001b[1;33m(\u001b[0m\u001b[1;33m{\u001b[0m\u001b[0mk\u001b[0m\u001b[1;33m:\u001b[0m \u001b[0marg\u001b[0m \u001b[1;32mfor\u001b[0m \u001b[0mk\u001b[0m\u001b[1;33m,\u001b[0m \u001b[0marg\u001b[0m \u001b[1;32min\u001b[0m \u001b[0mzip\u001b[0m\u001b[1;33m(\u001b[0m\u001b[0msig\u001b[0m\u001b[1;33m.\u001b[0m\u001b[0mparameters\u001b[0m\u001b[1;33m,\u001b[0m \u001b[0margs\u001b[0m\u001b[1;33m)\u001b[0m\u001b[1;33m}\u001b[0m\u001b[1;33m)\u001b[0m\u001b[1;33m\u001b[0m\u001b[1;33m\u001b[0m\u001b[0m\n\u001b[1;32m---> 73\u001b[1;33m         \u001b[1;32mreturn\u001b[0m \u001b[0mf\u001b[0m\u001b[1;33m(\u001b[0m\u001b[1;33m**\u001b[0m\u001b[0mkwargs\u001b[0m\u001b[1;33m)\u001b[0m\u001b[1;33m\u001b[0m\u001b[1;33m\u001b[0m\u001b[0m\n\u001b[0m\u001b[0;32m     74\u001b[0m     \u001b[1;32mreturn\u001b[0m \u001b[0minner_f\u001b[0m\u001b[1;33m\u001b[0m\u001b[1;33m\u001b[0m\u001b[0m\n\u001b[0;32m     75\u001b[0m \u001b[1;33m\u001b[0m\u001b[0m\n",
      "\u001b[1;32m~\\anaconda3\\lib\\site-packages\\sklearn\\model_selection\\_search.py\u001b[0m in \u001b[0;36mfit\u001b[1;34m(self, X, y, groups, **fit_params)\u001b[0m\n\u001b[0;32m    763\u001b[0m             \u001b[0mrefit_start_time\u001b[0m \u001b[1;33m=\u001b[0m \u001b[0mtime\u001b[0m\u001b[1;33m.\u001b[0m\u001b[0mtime\u001b[0m\u001b[1;33m(\u001b[0m\u001b[1;33m)\u001b[0m\u001b[1;33m\u001b[0m\u001b[1;33m\u001b[0m\u001b[0m\n\u001b[0;32m    764\u001b[0m             \u001b[1;32mif\u001b[0m \u001b[0my\u001b[0m \u001b[1;32mis\u001b[0m \u001b[1;32mnot\u001b[0m \u001b[1;32mNone\u001b[0m\u001b[1;33m:\u001b[0m\u001b[1;33m\u001b[0m\u001b[1;33m\u001b[0m\u001b[0m\n\u001b[1;32m--> 765\u001b[1;33m                 \u001b[0mself\u001b[0m\u001b[1;33m.\u001b[0m\u001b[0mbest_estimator_\u001b[0m\u001b[1;33m.\u001b[0m\u001b[0mfit\u001b[0m\u001b[1;33m(\u001b[0m\u001b[0mX\u001b[0m\u001b[1;33m,\u001b[0m \u001b[0my\u001b[0m\u001b[1;33m,\u001b[0m \u001b[1;33m**\u001b[0m\u001b[0mfit_params\u001b[0m\u001b[1;33m)\u001b[0m\u001b[1;33m\u001b[0m\u001b[1;33m\u001b[0m\u001b[0m\n\u001b[0m\u001b[0;32m    766\u001b[0m             \u001b[1;32melse\u001b[0m\u001b[1;33m:\u001b[0m\u001b[1;33m\u001b[0m\u001b[1;33m\u001b[0m\u001b[0m\n\u001b[0;32m    767\u001b[0m                 \u001b[0mself\u001b[0m\u001b[1;33m.\u001b[0m\u001b[0mbest_estimator_\u001b[0m\u001b[1;33m.\u001b[0m\u001b[0mfit\u001b[0m\u001b[1;33m(\u001b[0m\u001b[0mX\u001b[0m\u001b[1;33m,\u001b[0m \u001b[1;33m**\u001b[0m\u001b[0mfit_params\u001b[0m\u001b[1;33m)\u001b[0m\u001b[1;33m\u001b[0m\u001b[1;33m\u001b[0m\u001b[0m\n",
      "\u001b[1;32m~\\anaconda3\\lib\\site-packages\\imblearn\\pipeline.py\u001b[0m in \u001b[0;36mfit\u001b[1;34m(self, X, y, **fit_params)\u001b[0m\n\u001b[0;32m    279\u001b[0m                                  self._log_message(len(self.steps) - 1)):\n\u001b[0;32m    280\u001b[0m             \u001b[1;32mif\u001b[0m \u001b[0mself\u001b[0m\u001b[1;33m.\u001b[0m\u001b[0m_final_estimator\u001b[0m \u001b[1;33m!=\u001b[0m \u001b[1;34m\"passthrough\"\u001b[0m\u001b[1;33m:\u001b[0m\u001b[1;33m\u001b[0m\u001b[1;33m\u001b[0m\u001b[0m\n\u001b[1;32m--> 281\u001b[1;33m                 \u001b[0mself\u001b[0m\u001b[1;33m.\u001b[0m\u001b[0m_final_estimator\u001b[0m\u001b[1;33m.\u001b[0m\u001b[0mfit\u001b[0m\u001b[1;33m(\u001b[0m\u001b[0mXt\u001b[0m\u001b[1;33m,\u001b[0m \u001b[0myt\u001b[0m\u001b[1;33m,\u001b[0m \u001b[1;33m**\u001b[0m\u001b[0mfit_params\u001b[0m\u001b[1;33m)\u001b[0m\u001b[1;33m\u001b[0m\u001b[1;33m\u001b[0m\u001b[0m\n\u001b[0m\u001b[0;32m    282\u001b[0m         \u001b[1;32mreturn\u001b[0m \u001b[0mself\u001b[0m\u001b[1;33m\u001b[0m\u001b[1;33m\u001b[0m\u001b[0m\n\u001b[0;32m    283\u001b[0m \u001b[1;33m\u001b[0m\u001b[0m\n",
      "\u001b[1;32m~\\anaconda3\\lib\\site-packages\\xgboost\\sklearn.py\u001b[0m in \u001b[0;36mfit\u001b[1;34m(self, X, y, sample_weight, base_margin, eval_set, eval_metric, early_stopping_rounds, verbose, xgb_model, sample_weight_eval_set, callbacks)\u001b[0m\n\u001b[0;32m    826\u001b[0m                                 missing=self.missing, nthread=self.n_jobs)\n\u001b[0;32m    827\u001b[0m \u001b[1;33m\u001b[0m\u001b[0m\n\u001b[1;32m--> 828\u001b[1;33m         self._Booster = train(xgb_options, train_dmatrix,\n\u001b[0m\u001b[0;32m    829\u001b[0m                               \u001b[0mself\u001b[0m\u001b[1;33m.\u001b[0m\u001b[0mget_num_boosting_rounds\u001b[0m\u001b[1;33m(\u001b[0m\u001b[1;33m)\u001b[0m\u001b[1;33m,\u001b[0m\u001b[1;33m\u001b[0m\u001b[1;33m\u001b[0m\u001b[0m\n\u001b[0;32m    830\u001b[0m                               \u001b[0mevals\u001b[0m\u001b[1;33m=\u001b[0m\u001b[0mevals\u001b[0m\u001b[1;33m,\u001b[0m\u001b[1;33m\u001b[0m\u001b[1;33m\u001b[0m\u001b[0m\n",
      "\u001b[1;32m~\\anaconda3\\lib\\site-packages\\xgboost\\training.py\u001b[0m in \u001b[0;36mtrain\u001b[1;34m(params, dtrain, num_boost_round, evals, obj, feval, maximize, early_stopping_rounds, evals_result, verbose_eval, xgb_model, callbacks)\u001b[0m\n\u001b[0;32m    206\u001b[0m         \u001b[0mcallbacks\u001b[0m\u001b[1;33m.\u001b[0m\u001b[0mappend\u001b[0m\u001b[1;33m(\u001b[0m\u001b[0mcallback\u001b[0m\u001b[1;33m.\u001b[0m\u001b[0mrecord_evaluation\u001b[0m\u001b[1;33m(\u001b[0m\u001b[0mevals_result\u001b[0m\u001b[1;33m)\u001b[0m\u001b[1;33m)\u001b[0m\u001b[1;33m\u001b[0m\u001b[1;33m\u001b[0m\u001b[0m\n\u001b[0;32m    207\u001b[0m \u001b[1;33m\u001b[0m\u001b[0m\n\u001b[1;32m--> 208\u001b[1;33m     return _train_internal(params, dtrain,\n\u001b[0m\u001b[0;32m    209\u001b[0m                            \u001b[0mnum_boost_round\u001b[0m\u001b[1;33m=\u001b[0m\u001b[0mnum_boost_round\u001b[0m\u001b[1;33m,\u001b[0m\u001b[1;33m\u001b[0m\u001b[1;33m\u001b[0m\u001b[0m\n\u001b[0;32m    210\u001b[0m                            \u001b[0mevals\u001b[0m\u001b[1;33m=\u001b[0m\u001b[0mevals\u001b[0m\u001b[1;33m,\u001b[0m\u001b[1;33m\u001b[0m\u001b[1;33m\u001b[0m\u001b[0m\n",
      "\u001b[1;32m~\\anaconda3\\lib\\site-packages\\xgboost\\training.py\u001b[0m in \u001b[0;36m_train_internal\u001b[1;34m(params, dtrain, num_boost_round, evals, obj, feval, xgb_model, callbacks)\u001b[0m\n\u001b[0;32m     73\u001b[0m         \u001b[1;31m# Skip the first update if it is a recovery step.\u001b[0m\u001b[1;33m\u001b[0m\u001b[1;33m\u001b[0m\u001b[1;33m\u001b[0m\u001b[0m\n\u001b[0;32m     74\u001b[0m         \u001b[1;32mif\u001b[0m \u001b[0mversion\u001b[0m \u001b[1;33m%\u001b[0m \u001b[1;36m2\u001b[0m \u001b[1;33m==\u001b[0m \u001b[1;36m0\u001b[0m\u001b[1;33m:\u001b[0m\u001b[1;33m\u001b[0m\u001b[1;33m\u001b[0m\u001b[0m\n\u001b[1;32m---> 75\u001b[1;33m             \u001b[0mbst\u001b[0m\u001b[1;33m.\u001b[0m\u001b[0mupdate\u001b[0m\u001b[1;33m(\u001b[0m\u001b[0mdtrain\u001b[0m\u001b[1;33m,\u001b[0m \u001b[0mi\u001b[0m\u001b[1;33m,\u001b[0m \u001b[0mobj\u001b[0m\u001b[1;33m)\u001b[0m\u001b[1;33m\u001b[0m\u001b[1;33m\u001b[0m\u001b[0m\n\u001b[0m\u001b[0;32m     76\u001b[0m             \u001b[0mbst\u001b[0m\u001b[1;33m.\u001b[0m\u001b[0msave_rabit_checkpoint\u001b[0m\u001b[1;33m(\u001b[0m\u001b[1;33m)\u001b[0m\u001b[1;33m\u001b[0m\u001b[1;33m\u001b[0m\u001b[0m\n\u001b[0;32m     77\u001b[0m             \u001b[0mversion\u001b[0m \u001b[1;33m+=\u001b[0m \u001b[1;36m1\u001b[0m\u001b[1;33m\u001b[0m\u001b[1;33m\u001b[0m\u001b[0m\n",
      "\u001b[1;32m~\\anaconda3\\lib\\site-packages\\xgboost\\core.py\u001b[0m in \u001b[0;36mupdate\u001b[1;34m(self, dtrain, iteration, fobj)\u001b[0m\n\u001b[0;32m   1157\u001b[0m \u001b[1;33m\u001b[0m\u001b[0m\n\u001b[0;32m   1158\u001b[0m         \u001b[1;32mif\u001b[0m \u001b[0mfobj\u001b[0m \u001b[1;32mis\u001b[0m \u001b[1;32mNone\u001b[0m\u001b[1;33m:\u001b[0m\u001b[1;33m\u001b[0m\u001b[1;33m\u001b[0m\u001b[0m\n\u001b[1;32m-> 1159\u001b[1;33m             _check_call(_LIB.XGBoosterUpdateOneIter(self.handle,\n\u001b[0m\u001b[0;32m   1160\u001b[0m                                                     \u001b[0mctypes\u001b[0m\u001b[1;33m.\u001b[0m\u001b[0mc_int\u001b[0m\u001b[1;33m(\u001b[0m\u001b[0miteration\u001b[0m\u001b[1;33m)\u001b[0m\u001b[1;33m,\u001b[0m\u001b[1;33m\u001b[0m\u001b[1;33m\u001b[0m\u001b[0m\n\u001b[0;32m   1161\u001b[0m                                                     dtrain.handle))\n",
      "\u001b[1;32m~\\anaconda3\\lib\\site-packages\\xgboost\\core.py\u001b[0m in \u001b[0;36m_check_call\u001b[1;34m(ret)\u001b[0m\n\u001b[0;32m    186\u001b[0m     \"\"\"\n\u001b[0;32m    187\u001b[0m     \u001b[1;32mif\u001b[0m \u001b[0mret\u001b[0m \u001b[1;33m!=\u001b[0m \u001b[1;36m0\u001b[0m\u001b[1;33m:\u001b[0m\u001b[1;33m\u001b[0m\u001b[1;33m\u001b[0m\u001b[0m\n\u001b[1;32m--> 188\u001b[1;33m         \u001b[1;32mraise\u001b[0m \u001b[0mXGBoostError\u001b[0m\u001b[1;33m(\u001b[0m\u001b[0mpy_str\u001b[0m\u001b[1;33m(\u001b[0m\u001b[0m_LIB\u001b[0m\u001b[1;33m.\u001b[0m\u001b[0mXGBGetLastError\u001b[0m\u001b[1;33m(\u001b[0m\u001b[1;33m)\u001b[0m\u001b[1;33m)\u001b[0m\u001b[1;33m)\u001b[0m\u001b[1;33m\u001b[0m\u001b[1;33m\u001b[0m\u001b[0m\n\u001b[0m\u001b[0;32m    189\u001b[0m \u001b[1;33m\u001b[0m\u001b[0m\n\u001b[0;32m    190\u001b[0m \u001b[1;33m\u001b[0m\u001b[0m\n",
      "\u001b[1;31mXGBoostError\u001b[0m: [04:02:43] C:\\Users\\Administrator\\workspace\\xgboost-win64_release_1.2.0\\src\\gbm\\gbtree.cc:459: Check failed: common::AllVisibleGPUs() >= 1 (0 vs. 1) : No visible GPU is found for XGBoost."
     ]
    }
   ],
   "source": [
    "%%time\n",
    "for nombre, grid_search in grids4.items():\n",
    "    grid_search.fit(train_x, train_y)"
   ]
  },
  {
   "cell_type": "code",
   "execution_count": 321,
   "metadata": {},
   "outputs": [
    {
     "data": {
      "text/html": [
       "<div>\n",
       "<style scoped>\n",
       "    .dataframe tbody tr th:only-of-type {\n",
       "        vertical-align: middle;\n",
       "    }\n",
       "\n",
       "    .dataframe tbody tr th {\n",
       "        vertical-align: top;\n",
       "    }\n",
       "\n",
       "    .dataframe thead th {\n",
       "        text-align: right;\n",
       "    }\n",
       "</style>\n",
       "<table border=\"1\" class=\"dataframe\">\n",
       "  <thead>\n",
       "    <tr style=\"text-align: right;\">\n",
       "      <th></th>\n",
       "      <th>Grid</th>\n",
       "      <th>Best score</th>\n",
       "    </tr>\n",
       "  </thead>\n",
       "  <tbody>\n",
       "    <tr>\n",
       "      <th>4</th>\n",
       "      <td>gs_gbc</td>\n",
       "      <td>0.858691</td>\n",
       "    </tr>\n",
       "    <tr>\n",
       "      <th>1</th>\n",
       "      <td>gs_reg_log</td>\n",
       "      <td>0.847518</td>\n",
       "    </tr>\n",
       "    <tr>\n",
       "      <th>3</th>\n",
       "      <td>gs_rand_forest</td>\n",
       "      <td>0.844948</td>\n",
       "    </tr>\n",
       "    <tr>\n",
       "      <th>0</th>\n",
       "      <td>gs_dt_clf</td>\n",
       "      <td>0.843200</td>\n",
       "    </tr>\n",
       "    <tr>\n",
       "      <th>2</th>\n",
       "      <td>gs_svm</td>\n",
       "      <td>0.835028</td>\n",
       "    </tr>\n",
       "    <tr>\n",
       "      <th>5</th>\n",
       "      <td>gs_xgbc</td>\n",
       "      <td>NaN</td>\n",
       "    </tr>\n",
       "  </tbody>\n",
       "</table>\n",
       "</div>"
      ],
      "text/plain": [
       "             Grid  Best score\n",
       "4          gs_gbc    0.858691\n",
       "1      gs_reg_log    0.847518\n",
       "3  gs_rand_forest    0.844948\n",
       "0       gs_dt_clf    0.843200\n",
       "2          gs_svm    0.835028\n",
       "5         gs_xgbc         NaN"
      ]
     },
     "execution_count": 321,
     "metadata": {},
     "output_type": "execute_result"
    }
   ],
   "source": [
    "best_grids1 = [(i, j.best_score_) for i, j in grids1.items()]\n",
    "best_grids1 = pd.DataFrame(best_grids1, columns = ['Grid', 'Best score'])\n",
    "\n",
    "best_grids2 = [(i, j.best_score_) for i, j in grids2.items()]\n",
    "best_grids2 = pd.DataFrame(best_grids2, columns = ['Grid', 'Best score'])\n",
    "\n",
    "best_grids3 = [(i, j.best_score_) for i, j in grids3.items()]\n",
    "best_grids3 = pd.DataFrame(best_grids3, columns = ['Grid', 'Best score'])\n",
    "\n",
    "best_grids = best_grids1.append(best_grids2, ignore_index=True)\n",
    "best_grids = best_grids.append(best_grids3, ignore_index=True)\n",
    "\n",
    "best_grids.sort_values(by='Best score', ascending=False)"
   ]
  },
  {
   "cell_type": "code",
   "execution_count": 325,
   "metadata": {},
   "outputs": [
    {
     "name": "stdout",
     "output_type": "stream",
     "text": [
      "Best estimator: Pipeline(steps=[('over', SMOTE(sampling_strategy=0.1)),\n",
      "                ('under', RandomUnderSampler(sampling_strategy=0.5)),\n",
      "                ('model',\n",
      "                 GradientBoostingClassifier(learning_rate=0.05, max_depth=5))])\n",
      "Best params: {'model__learning_rate': 0.05, 'model__max_depth': 5, 'model__n_estimators': 100, 'over__sampling_strategy': 0.1, 'under__sampling_strategy': 0.5}\n",
      "Best score: 0.8586910503099265\n"
     ]
    }
   ],
   "source": [
    "print(\"Best estimator:\", gs_gbc.best_estimator_)\n",
    "print(\"Best params:\", gs_gbc.best_params_)\n",
    "print(\"Best score:\", gs_gbc.best_score_)"
   ]
  }
 ],
 "metadata": {
  "kernelspec": {
   "display_name": "Python 3",
   "language": "python",
   "name": "python3"
  },
  "language_info": {
   "codemirror_mode": {
    "name": "ipython",
    "version": 3
   },
   "file_extension": ".py",
   "mimetype": "text/x-python",
   "name": "python",
   "nbconvert_exporter": "python",
   "pygments_lexer": "ipython3",
   "version": "3.8.3"
  }
 },
 "nbformat": 4,
 "nbformat_minor": 4
}
